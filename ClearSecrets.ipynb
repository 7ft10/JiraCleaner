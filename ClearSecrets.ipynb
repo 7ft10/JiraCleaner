{
 "cells": [
  {
   "cell_type": "code",
   "execution_count": null,
   "metadata": {},
   "outputs": [],
   "source": [
    "# Library Import\n",
    "\n",
    "import os \n",
    "import importlib.util\n",
    "\n",
    "if importlib.util.find_spec(\"ipython-secrets\") is None:\t\n",
    "\tos.system(\"pip3 install ipython-secrets\")\n",
    "\n",
    "if importlib.util.find_spec(\"gsheet-keyring\") is None:\t\n",
    "\tos.system(\"pip3 install gsheet-keyring\")\t"
   ]
  },
  {
   "cell_type": "code",
   "execution_count": null,
   "metadata": {},
   "outputs": [],
   "source": [
    "# Delete secrets \n",
    "\n",
    "from ipython_secrets import delete_secret\n",
    "\n",
    "delete_secret('SECRETS_HOST') \n",
    "delete_secret('SECRETS_USERNAME') \n",
    "delete_secret('SECRETS_PASSWORD') \n",
    "\n",
    "display(\"Done\")"
   ]
  }
 ],
 "metadata": {
  "language_info": {
   "name": "python"
  },
  "orig_nbformat": 4
 },
 "nbformat": 4,
 "nbformat_minor": 2
}
