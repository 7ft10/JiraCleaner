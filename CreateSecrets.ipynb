{
 "cells": [
  {
   "cell_type": "markdown",
   "metadata": {},
   "source": [
    "<a href=\"https://colab.research.google.com/github/7ft10/JiraCleaner/blob/main/CreateSecrets.ipynb\" target=\"_parent\"><img src=\"https://colab.research.google.com/assets/colab-badge.svg\" alt=\"Open In Colab\"/></a>"
   ]
  },
  {
   "cell_type": "code",
   "execution_count": 1,
   "metadata": {},
   "outputs": [],
   "source": [
    "#! Library Import\n",
    "\n",
    "import os \n",
    "import importlib.util\n",
    "\n",
    "if importlib.util.find_spec(\"pandas\") is None:\t\n",
    "\tos.system(\"pip install pandas\")\n",
    "\n",
    "if importlib.util.find_spec(\"dotenv\") is None:\t\n",
    "\tos.system(\"pip install --quiet openai python-dotenv\")"
   ]
  },
  {
   "cell_type": "code",
   "execution_count": 2,
   "metadata": {},
   "outputs": [
    {
     "data": {
      "text/plain": [
       "'Secrets loaded successfully'"
      ]
     },
     "metadata": {},
     "output_type": "display_data"
    }
   ],
   "source": [
    "#! Load Secrets \n",
    "\n",
    "import os\n",
    "import importlib.util\n",
    "from dotenv import load_dotenv\n",
    "\n",
    "if importlib.util.find_spec(\"google.colab\") is not None: ## if using google colab\n",
    "    if not os.path.exists('.env'):\n",
    "        from google.colab import files\n",
    "        uploaded = files.upload()\n",
    "        file_name = list(uploaded.keys())[0]\n",
    "        try:\n",
    "            os.rename(file_name, '.env')\n",
    "        except:\n",
    "            pass\n",
    "    \n",
    "# Load variables from .env file\n",
    "load_dotenv('.env')\n",
    "\n",
    "Host = os.getenv('SECRETS_HOST') \n",
    "Username = os.getenv('SECRETS_USERNAME') \n",
    "Password = os.getenv('SECRETS_PASSWORD') \n",
    "\n",
    "display(\"Secrets loaded successfully\")"
   ]
  },
  {
   "cell_type": "code",
   "execution_count": 4,
   "metadata": {},
   "outputs": [
    {
     "name": "stdout",
     "output_type": "stream",
     "text": [
      "https://governance.atlassian.net/ mike.burns@strategenics.com.au ATATT3xFfGF07CYm1NWAef5c_158WCyf7FMfHheLJA4FGQb1MHWMte8u0gFQWA28bI-R2FuT_6tLQ6tbp5QsHOy3DvaITzXklUclO4a6Rk0jFqSP0ikHxqpSKqu__4Tmmtn2d-uE1-Juq5ErxMJ2luHtTpkPoUw0dDPj4yFuB-yGEkPD9LKFCNU=83737675\n"
     ]
    },
    {
     "ename": "JIRAError",
     "evalue": "JiraError HTTP 401 url: https://governance.atlassian.net/rest/api/latest/myself\n\ttext: Client must be authenticated to access this resource.\n\t\n\tresponse headers = {'Date': 'Tue, 22 Aug 2023 00:00:01 GMT', 'Content-Type': 'application/json;charset=UTF-8', 'Server': 'AtlassianEdge', 'Timing-Allow-Origin': '*', 'X-Arequestid': '62fcdaaacee91bac34b34db2beea9d8c', 'X-Seraph-Loginreason': 'AUTHENTICATED_FAILED', 'Cache-Control': 'no-transform', 'Vary': 'Accept', 'Www-Authenticate': 'OAuth realm=\"https%3A%2F%2Fgovernance.atlassian.net\"', 'X-Content-Type-Options': 'nosniff', 'X-Xss-Protection': '1; mode=block', 'Atl-Traceid': 'ba2c78122d78d20d', 'Report-To': '{\"endpoints\": [{\"url\": \"https://dz8aopenkvv6s.cloudfront.net\"}], \"group\": \"endpoint-1\", \"include_subdomains\": true, \"max_age\": 600}', 'Nel': '{\"failure_fraction\": 0.001, \"include_subdomains\": true, \"max_age\": 600, \"report_to\": \"endpoint-1\"}', 'Strict-Transport-Security': 'max-age=63072000; includeSubDomains; preload', 'Transfer-Encoding': 'chunked'}\n\tresponse text = {\"message\":\"Client must be authenticated to access this resource.\",\"status-code\":401}",
     "output_type": "error",
     "traceback": [
      "\u001b[0;31m---------------------------------------------------------------------------\u001b[0m",
      "\u001b[0;31mJIRAError\u001b[0m                                 Traceback (most recent call last)",
      "Cell \u001b[0;32mIn[4], line 8\u001b[0m\n\u001b[1;32m      4\u001b[0m \u001b[39mprint\u001b[39m (Host, Username, Password)\n\u001b[1;32m      6\u001b[0m jira \u001b[39m=\u001b[39m JIRA(server\u001b[39m=\u001b[39mHost, basic_auth\u001b[39m=\u001b[39m(Username, Password), options\u001b[39m=\u001b[39m{\u001b[39m\"\u001b[39m\u001b[39mrest_api_version\u001b[39m\u001b[39m\"\u001b[39m:\u001b[39m\"\u001b[39m\u001b[39mlatest\u001b[39m\u001b[39m\"\u001b[39m})\n\u001b[0;32m----> 8\u001b[0m myself \u001b[39m=\u001b[39m jira\u001b[39m.\u001b[39;49mmyself()\n\u001b[1;32m     10\u001b[0m \u001b[39mprint\u001b[39m(myself)\n",
      "File \u001b[0;32m/Library/Frameworks/Python.framework/Versions/3.11/lib/python3.11/site-packages/jira/client.py:3135\u001b[0m, in \u001b[0;36mJIRA.myself\u001b[0;34m(self)\u001b[0m\n\u001b[1;32m   3129\u001b[0m \u001b[39mdef\u001b[39;00m \u001b[39mmyself\u001b[39m(\u001b[39mself\u001b[39m) \u001b[39m-\u001b[39m\u001b[39m>\u001b[39m \u001b[39mdict\u001b[39m[\u001b[39mstr\u001b[39m, Any]:\n\u001b[1;32m   3130\u001b[0m \u001b[39m    \u001b[39m\u001b[39m\"\"\"Get a dict of server information for this Jira instance.\u001b[39;00m\n\u001b[1;32m   3131\u001b[0m \n\u001b[1;32m   3132\u001b[0m \u001b[39m    Returns:\u001b[39;00m\n\u001b[1;32m   3133\u001b[0m \u001b[39m        Dict[str, Any]\u001b[39;00m\n\u001b[1;32m   3134\u001b[0m \u001b[39m    \"\"\"\u001b[39;00m\n\u001b[0;32m-> 3135\u001b[0m     \u001b[39mreturn\u001b[39;00m \u001b[39mself\u001b[39;49m\u001b[39m.\u001b[39;49m_get_json(\u001b[39m\"\u001b[39;49m\u001b[39mmyself\u001b[39;49m\u001b[39m\"\u001b[39;49m)\n",
      "File \u001b[0;32m/Library/Frameworks/Python.framework/Versions/3.11/lib/python3.11/site-packages/jira/client.py:3853\u001b[0m, in \u001b[0;36mJIRA._get_json\u001b[0;34m(self, path, params, base)\u001b[0m\n\u001b[1;32m   3842\u001b[0m \u001b[39m\u001b[39m\u001b[39m\"\"\"Get the json for a given path and params.\u001b[39;00m\n\u001b[1;32m   3843\u001b[0m \n\u001b[1;32m   3844\u001b[0m \u001b[39mArgs:\u001b[39;00m\n\u001b[0;32m   (...)\u001b[0m\n\u001b[1;32m   3850\u001b[0m \u001b[39m    Union[Dict[str, Any], List[Dict[str, str]]]\u001b[39;00m\n\u001b[1;32m   3851\u001b[0m \u001b[39m\"\"\"\u001b[39;00m\n\u001b[1;32m   3852\u001b[0m url \u001b[39m=\u001b[39m \u001b[39mself\u001b[39m\u001b[39m.\u001b[39m_get_url(path, base)\n\u001b[0;32m-> 3853\u001b[0m r \u001b[39m=\u001b[39m \u001b[39mself\u001b[39;49m\u001b[39m.\u001b[39;49m_session\u001b[39m.\u001b[39;49mget(url, params\u001b[39m=\u001b[39;49mparams)\n\u001b[1;32m   3854\u001b[0m \u001b[39mtry\u001b[39;00m:\n\u001b[1;32m   3855\u001b[0m     r_json \u001b[39m=\u001b[39m json_loads(r)\n",
      "File \u001b[0;32m/Library/Frameworks/Python.framework/Versions/3.11/lib/python3.11/site-packages/requests/sessions.py:602\u001b[0m, in \u001b[0;36mSession.get\u001b[0;34m(self, url, **kwargs)\u001b[0m\n\u001b[1;32m    594\u001b[0m \u001b[39m\u001b[39m\u001b[39mr\u001b[39m\u001b[39m\"\"\"Sends a GET request. Returns :class:`Response` object.\u001b[39;00m\n\u001b[1;32m    595\u001b[0m \n\u001b[1;32m    596\u001b[0m \u001b[39m:param url: URL for the new :class:`Request` object.\u001b[39;00m\n\u001b[1;32m    597\u001b[0m \u001b[39m:param \\*\\*kwargs: Optional arguments that ``request`` takes.\u001b[39;00m\n\u001b[1;32m    598\u001b[0m \u001b[39m:rtype: requests.Response\u001b[39;00m\n\u001b[1;32m    599\u001b[0m \u001b[39m\"\"\"\u001b[39;00m\n\u001b[1;32m    601\u001b[0m kwargs\u001b[39m.\u001b[39msetdefault(\u001b[39m\"\u001b[39m\u001b[39mallow_redirects\u001b[39m\u001b[39m\"\u001b[39m, \u001b[39mTrue\u001b[39;00m)\n\u001b[0;32m--> 602\u001b[0m \u001b[39mreturn\u001b[39;00m \u001b[39mself\u001b[39;49m\u001b[39m.\u001b[39;49mrequest(\u001b[39m\"\u001b[39;49m\u001b[39mGET\u001b[39;49m\u001b[39m\"\u001b[39;49m, url, \u001b[39m*\u001b[39;49m\u001b[39m*\u001b[39;49mkwargs)\n",
      "File \u001b[0;32m/Library/Frameworks/Python.framework/Versions/3.11/lib/python3.11/site-packages/jira/resilientsession.py:246\u001b[0m, in \u001b[0;36mResilientSession.request\u001b[0;34m(self, method, url, _prepare_retry_class, **kwargs)\u001b[0m\n\u001b[1;32m    243\u001b[0m \u001b[39mif\u001b[39;00m exception \u001b[39mis\u001b[39;00m \u001b[39mnot\u001b[39;00m \u001b[39mNone\u001b[39;00m:\n\u001b[1;32m    244\u001b[0m     \u001b[39m# We got an exception we could not recover from\u001b[39;00m\n\u001b[1;32m    245\u001b[0m     \u001b[39mraise\u001b[39;00m exception\n\u001b[0;32m--> 246\u001b[0m \u001b[39melif\u001b[39;00m raise_on_error(response, \u001b[39m*\u001b[39;49m\u001b[39m*\u001b[39;49mprocessed_kwargs):\n\u001b[1;32m    247\u001b[0m     \u001b[39m# raise_on_error will raise an exception if the response is invalid\u001b[39;00m\n\u001b[1;32m    248\u001b[0m     \u001b[39mreturn\u001b[39;00m response\n\u001b[1;32m    249\u001b[0m \u001b[39melse\u001b[39;00m:\n\u001b[1;32m    250\u001b[0m     \u001b[39m# Shouldn't reach here...(but added for mypy's benefit)\u001b[39;00m\n",
      "File \u001b[0;32m/Library/Frameworks/Python.framework/Versions/3.11/lib/python3.11/site-packages/jira/resilientsession.py:71\u001b[0m, in \u001b[0;36mraise_on_error\u001b[0;34m(resp, **kwargs)\u001b[0m\n\u001b[1;32m     68\u001b[0m \u001b[39mif\u001b[39;00m \u001b[39mnot\u001b[39;00m resp\u001b[39m.\u001b[39mok:\n\u001b[1;32m     69\u001b[0m     error \u001b[39m=\u001b[39m parse_error_msg(resp\u001b[39m=\u001b[39mresp)\n\u001b[0;32m---> 71\u001b[0m     \u001b[39mraise\u001b[39;00m JIRAError(\n\u001b[1;32m     72\u001b[0m         error,\n\u001b[1;32m     73\u001b[0m         status_code\u001b[39m=\u001b[39mresp\u001b[39m.\u001b[39mstatus_code,\n\u001b[1;32m     74\u001b[0m         url\u001b[39m=\u001b[39mresp\u001b[39m.\u001b[39murl,\n\u001b[1;32m     75\u001b[0m         request\u001b[39m=\u001b[39mrequest,\n\u001b[1;32m     76\u001b[0m         response\u001b[39m=\u001b[39mresp,\n\u001b[1;32m     77\u001b[0m         \u001b[39m*\u001b[39m\u001b[39m*\u001b[39mkwargs,\n\u001b[1;32m     78\u001b[0m     )\n\u001b[1;32m     80\u001b[0m \u001b[39mreturn\u001b[39;00m \u001b[39mTrue\u001b[39;00m\n",
      "\u001b[0;31mJIRAError\u001b[0m: JiraError HTTP 401 url: https://governance.atlassian.net/rest/api/latest/myself\n\ttext: Client must be authenticated to access this resource.\n\t\n\tresponse headers = {'Date': 'Tue, 22 Aug 2023 00:00:01 GMT', 'Content-Type': 'application/json;charset=UTF-8', 'Server': 'AtlassianEdge', 'Timing-Allow-Origin': '*', 'X-Arequestid': '62fcdaaacee91bac34b34db2beea9d8c', 'X-Seraph-Loginreason': 'AUTHENTICATED_FAILED', 'Cache-Control': 'no-transform', 'Vary': 'Accept', 'Www-Authenticate': 'OAuth realm=\"https%3A%2F%2Fgovernance.atlassian.net\"', 'X-Content-Type-Options': 'nosniff', 'X-Xss-Protection': '1; mode=block', 'Atl-Traceid': 'ba2c78122d78d20d', 'Report-To': '{\"endpoints\": [{\"url\": \"https://dz8aopenkvv6s.cloudfront.net\"}], \"group\": \"endpoint-1\", \"include_subdomains\": true, \"max_age\": 600}', 'Nel': '{\"failure_fraction\": 0.001, \"include_subdomains\": true, \"max_age\": 600, \"report_to\": \"endpoint-1\"}', 'Strict-Transport-Security': 'max-age=63072000; includeSubDomains; preload', 'Transfer-Encoding': 'chunked'}\n\tresponse text = {\"message\":\"Client must be authenticated to access this resource.\",\"status-code\":401}"
     ]
    }
   ],
   "source": [
    "#! Test \n",
    "from jira import JIRA\n",
    "\n",
    "print (Host, Username, Password)\n",
    "\n",
    "jira = JIRA(server=Host, basic_auth=(Username, Password), options={\"rest_api_version\":\"latest\"})\n",
    "\n",
    "myself = jira.myself()\n",
    "\n",
    "print(myself)"
   ]
  }
 ],
 "metadata": {
  "kernelspec": {
   "display_name": "Python 3",
   "language": "python",
   "name": "python3"
  },
  "language_info": {
   "codemirror_mode": {
    "name": "ipython",
    "version": 3
   },
   "file_extension": ".py",
   "mimetype": "text/x-python",
   "name": "python",
   "nbconvert_exporter": "python",
   "pygments_lexer": "ipython3",
   "version": "3.11.4"
  },
  "orig_nbformat": 4
 },
 "nbformat": 4,
 "nbformat_minor": 2
}
