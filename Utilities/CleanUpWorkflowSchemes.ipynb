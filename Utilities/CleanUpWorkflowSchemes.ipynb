{
 "cells": [
  {
   "cell_type": "markdown",
   "metadata": {},
   "source": [
    "<a href=\"https://colab.research.google.com/github/7ft10/JiraCleaner/blob/main/Utilities/CleanUpWorkflowSchemes.ipynb\" target=\"_parent\"><img src=\"https://colab.research.google.com/assets/colab-badge.svg\" alt=\"Open In Colab\"/></a>"
   ]
  },
  {
   "cell_type": "code",
   "execution_count": 2,
   "metadata": {},
   "outputs": [],
   "source": [
    "#! Library Import\n",
    "\n",
    "import os \n",
    "import importlib.util\n",
    "\n",
    "if importlib.util.find_spec(\"pandas\") is None:\t\n",
    "\tos.system(\"pip install pandas\")\n",
    "\n",
    "if importlib.util.find_spec(\"dotenv\") is None:\t\n",
    "\tos.system(\"pip3 install dotenv\")"
   ]
  },
  {
   "cell_type": "code",
   "execution_count": 3,
   "metadata": {},
   "outputs": [],
   "source": [
    "#! Parameters\n",
    "\n",
    "import os \n",
    "import dotenv\n",
    "\n",
    "dotenv.load_dotenv('.env')\n",
    "\n",
    "Host = os.getenv('SECRETS_HOST') \n",
    "Username = os.getenv('SECRETS_USERNAME') \n",
    "Password = os.getenv('SECRETS_PASSWORD') \n",
    "ValidProjectCategories = [\"'Customer Delivery Projects'\"]"
   ]
  },
  {
   "cell_type": "code",
   "execution_count": 3,
   "metadata": {},
   "outputs": [],
   "source": [
    "#! Create classes missing from library\n",
    "\n",
    "from jira.resources import Resource\n",
    "from typing import Any, Dict, cast\n",
    "\n",
    "class Workflow(Resource):\n",
    "    \"\"\"Workflow information.\"\"\"\n",
    "\n",
    "    def __init__(self, options, session, raw=None):\n",
    "        Resource.__init__(\n",
    "            self, \"workflow/{0}\", options, session\n",
    "        )\n",
    "        if raw:\n",
    "            self._parse_raw(raw)\n",
    "        self.raw: dict[str, Any] = cast(Dict[str, Any], self.raw)\n",
    "\n",
    "class Screen(Resource):\n",
    "    \"\"\"Screen information.\"\"\"\n",
    "\n",
    "    def __init__(self, options, session, raw=None):\n",
    "        Resource.__init__(\n",
    "            self, \"screens/{0}\", options, session\n",
    "        )\n",
    "        if raw:\n",
    "            self._parse_raw(raw)\n",
    "        self.raw: dict[str, Any] = cast(Dict[str, Any], self.raw)\n",
    "\n",
    "class ScreenScheme(Resource):\n",
    "    \"\"\"Screen Scheme information.\"\"\"\n",
    "\n",
    "    def __init__(self, options, session, raw=None):\n",
    "        Resource.__init__(\n",
    "            self, \"screenscheme/{0}\", options, session\n",
    "        )\n",
    "        if raw:\n",
    "            self._parse_raw(raw)\n",
    "        self.raw: dict[str, Any] = cast(Dict[str, Any], self.raw)\n",
    "\n",
    "class IssueTypeScreenScheme(Resource):\n",
    "    \"\"\"Issue Type Screen Scheme information.\"\"\"\n",
    "\n",
    "    def __init__(self, options, session, raw=None):\n",
    "        Resource.__init__(\n",
    "            self, \"issuetypescreenscheme/{0}\", options, session\n",
    "        )\n",
    "        if raw:\n",
    "            self._parse_raw(raw)\n",
    "        self.raw: dict[str, Any] = cast(Dict[str, Any], self.raw)\n",
    "\n",
    "class FieldConfigurationScheme(Resource):\n",
    "    \"\"\"Field Configuration Scheme information.\"\"\"\n",
    "\n",
    "    def __init__(self, options, session, raw=None):\n",
    "        Resource.__init__(\n",
    "            self, \"fieldconfigurationschemes/{0}\", options, session\n",
    "        )\n",
    "        if raw:\n",
    "            self._parse_raw(raw)\n",
    "        self.raw: dict[str, Any] = cast(Dict[str, Any], self.raw)\n",
    "\n",
    "class FieldConfiguration(Resource):\n",
    "    \"\"\"Field Configuration information.\"\"\"\n",
    "\n",
    "    def __init__(self, options, session, raw=None):\n",
    "        Resource.__init__(\n",
    "            self, \"fieldconfiguration/{0}\", options, session\n",
    "        )\n",
    "        if raw:\n",
    "            self._parse_raw(raw)\n",
    "        self.raw: dict[str, Any] = cast(Dict[str, Any], self.raw)\n"
   ]
  },
  {
   "cell_type": "code",
   "execution_count": 15,
   "metadata": {},
   "outputs": [
    {
     "name": "stdout",
     "output_type": "stream",
     "text": [
      "Clean!\n"
     ]
    }
   ],
   "source": [
    "#! Clean up workflow schemes\n",
    "from jira import JIRA\n",
    "from jira.resources import WorkflowScheme\n",
    "    \n",
    "jira = JIRA(server=baseUrl, basic_auth=auth, options={\"rest_api_version\":\"latest\"})\n",
    "\n",
    "workflowschemes = jira._fetch_pages(WorkflowScheme, \"values\", \"workflowscheme\", maxResults = False)\n",
    "\n",
    "removedWs = 0\n",
    "\n",
    "for ws in workflowschemes:\n",
    "    url = jira._get_url(f\"workflowscheme/{ws.id}\")\n",
    "    #print (url)\n",
    "    try:\n",
    "        jira._session.delete(url)\n",
    "        #print (f\"Deleted workflowscheme: {ws.name}\")\n",
    "        removedWs = removedWs + 1\n",
    "    except Exception as ex: \n",
    "        pass\n",
    "\n",
    "if removedWs > 0:\n",
    "    print (f\"Removed {removedWs} out of {workflowschemes.total}\")\n",
    "else:\n",
    "    print (\"Clean!\")\n"
   ]
  },
  {
   "cell_type": "code",
   "execution_count": 5,
   "metadata": {},
   "outputs": [
    {
     "name": "stdout",
     "output_type": "stream",
     "text": [
      "Clean!\n"
     ]
    }
   ],
   "source": [
    "#!  Clean up workflows\n",
    "\n",
    "from jira import JIRA\n",
    "\n",
    "jira = JIRA(server=baseUrl, basic_auth=auth, options={\"rest_api_version\":\"latest\"})\n",
    "\n",
    "workflows = jira._fetch_pages(Workflow, \"values\", \"workflow/search\", maxResults = False)\n",
    "\n",
    "removedWfs = 0\n",
    "\n",
    "for wf in workflows:\n",
    "    url = jira._get_url(f\"workflow/{wf.id.entityId}\")\n",
    "    #print (url)\n",
    "    try:\n",
    "        jira._session.delete(url)\n",
    "        #print (f\"Deleted workflowscheme: {wf.id.entityId}\")\n",
    "        removedWfs = removedWfs + 1\n",
    "    except Exception as ex: \n",
    "        pass\n",
    "\n",
    "if removedWfs > 0:\n",
    "    print (f\"Removed {removedWfs} out of {workflows.total}\")\n",
    "else:\n",
    "    print (\"Clean!\")"
   ]
  },
  {
   "cell_type": "code",
   "execution_count": 6,
   "metadata": {},
   "outputs": [
    {
     "name": "stdout",
     "output_type": "stream",
     "text": [
      "Clean!\n"
     ]
    }
   ],
   "source": [
    "#!  Clean up issue type screen schemes\n",
    "\n",
    "from jira import JIRA\n",
    "\n",
    "jira = JIRA(server=baseUrl, basic_auth=auth, options={\"rest_api_version\":\"latest\"})\n",
    "\n",
    "issuetypescreenschemes = jira._fetch_pages(IssueTypeScreenScheme, \"values\", \"issuetypescreenscheme\", maxResults = False)\n",
    "\n",
    "removed_issuetypescreenschemes = 0\n",
    "\n",
    "for ss in issuetypescreenschemes:\n",
    "    url = jira._get_url(f\"issuetypescreenscheme/{ss.id}\")\n",
    "    try:\n",
    "        jira._session.delete(url)\n",
    "        #print (f\"Deleted issuetypescreenscheme: {ss.id}\")\n",
    "        removed_issuetypescreenschemes = removed_issuetypescreenschemes + 1\n",
    "    except Exception as ex: \n",
    "        pass\n",
    "\n",
    "if removed_issuetypescreenschemes > 0:\n",
    "    print (f\"Removed {removed_issuetypescreenschemes} out of {issuetypescreenschemes.total}\")\n",
    "else:\n",
    "    print (\"Clean!\")"
   ]
  },
  {
   "cell_type": "code",
   "execution_count": 7,
   "metadata": {},
   "outputs": [
    {
     "name": "stdout",
     "output_type": "stream",
     "text": [
      "Clean!\n"
     ]
    }
   ],
   "source": [
    "#!  Clean up screen schemes\n",
    "\n",
    "from jira import JIRA\n",
    "\n",
    "jira = JIRA(server=baseUrl, basic_auth=auth, options={\"rest_api_version\":\"latest\"})\n",
    "\n",
    "screenschemes = jira._fetch_pages(ScreenScheme, \"values\", \"screenscheme\", maxResults = False)\n",
    "\n",
    "removed_screenschemes = 0\n",
    "\n",
    "for ss in screenschemes:\n",
    "    url = jira._get_url(f\"screenscheme/{ss.id}\")\n",
    "    try:\n",
    "        jira._session.delete(url)\n",
    "        #print (f\"Deleted screenscheme: {ss.id}\")\n",
    "        removed_screenschemes = removed_screenschemes + 1\n",
    "    except Exception as ex: \n",
    "        pass\n",
    "\n",
    "if removed_screenschemes > 0:\n",
    "    print (f\"Removed {removed_screenschemes} out of {screenschemes.total}\")\n",
    "else:\n",
    "    print (\"Clean!\")"
   ]
  },
  {
   "cell_type": "code",
   "execution_count": 8,
   "metadata": {
    "tags": []
   },
   "outputs": [
    {
     "name": "stdout",
     "output_type": "stream",
     "text": [
      "Clean!\n"
     ]
    }
   ],
   "source": [
    "#!  Clean up screens\n",
    "\n",
    "from jira import JIRA\n",
    "\n",
    "jira = JIRA(server=baseUrl, basic_auth=auth, options={\"rest_api_version\":\"latest\"})\n",
    "\n",
    "screens = jira._fetch_pages(Screen, \"values\", \"screens\", maxResults = False)\n",
    "\n",
    "removedSc = 0\n",
    "\n",
    "for sc in screens:\n",
    "    url = jira._get_url(f\"screens/{sc.id}\")\n",
    "    #print (url)\n",
    "    try:\n",
    "        jira._session.delete(url)\n",
    "        #print (f\"Deleted screen: {sc.id}\")\n",
    "        removedSc = removedSc + 1\n",
    "    except Exception as ex: \n",
    "        pass\n",
    "\n",
    "if removedSc > 0:\n",
    "    print (f\"Removed {removedSc} out of {screens.total}\")\n",
    "else:\n",
    "    print (\"Clean!\")"
   ]
  },
  {
   "cell_type": "code",
   "execution_count": 9,
   "metadata": {},
   "outputs": [
    {
     "name": "stdout",
     "output_type": "stream",
     "text": [
      "Clean!\n"
     ]
    }
   ],
   "source": [
    "#!  Clean up field configurations\n",
    "\n",
    "from jira import JIRA\n",
    "\n",
    "jira = JIRA(server=baseUrl, basic_auth=auth, options={\"rest_api_version\":\"latest\"})\n",
    "\n",
    "fieldconfigurations = jira._fetch_pages(FieldConfiguration, \"values\", \"fieldconfiguration\", maxResults = False)\n",
    "\n",
    "removedFC = 0\n",
    "\n",
    "for fc in fieldconfigurations:\n",
    "    url = jira._get_url(f\"fieldconfiguration/{fc.id}\")\n",
    "    #print (fc)\n",
    "    try:\n",
    "        jira._session.delete(url)\n",
    "        #print (f\"Deleted screen: {fc.id}\")\n",
    "        removedFC = removedFC + 1\n",
    "    except Exception as ex: \n",
    "        pass\n",
    "\n",
    "if removedFC > 0:\n",
    "    print (f\"Removed {removedFC} out of {fieldconfigurations.total}\")\n",
    "else:\n",
    "    print (\"Clean!\")"
   ]
  },
  {
   "cell_type": "code",
   "execution_count": 10,
   "metadata": {},
   "outputs": [
    {
     "name": "stdout",
     "output_type": "stream",
     "text": [
      "Clean!\n"
     ]
    }
   ],
   "source": [
    "#!  Clean up field configuration schemes\n",
    "\n",
    "from jira import JIRA\n",
    "\n",
    "jira = JIRA(server=baseUrl, basic_auth=auth, options={\"rest_api_version\":\"latest\"})\n",
    "\n",
    "fieldconfigurationschemes = jira._fetch_pages(FieldConfigurationScheme, \"values\", \"fieldconfigurationscheme\", maxResults = False)\n",
    "\n",
    "removedFCS = 0\n",
    "\n",
    "for fc in fieldconfigurationschemes:\n",
    "    url = jira._get_url(f\"fieldconfigurationscheme/{fc.id}\")\n",
    "    #print (fc)\n",
    "    try:\n",
    "        jira._session.delete(url)\n",
    "        #print (f\"Deleted screen: {fc.id}\")\n",
    "        removedFCS = removedFCS + 1\n",
    "    except Exception as ex: \n",
    "        pass\n",
    "\n",
    "if removedFCS > 0:\n",
    "    print (f\"Removed {removedFCS} out of {fieldconfigurationschemes.total}\")\n",
    "else:\n",
    "    print (\"Clean!\")"
   ]
  },
  {
   "cell_type": "code",
   "execution_count": 11,
   "metadata": {},
   "outputs": [
    {
     "name": "stdout",
     "output_type": "stream",
     "text": [
      "Clean!\n"
     ]
    }
   ],
   "source": [
    "#!  Clean up statuses\n",
    "\n",
    "from jira import JIRA\n",
    "from jira.resources import Status\n",
    "\n",
    "jira = JIRA(server=baseUrl, basic_auth=auth, options={\"rest_api_version\":\"latest\"})\n",
    "\n",
    "statuses = jira._fetch_pages(Status, \"values\", \"statuses/search\", maxResults = False)\n",
    "\n",
    "removedStatuses = 0\n",
    "\n",
    "for st in statuses:\n",
    "    url = jira._get_url(f\"statuses?id={st.id}\")\n",
    "    #print (url)\n",
    "    try:\n",
    "        jira._session.delete(url)\n",
    "        #print (f\"Deleted status: {st.id}\")\n",
    "        removedStatuses = removedStatuses + 1\n",
    "    except Exception as ex: \n",
    "        pass\n",
    "\n",
    "if removedStatuses > 0:\n",
    "    print (f\"Removed {removedStatuses} out of {statuses.total}\")\n",
    "else:\n",
    "    print (\"Clean!\")"
   ]
  },
  {
   "cell_type": "code",
   "execution_count": 12,
   "metadata": {},
   "outputs": [
    {
     "name": "stdout",
     "output_type": "stream",
     "text": [
      "Clean!\n"
     ]
    }
   ],
   "source": [
    "#!  Clean up issue security schemes\n",
    "\n",
    "from jira import JIRA\n",
    "from jira.resources import IssueSecurityLevelScheme\n",
    "\n",
    "jira = JIRA(server=baseUrl, basic_auth=auth, options={\"rest_api_version\":\"latest\"})\n",
    "\n",
    "issueSecurityLevelSchemes = jira._fetch_pages(IssueSecurityLevelScheme, \"values\", \"issuesecurityschemes/search\", maxResults = False)\n",
    "\n",
    "removedSchemes = 0\n",
    "\n",
    "for isls in issueSecurityLevelSchemes:\n",
    "    url = jira._get_url(f\"issuesecurityschemes/{isls.id}\")\n",
    "    #print (url)\n",
    "    try:\n",
    "        jira._session.delete(url)\n",
    "        #print (f\"Deleted status: {isls.id}\")\n",
    "        removedSchemes = removedSchemes + 1\n",
    "    except Exception as ex: \n",
    "        pass\n",
    "\n",
    "if removedSchemes > 0:\n",
    "    print (f\"Removed {removedSchemes} out of {issueSecurityLevelSchemes.total}\")\n",
    "else:\n",
    "    print (\"Clean!\")"
   ]
  },
  {
   "cell_type": "code",
   "execution_count": 13,
   "metadata": {},
   "outputs": [
    {
     "name": "stdout",
     "output_type": "stream",
     "text": [
      "Clean!\n"
     ]
    }
   ],
   "source": [
    "#!  Clean up notification schemes\n",
    "\n",
    "from jira import JIRA\n",
    "from jira.resources import NotificationScheme\n",
    "\n",
    "jira = JIRA(server=baseUrl, basic_auth=auth, options={\"rest_api_version\":\"latest\"})\n",
    "\n",
    "notificationSchemes = jira._fetch_pages(NotificationScheme, \"values\", \"notificationscheme\", maxResults = False)\n",
    "\n",
    "removedSchemes = 0\n",
    "\n",
    "for ns in notificationSchemes:\n",
    "    url = jira._get_url(f\"notificationscheme/{ns.id}\")\n",
    "    #print (url)\n",
    "    try:\n",
    "        jira._session.delete(url)\n",
    "        #print (f\"Deleted status: {ns.id}\")\n",
    "        removedSchemes = removedSchemes + 1\n",
    "    except Exception as ex: \n",
    "        pass\n",
    "\n",
    "if removedSchemes > 0:\n",
    "    print (f\"Removed {removedSchemes} out of {notificationSchemes.total}\")\n",
    "else:\n",
    "    print (\"Clean!\")"
   ]
  }
 ],
 "metadata": {
  "kernelspec": {
   "display_name": "Python 3",
   "language": "python",
   "name": "python3"
  },
  "language_info": {
   "codemirror_mode": {
    "name": "ipython",
    "version": 3
   },
   "file_extension": ".py",
   "mimetype": "text/x-python",
   "name": "python",
   "nbconvert_exporter": "python",
   "pygments_lexer": "ipython3",
   "version": "3.11.4"
  },
  "orig_nbformat": 4
 },
 "nbformat": 4,
 "nbformat_minor": 2
}
