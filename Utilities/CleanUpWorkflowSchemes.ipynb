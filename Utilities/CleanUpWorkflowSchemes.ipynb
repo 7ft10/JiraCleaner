{
 "cells": [
  {
   "cell_type": "markdown",
   "metadata": {},
   "source": [
    "<a href=\"https://colab.research.google.com/github/7ft10/JiraCleaner/blob/main/Utilities/CleanUpWorkflowSchemes.ipynb\" target=\"_parent\"><img src=\"https://colab.research.google.com/assets/colab-badge.svg\" alt=\"Open In Colab\"/></a>"
   ]
  },
  {
   "cell_type": "code",
   "execution_count": 17,
   "metadata": {
    "notebookRunGroups": {
     "groupValue": "1"
    }
   },
   "outputs": [],
   "source": [
    "#! Install library\n",
    "import os\n",
    "import importlib.util\n",
    "\n",
    "if importlib.util.find_spec(\"pandas\") is None:\n",
    "\tos.system(\"pip install pandas\")\n",
    "\n",
    "if importlib.util.find_spec(\"ipython-secrets\") is None:\n",
    "\tos.system(\"pip3 install ipython-secrets\")\n",
    "\n",
    "if importlib.util.find_spec(\"gsheet-keyring\") is None:\n",
    "\tos.system(\"pip3 install gsheet-keyring\")"
   ]
  },
  {
   "cell_type": "code",
   "execution_count": 18,
   "metadata": {
    "notebookRunGroups": {
     "groupValue": "2"
    }
   },
   "outputs": [
    {
     "data": {
      "text/plain": [
       "'Jira Host: https://autogeneral-au.atlassian.net/'"
      ]
     },
     "metadata": {},
     "output_type": "display_data"
    }
   ],
   "source": [
    "#! Authentication details\n",
    "import os\n",
    "import dotenv\n",
    "\n",
    "JiraHost = None\n",
    "Username = None\n",
    "Password = None\n",
    "\n",
    "try:\n",
    "    dotenv.load_dotenv('../.env', override=True)\n",
    "\n",
    "    JiraHost = os.getenv('SECRETS_HOST')\n",
    "    Username = os.getenv('SECRETS_USERNAME')\n",
    "    Password = os.getenv('SECRETS_PASSWORD')\n",
    "except:\n",
    "    display(\"trouble loading dot env\")\n",
    "    pass\n",
    "\n",
    "if JiraHost is None or JiraHost == \"\":\n",
    "    JiraHost = input(\"Enter Jira Host\")\n",
    "\n",
    "if Username is None or Username == \"\":\n",
    "    Username = input(\"Enter Username\")\n",
    "\n",
    "if Password is None or Password == \"\":\n",
    "    Password = input(\"Enter Password\")\n",
    "\n",
    "display(\"Jira Host: \" + JiraHost)\n",
    "\n",
    "import os\n",
    "import dotenv\n",
    "import importlib.util\n",
    "\n",
    "baseUrl = JiraHost\n",
    "auth = (Username, Password)"
   ]
  },
  {
   "cell_type": "code",
   "execution_count": 19,
   "metadata": {},
   "outputs": [],
   "source": [
    "#! Create classes missing from library\n",
    "\n",
    "from jira.resources import Resource\n",
    "from typing import Any, Dict, cast\n",
    "\n",
    "class Workflow(Resource):\n",
    "    \"\"\"Workflow information.\"\"\"\n",
    "\n",
    "    def __init__(self, options, session, raw=None):\n",
    "        Resource.__init__(\n",
    "            self, \"workflow/{0}\", options, session\n",
    "        )\n",
    "        if raw:\n",
    "            self._parse_raw(raw)\n",
    "        self.raw: dict[str, Any] = cast(Dict[str, Any], self.raw)\n",
    "\n",
    "class Screen(Resource):\n",
    "    \"\"\"Screen information.\"\"\"\n",
    "\n",
    "    def __init__(self, options, session, raw=None):\n",
    "        Resource.__init__(\n",
    "            self, \"screens/{0}\", options, session\n",
    "        )\n",
    "        if raw:\n",
    "            self._parse_raw(raw)\n",
    "        self.raw: dict[str, Any] = cast(Dict[str, Any], self.raw)\n",
    "\n",
    "class ScreenScheme(Resource):\n",
    "    \"\"\"Screen Scheme information.\"\"\"\n",
    "\n",
    "    def __init__(self, options, session, raw=None):\n",
    "        Resource.__init__(\n",
    "            self, \"screenscheme/{0}\", options, session\n",
    "        )\n",
    "        if raw:\n",
    "            self._parse_raw(raw)\n",
    "        self.raw: dict[str, Any] = cast(Dict[str, Any], self.raw)\n",
    "\n",
    "class IssueTypeScreenScheme(Resource):\n",
    "    \"\"\"Issue Type Screen Scheme information.\"\"\"\n",
    "\n",
    "    def __init__(self, options, session, raw=None):\n",
    "        Resource.__init__(\n",
    "            self, \"issuetypescreenscheme/{0}\", options, session\n",
    "        )\n",
    "        if raw:\n",
    "            self._parse_raw(raw)\n",
    "        self.raw: dict[str, Any] = cast(Dict[str, Any], self.raw)\n",
    "\n",
    "class FieldConfigurationScheme(Resource):\n",
    "    \"\"\"Field Configuration Scheme information.\"\"\"\n",
    "\n",
    "    def __init__(self, options, session, raw=None):\n",
    "        Resource.__init__(\n",
    "            self, \"fieldconfigurationschemes/{0}\", options, session\n",
    "        )\n",
    "        if raw:\n",
    "            self._parse_raw(raw)\n",
    "        self.raw: dict[str, Any] = cast(Dict[str, Any], self.raw)\n",
    "\n",
    "class FieldConfiguration(Resource):\n",
    "    \"\"\"Field Configuration information.\"\"\"\n",
    "\n",
    "    def __init__(self, options, session, raw=None):\n",
    "        Resource.__init__(\n",
    "            self, \"fieldconfiguration/{0}\", options, session\n",
    "        )\n",
    "        if raw:\n",
    "            self._parse_raw(raw)\n",
    "        self.raw: dict[str, Any] = cast(Dict[str, Any], self.raw)\n"
   ]
  },
  {
   "cell_type": "code",
   "execution_count": 20,
   "metadata": {},
   "outputs": [
    {
     "name": "stdout",
     "output_type": "stream",
     "text": [
      "https://autogeneral-au.atlassian.net/ daniel.friend@autogeneral.com.au ATATT3xFfGF00wIXryomeZPnqMm_-DJZrGLAeNsS2Ta_vXojYywsXtv26Q9vzBGqDsu90cNM3EXCx4UkFv-MubAjN8ofiHWHOKIlWKADUwB3GF3e7Tm9Y24yZXeZgXx3Eyy9tu3byyKpA773SWua7R3UryKoWDAdY6HoV220XQDa8mq-6SupwMk=7B90E999\n",
      "{'self': 'https://autogeneral-au.atlassian.net/rest/api/2/user?accountId=712020:5209d9b1-e8f0-4783-b723-54bf123c5bc1', 'accountId': '712020:5209d9b1-e8f0-4783-b723-54bf123c5bc1', 'accountType': 'atlassian', 'emailAddress': 'daniel.friend@autogeneral.com.au', 'avatarUrls': {'48x48': 'https://avatar-management--avatars.us-west-2.prod.public.atl-paas.net/712020:5209d9b1-e8f0-4783-b723-54bf123c5bc1/c166e1f9-4212-4585-81c6-1ea49c53b751/48', '24x24': 'https://avatar-management--avatars.us-west-2.prod.public.atl-paas.net/712020:5209d9b1-e8f0-4783-b723-54bf123c5bc1/c166e1f9-4212-4585-81c6-1ea49c53b751/24', '16x16': 'https://avatar-management--avatars.us-west-2.prod.public.atl-paas.net/712020:5209d9b1-e8f0-4783-b723-54bf123c5bc1/c166e1f9-4212-4585-81c6-1ea49c53b751/16', '32x32': 'https://avatar-management--avatars.us-west-2.prod.public.atl-paas.net/712020:5209d9b1-e8f0-4783-b723-54bf123c5bc1/c166e1f9-4212-4585-81c6-1ea49c53b751/32'}, 'displayName': 'Daniel Friend', 'active': True, 'timeZone': 'Australia/Brisbane', 'locale': 'en_US', 'groups': {'size': 46, 'items': []}, 'applicationRoles': {'size': 1, 'items': []}, 'expand': 'groups,applicationRoles'}\n"
     ]
    }
   ],
   "source": [
    "#! Test Myself API Call\n",
    "from jira import JIRA\n",
    "\n",
    "print(JiraHost, Username, Password)\n",
    "\n",
    "jira = JIRA(\n",
    "    server=JiraHost,\n",
    "    basic_auth=(Username, Password),\n",
    "    options={\"rest_api_version\": \"latest\"},\n",
    ")\n",
    "\n",
    "myself = jira.myself()\n",
    "\n",
    "print(myself)"
   ]
  },
  {
   "cell_type": "code",
   "execution_count": 21,
   "metadata": {},
   "outputs": [
    {
     "name": "stdout",
     "output_type": "stream",
     "text": [
      "Clean!\n"
     ]
    }
   ],
   "source": [
    "#! Clean up workflow schemes\n",
    "from jira import JIRA\n",
    "from jira.resources import WorkflowScheme\n",
    "\n",
    "jira = JIRA(server=baseUrl, basic_auth=auth, options={\"rest_api_version\":\"latest\"})\n",
    "\n",
    "workflowschemes = jira._fetch_pages(WorkflowScheme, \"values\", \"workflowscheme\", maxResults = False)\n",
    "\n",
    "removedWs = 0\n",
    "\n",
    "for ws in workflowschemes:\n",
    "    url = jira._get_url(f\"workflowscheme/{ws.id}\")\n",
    "    #print (url)\n",
    "    try:\n",
    "        jira._session.delete(url)\n",
    "        #print (f\"Deleted workflowscheme: {ws.name}\")\n",
    "        removedWs = removedWs + 1\n",
    "    except Exception as ex:\n",
    "        pass\n",
    "\n",
    "if removedWs > 0:\n",
    "    print (f\"Removed {removedWs} out of {workflowschemes.total}\")\n",
    "else:\n",
    "    print (\"Clean!\")\n"
   ]
  },
  {
   "cell_type": "code",
   "execution_count": 22,
   "metadata": {},
   "outputs": [
    {
     "name": "stdout",
     "output_type": "stream",
     "text": [
      "Clean!\n"
     ]
    }
   ],
   "source": [
    "#!  Clean up workflows\n",
    "\n",
    "from jira import JIRA\n",
    "\n",
    "jira = JIRA(server=baseUrl, basic_auth=auth, options={\"rest_api_version\":\"latest\"})\n",
    "\n",
    "workflows = jira._fetch_pages(Workflow, \"values\", \"workflow/search\", maxResults = False)\n",
    "\n",
    "removedWfs = 0\n",
    "\n",
    "for wf in workflows:\n",
    "    url = jira._get_url(f\"workflow/{wf.id.entityId}\")\n",
    "    #print (url)\n",
    "    try:\n",
    "        jira._session.delete(url)\n",
    "        #print (f\"Deleted workflowscheme: {wf.id.entityId}\")\n",
    "        removedWfs = removedWfs + 1\n",
    "    except Exception as ex:\n",
    "        pass\n",
    "\n",
    "if removedWfs > 0:\n",
    "    print (f\"Removed {removedWfs} out of {workflows.total}\")\n",
    "else:\n",
    "    print (\"Clean!\")"
   ]
  },
  {
   "cell_type": "code",
   "execution_count": 23,
   "metadata": {},
   "outputs": [
    {
     "name": "stdout",
     "output_type": "stream",
     "text": [
      "Clean!\n"
     ]
    }
   ],
   "source": [
    "#!  Clean up issue type screen schemes\n",
    "\n",
    "from jira import JIRA\n",
    "\n",
    "jira = JIRA(server=baseUrl, basic_auth=auth, options={\"rest_api_version\":\"latest\"})\n",
    "\n",
    "issuetypescreenschemes = jira._fetch_pages(IssueTypeScreenScheme, \"values\", \"issuetypescreenscheme\", maxResults = False)\n",
    "\n",
    "removed_issuetypescreenschemes = 0\n",
    "\n",
    "for ss in issuetypescreenschemes:\n",
    "    url = jira._get_url(f\"issuetypescreenscheme/{ss.id}\")\n",
    "    try:\n",
    "        jira._session.delete(url)\n",
    "        #print (f\"Deleted issuetypescreenscheme: {ss.id}\")\n",
    "        removed_issuetypescreenschemes = removed_issuetypescreenschemes + 1\n",
    "    except Exception as ex:\n",
    "        pass\n",
    "\n",
    "if removed_issuetypescreenschemes > 0:\n",
    "    print (f\"Removed {removed_issuetypescreenschemes} out of {issuetypescreenschemes.total}\")\n",
    "else:\n",
    "    print (\"Clean!\")"
   ]
  },
  {
   "cell_type": "code",
   "execution_count": 24,
   "metadata": {},
   "outputs": [
    {
     "name": "stdout",
     "output_type": "stream",
     "text": [
      "Clean!\n"
     ]
    }
   ],
   "source": [
    "#!  Clean up screen schemes\n",
    "\n",
    "from jira import JIRA\n",
    "\n",
    "jira = JIRA(server=baseUrl, basic_auth=auth, options={\"rest_api_version\":\"latest\"})\n",
    "\n",
    "screenschemes = jira._fetch_pages(ScreenScheme, \"values\", \"screenscheme\", maxResults = False)\n",
    "\n",
    "removed_screenschemes = 0\n",
    "\n",
    "for ss in screenschemes:\n",
    "    url = jira._get_url(f\"screenscheme/{ss.id}\")\n",
    "    try:\n",
    "        jira._session.delete(url)\n",
    "        #print (f\"Deleted screenscheme: {ss.id}\")\n",
    "        removed_screenschemes = removed_screenschemes + 1\n",
    "    except Exception as ex:\n",
    "        pass\n",
    "\n",
    "if removed_screenschemes > 0:\n",
    "    print (f\"Removed {removed_screenschemes} out of {screenschemes.total}\")\n",
    "else:\n",
    "    print (\"Clean!\")"
   ]
  },
  {
   "cell_type": "code",
   "execution_count": 25,
   "metadata": {
    "tags": []
   },
   "outputs": [
    {
     "name": "stdout",
     "output_type": "stream",
     "text": [
      "Clean!\n"
     ]
    }
   ],
   "source": [
    "#!  Clean up screens\n",
    "\n",
    "from jira import JIRA\n",
    "\n",
    "jira = JIRA(server=baseUrl, basic_auth=auth, options={\"rest_api_version\":\"latest\"})\n",
    "\n",
    "screens = jira._fetch_pages(Screen, \"values\", \"screens\", maxResults = False)\n",
    "\n",
    "removedSc = 0\n",
    "\n",
    "for sc in screens:\n",
    "    url = jira._get_url(f\"screens/{sc.id}\")\n",
    "    #print (url)\n",
    "    try:\n",
    "        jira._session.delete(url)\n",
    "        #print (f\"Deleted screen: {sc.id}\")\n",
    "        removedSc = removedSc + 1\n",
    "    except Exception as ex:\n",
    "        pass\n",
    "\n",
    "if removedSc > 0:\n",
    "    print (f\"Removed {removedSc} out of {screens.total}\")\n",
    "else:\n",
    "    print (\"Clean!\")"
   ]
  },
  {
   "cell_type": "code",
   "execution_count": 26,
   "metadata": {},
   "outputs": [
    {
     "name": "stdout",
     "output_type": "stream",
     "text": [
      "Clean!\n"
     ]
    }
   ],
   "source": [
    "#!  Clean up field configurations\n",
    "\n",
    "from jira import JIRA\n",
    "\n",
    "jira = JIRA(server=baseUrl, basic_auth=auth, options={\"rest_api_version\":\"latest\"})\n",
    "\n",
    "fieldconfigurations = jira._fetch_pages(FieldConfiguration, \"values\", \"fieldconfiguration\", maxResults = False)\n",
    "\n",
    "removedFC = 0\n",
    "\n",
    "for fc in fieldconfigurations:\n",
    "    url = jira._get_url(f\"fieldconfiguration/{fc.id}\")\n",
    "    #print (fc)\n",
    "    try:\n",
    "        jira._session.delete(url)\n",
    "        #print (f\"Deleted screen: {fc.id}\")\n",
    "        removedFC = removedFC + 1\n",
    "    except Exception as ex:\n",
    "        pass\n",
    "\n",
    "if removedFC > 0:\n",
    "    print (f\"Removed {removedFC} out of {fieldconfigurations.total}\")\n",
    "else:\n",
    "    print (\"Clean!\")"
   ]
  },
  {
   "cell_type": "code",
   "execution_count": 27,
   "metadata": {},
   "outputs": [
    {
     "name": "stdout",
     "output_type": "stream",
     "text": [
      "Clean!\n"
     ]
    }
   ],
   "source": [
    "#!  Clean up field configuration schemes\n",
    "\n",
    "from jira import JIRA\n",
    "\n",
    "jira = JIRA(server=baseUrl, basic_auth=auth, options={\"rest_api_version\":\"latest\"})\n",
    "\n",
    "fieldconfigurationschemes = jira._fetch_pages(FieldConfigurationScheme, \"values\", \"fieldconfigurationscheme\", maxResults = False)\n",
    "\n",
    "removedFCS = 0\n",
    "\n",
    "for fc in fieldconfigurationschemes:\n",
    "    url = jira._get_url(f\"fieldconfigurationscheme/{fc.id}\")\n",
    "    #print (fc)\n",
    "    try:\n",
    "        jira._session.delete(url)\n",
    "        #print (f\"Deleted screen: {fc.id}\")\n",
    "        removedFCS = removedFCS + 1\n",
    "    except Exception as ex:\n",
    "        pass\n",
    "\n",
    "if removedFCS > 0:\n",
    "    print (f\"Removed {removedFCS} out of {fieldconfigurationschemes.total}\")\n",
    "else:\n",
    "    print (\"Clean!\")"
   ]
  },
  {
   "cell_type": "code",
   "execution_count": 28,
   "metadata": {},
   "outputs": [
    {
     "name": "stdout",
     "output_type": "stream",
     "text": [
      "Clean!\n"
     ]
    }
   ],
   "source": [
    "#!  Clean up statuses\n",
    "\n",
    "from jira import JIRA\n",
    "from jira.resources import Status\n",
    "\n",
    "jira = JIRA(server=baseUrl, basic_auth=auth, options={\"rest_api_version\":\"latest\"})\n",
    "\n",
    "statuses = jira._fetch_pages(Status, \"values\", \"statuses/search\", maxResults = False)\n",
    "\n",
    "removedStatuses = 0\n",
    "\n",
    "for st in statuses:\n",
    "    url = jira._get_url(f\"statuses?id={st.id}\")\n",
    "    #print (url)\n",
    "    try:\n",
    "        jira._session.delete(url)\n",
    "        #print (f\"Deleted status: {st.id}\")\n",
    "        removedStatuses = removedStatuses + 1\n",
    "    except Exception as ex:\n",
    "        pass\n",
    "\n",
    "if removedStatuses > 0:\n",
    "    print (f\"Removed {removedStatuses} out of {statuses.total}\")\n",
    "else:\n",
    "    print (\"Clean!\")"
   ]
  },
  {
   "cell_type": "code",
   "execution_count": 29,
   "metadata": {},
   "outputs": [
    {
     "name": "stdout",
     "output_type": "stream",
     "text": [
      "Clean!\n"
     ]
    }
   ],
   "source": [
    "#!  Clean up issue security schemes\n",
    "\n",
    "from jira import JIRA\n",
    "from jira.resources import IssueSecurityLevelScheme\n",
    "\n",
    "jira = JIRA(server=baseUrl, basic_auth=auth, options={\"rest_api_version\":\"latest\"})\n",
    "\n",
    "issueSecurityLevelSchemes = jira._fetch_pages(IssueSecurityLevelScheme, \"values\", \"issuesecurityschemes/search\", maxResults = False)\n",
    "\n",
    "removedSchemes = 0\n",
    "\n",
    "for isls in issueSecurityLevelSchemes:\n",
    "    url = jira._get_url(f\"issuesecurityschemes/{isls.id}\")\n",
    "    #print (url)\n",
    "    try:\n",
    "        jira._session.delete(url)\n",
    "        #print (f\"Deleted status: {isls.id}\")\n",
    "        removedSchemes = removedSchemes + 1\n",
    "    except Exception as ex:\n",
    "        pass\n",
    "\n",
    "if removedSchemes > 0:\n",
    "    print (f\"Removed {removedSchemes} out of {issueSecurityLevelSchemes.total}\")\n",
    "else:\n",
    "    print (\"Clean!\")"
   ]
  },
  {
   "cell_type": "code",
   "execution_count": 30,
   "metadata": {},
   "outputs": [
    {
     "ename": "JIRAError",
     "evalue": "JiraError HTTP 504 url: https://autogeneral-au.atlassian.net/rest/api/latest/notificationscheme?maxResults=100\n\ttext: <html>\r\n<head><title>504 Gateway Time-out</title></head>\r\n<body>\r\n<center><h1>504 Gateway Time-out</h1></center>\r\n<hr><center>nginx</center>\r\n</body>\r\n</html>\r\n\n\t\n\tresponse headers = {'Date': 'Sun, 03 Dec 2023 05:27:30 GMT', 'Content-Type': 'text/html', 'Content-Length': '160', 'Server': 'AtlassianEdge', 'X-Envoy-Ratelimited': 'true', 'X-Content-Type-Options': 'nosniff', 'X-Xss-Protection': '1; mode=block', 'Atl-Traceid': '5c830580232c4cd18ce5b3f3ead5c53d', 'Report-To': '{\"endpoints\": [{\"url\": \"https://dz8aopenkvv6s.cloudfront.net\"}], \"group\": \"endpoint-1\", \"include_subdomains\": true, \"max_age\": 600}', 'Nel': '{\"failure_fraction\": 0.001, \"include_subdomains\": true, \"max_age\": 600, \"report_to\": \"endpoint-1\"}', 'Strict-Transport-Security': 'max-age=63072000; includeSubDomains; preload'}\n\tresponse text = <html>\r\n<head><title>504 Gateway Time-out</title></head>\r\n<body>\r\n<center><h1>504 Gateway Time-out</h1></center>\r\n<hr><center>nginx</center>\r\n</body>\r\n</html>\r\n",
     "output_type": "error",
     "traceback": [
      "\u001b[1;31m---------------------------------------------------------------------------\u001b[0m",
      "\u001b[1;31mJIRAError\u001b[0m                                 Traceback (most recent call last)",
      "\u001b[1;32mc:\\Users\\miburns\\Documents\\GitHub\\JiraCleaner\\Utilities\\CleanUpWorkflowSchemes.ipynb Cell 15\u001b[0m line \u001b[0;36m8\n\u001b[0;32m      <a href='vscode-notebook-cell:/c%3A/Users/miburns/Documents/GitHub/JiraCleaner/Utilities/CleanUpWorkflowSchemes.ipynb#X20sZmlsZQ%3D%3D?line=3'>4</a>\u001b[0m \u001b[39mfrom\u001b[39;00m \u001b[39mjira\u001b[39;00m\u001b[39m.\u001b[39;00m\u001b[39mresources\u001b[39;00m \u001b[39mimport\u001b[39;00m NotificationScheme\n\u001b[0;32m      <a href='vscode-notebook-cell:/c%3A/Users/miburns/Documents/GitHub/JiraCleaner/Utilities/CleanUpWorkflowSchemes.ipynb#X20sZmlsZQ%3D%3D?line=5'>6</a>\u001b[0m jira \u001b[39m=\u001b[39m JIRA(server\u001b[39m=\u001b[39mbaseUrl, basic_auth\u001b[39m=\u001b[39mauth, options\u001b[39m=\u001b[39m{\u001b[39m\"\u001b[39m\u001b[39mrest_api_version\u001b[39m\u001b[39m\"\u001b[39m:\u001b[39m\"\u001b[39m\u001b[39mlatest\u001b[39m\u001b[39m\"\u001b[39m, \u001b[39m\"\u001b[39m\u001b[39mtimeout\u001b[39m\u001b[39m\"\u001b[39m:\u001b[39m3600\u001b[39m})\n\u001b[1;32m----> <a href='vscode-notebook-cell:/c%3A/Users/miburns/Documents/GitHub/JiraCleaner/Utilities/CleanUpWorkflowSchemes.ipynb#X20sZmlsZQ%3D%3D?line=7'>8</a>\u001b[0m notificationSchemes \u001b[39m=\u001b[39m jira\u001b[39m.\u001b[39;49m_fetch_pages(NotificationScheme, \u001b[39m\"\u001b[39;49m\u001b[39mvalues\u001b[39;49m\u001b[39m\"\u001b[39;49m, \u001b[39m\"\u001b[39;49m\u001b[39mnotificationscheme\u001b[39;49m\u001b[39m\"\u001b[39;49m, maxResults \u001b[39m=\u001b[39;49m \u001b[39mFalse\u001b[39;49;00m)\n\u001b[0;32m     <a href='vscode-notebook-cell:/c%3A/Users/miburns/Documents/GitHub/JiraCleaner/Utilities/CleanUpWorkflowSchemes.ipynb#X20sZmlsZQ%3D%3D?line=9'>10</a>\u001b[0m removedSchemes \u001b[39m=\u001b[39m \u001b[39m0\u001b[39m\n\u001b[0;32m     <a href='vscode-notebook-cell:/c%3A/Users/miburns/Documents/GitHub/JiraCleaner/Utilities/CleanUpWorkflowSchemes.ipynb#X20sZmlsZQ%3D%3D?line=11'>12</a>\u001b[0m \u001b[39mfor\u001b[39;00m ns \u001b[39min\u001b[39;00m notificationSchemes:\n",
      "File \u001b[1;32m~\\AppData\\Local\\Packages\\PythonSoftwareFoundation.Python.3.11_qbz5n2kfra8p0\\LocalCache\\local-packages\\Python311\\site-packages\\jira\\client.py:729\u001b[0m, in \u001b[0;36mJIRA._fetch_pages\u001b[1;34m(self, item_type, items_key, request_path, startAt, maxResults, params, base)\u001b[0m\n\u001b[0;32m    726\u001b[0m \u001b[39melif\u001b[39;00m batch_size \u001b[39m:=\u001b[39m \u001b[39mself\u001b[39m\u001b[39m.\u001b[39m_get_batch_size(item_type):\n\u001b[0;32m    727\u001b[0m     page_params[\u001b[39m\"\u001b[39m\u001b[39mmaxResults\u001b[39m\u001b[39m\"\u001b[39m] \u001b[39m=\u001b[39m batch_size\n\u001b[1;32m--> 729\u001b[0m resource \u001b[39m=\u001b[39m \u001b[39mself\u001b[39;49m\u001b[39m.\u001b[39;49m_get_json(request_path, params\u001b[39m=\u001b[39;49mpage_params, base\u001b[39m=\u001b[39;49mbase)\n\u001b[0;32m    730\u001b[0m next_items_page \u001b[39m=\u001b[39m \u001b[39mself\u001b[39m\u001b[39m.\u001b[39m_get_items_from_page(item_type, items_key, resource)\n\u001b[0;32m    731\u001b[0m items \u001b[39m=\u001b[39m next_items_page\n",
      "File \u001b[1;32m~\\AppData\\Local\\Packages\\PythonSoftwareFoundation.Python.3.11_qbz5n2kfra8p0\\LocalCache\\local-packages\\Python311\\site-packages\\jira\\client.py:3853\u001b[0m, in \u001b[0;36mJIRA._get_json\u001b[1;34m(self, path, params, base)\u001b[0m\n\u001b[0;32m   3842\u001b[0m \u001b[39m\u001b[39m\u001b[39m\"\"\"Get the json for a given path and params.\u001b[39;00m\n\u001b[0;32m   3843\u001b[0m \n\u001b[0;32m   3844\u001b[0m \u001b[39mArgs:\u001b[39;00m\n\u001b[1;32m   (...)\u001b[0m\n\u001b[0;32m   3850\u001b[0m \u001b[39m    Union[Dict[str, Any], List[Dict[str, str]]]\u001b[39;00m\n\u001b[0;32m   3851\u001b[0m \u001b[39m\"\"\"\u001b[39;00m\n\u001b[0;32m   3852\u001b[0m url \u001b[39m=\u001b[39m \u001b[39mself\u001b[39m\u001b[39m.\u001b[39m_get_url(path, base)\n\u001b[1;32m-> 3853\u001b[0m r \u001b[39m=\u001b[39m \u001b[39mself\u001b[39;49m\u001b[39m.\u001b[39;49m_session\u001b[39m.\u001b[39;49mget(url, params\u001b[39m=\u001b[39;49mparams)\n\u001b[0;32m   3854\u001b[0m \u001b[39mtry\u001b[39;00m:\n\u001b[0;32m   3855\u001b[0m     r_json \u001b[39m=\u001b[39m json_loads(r)\n",
      "File \u001b[1;32m~\\AppData\\Local\\Packages\\PythonSoftwareFoundation.Python.3.11_qbz5n2kfra8p0\\LocalCache\\local-packages\\Python311\\site-packages\\requests\\sessions.py:602\u001b[0m, in \u001b[0;36mSession.get\u001b[1;34m(self, url, **kwargs)\u001b[0m\n\u001b[0;32m    594\u001b[0m \u001b[39m\u001b[39m\u001b[39mr\u001b[39m\u001b[39m\"\"\"Sends a GET request. Returns :class:`Response` object.\u001b[39;00m\n\u001b[0;32m    595\u001b[0m \n\u001b[0;32m    596\u001b[0m \u001b[39m:param url: URL for the new :class:`Request` object.\u001b[39;00m\n\u001b[0;32m    597\u001b[0m \u001b[39m:param \\*\\*kwargs: Optional arguments that ``request`` takes.\u001b[39;00m\n\u001b[0;32m    598\u001b[0m \u001b[39m:rtype: requests.Response\u001b[39;00m\n\u001b[0;32m    599\u001b[0m \u001b[39m\"\"\"\u001b[39;00m\n\u001b[0;32m    601\u001b[0m kwargs\u001b[39m.\u001b[39msetdefault(\u001b[39m\"\u001b[39m\u001b[39mallow_redirects\u001b[39m\u001b[39m\"\u001b[39m, \u001b[39mTrue\u001b[39;00m)\n\u001b[1;32m--> 602\u001b[0m \u001b[39mreturn\u001b[39;00m \u001b[39mself\u001b[39;49m\u001b[39m.\u001b[39;49mrequest(\u001b[39m\"\u001b[39;49m\u001b[39mGET\u001b[39;49m\u001b[39m\"\u001b[39;49m, url, \u001b[39m*\u001b[39;49m\u001b[39m*\u001b[39;49mkwargs)\n",
      "File \u001b[1;32m~\\AppData\\Local\\Packages\\PythonSoftwareFoundation.Python.3.11_qbz5n2kfra8p0\\LocalCache\\local-packages\\Python311\\site-packages\\jira\\resilientsession.py:246\u001b[0m, in \u001b[0;36mResilientSession.request\u001b[1;34m(self, method, url, _prepare_retry_class, **kwargs)\u001b[0m\n\u001b[0;32m    243\u001b[0m \u001b[39mif\u001b[39;00m exception \u001b[39mis\u001b[39;00m \u001b[39mnot\u001b[39;00m \u001b[39mNone\u001b[39;00m:\n\u001b[0;32m    244\u001b[0m     \u001b[39m# We got an exception we could not recover from\u001b[39;00m\n\u001b[0;32m    245\u001b[0m     \u001b[39mraise\u001b[39;00m exception\n\u001b[1;32m--> 246\u001b[0m \u001b[39melif\u001b[39;00m raise_on_error(response, \u001b[39m*\u001b[39;49m\u001b[39m*\u001b[39;49mprocessed_kwargs):\n\u001b[0;32m    247\u001b[0m     \u001b[39m# raise_on_error will raise an exception if the response is invalid\u001b[39;00m\n\u001b[0;32m    248\u001b[0m     \u001b[39mreturn\u001b[39;00m response\n\u001b[0;32m    249\u001b[0m \u001b[39melse\u001b[39;00m:\n\u001b[0;32m    250\u001b[0m     \u001b[39m# Shouldn't reach here...(but added for mypy's benefit)\u001b[39;00m\n",
      "File \u001b[1;32m~\\AppData\\Local\\Packages\\PythonSoftwareFoundation.Python.3.11_qbz5n2kfra8p0\\LocalCache\\local-packages\\Python311\\site-packages\\jira\\resilientsession.py:71\u001b[0m, in \u001b[0;36mraise_on_error\u001b[1;34m(resp, **kwargs)\u001b[0m\n\u001b[0;32m     68\u001b[0m \u001b[39mif\u001b[39;00m \u001b[39mnot\u001b[39;00m resp\u001b[39m.\u001b[39mok:\n\u001b[0;32m     69\u001b[0m     error \u001b[39m=\u001b[39m parse_error_msg(resp\u001b[39m=\u001b[39mresp)\n\u001b[1;32m---> 71\u001b[0m     \u001b[39mraise\u001b[39;00m JIRAError(\n\u001b[0;32m     72\u001b[0m         error,\n\u001b[0;32m     73\u001b[0m         status_code\u001b[39m=\u001b[39mresp\u001b[39m.\u001b[39mstatus_code,\n\u001b[0;32m     74\u001b[0m         url\u001b[39m=\u001b[39mresp\u001b[39m.\u001b[39murl,\n\u001b[0;32m     75\u001b[0m         request\u001b[39m=\u001b[39mrequest,\n\u001b[0;32m     76\u001b[0m         response\u001b[39m=\u001b[39mresp,\n\u001b[0;32m     77\u001b[0m         \u001b[39m*\u001b[39m\u001b[39m*\u001b[39mkwargs,\n\u001b[0;32m     78\u001b[0m     )\n\u001b[0;32m     80\u001b[0m \u001b[39mreturn\u001b[39;00m \u001b[39mTrue\u001b[39;00m\n",
      "\u001b[1;31mJIRAError\u001b[0m: JiraError HTTP 504 url: https://autogeneral-au.atlassian.net/rest/api/latest/notificationscheme?maxResults=100\n\ttext: <html>\r\n<head><title>504 Gateway Time-out</title></head>\r\n<body>\r\n<center><h1>504 Gateway Time-out</h1></center>\r\n<hr><center>nginx</center>\r\n</body>\r\n</html>\r\n\n\t\n\tresponse headers = {'Date': 'Sun, 03 Dec 2023 05:27:30 GMT', 'Content-Type': 'text/html', 'Content-Length': '160', 'Server': 'AtlassianEdge', 'X-Envoy-Ratelimited': 'true', 'X-Content-Type-Options': 'nosniff', 'X-Xss-Protection': '1; mode=block', 'Atl-Traceid': '5c830580232c4cd18ce5b3f3ead5c53d', 'Report-To': '{\"endpoints\": [{\"url\": \"https://dz8aopenkvv6s.cloudfront.net\"}], \"group\": \"endpoint-1\", \"include_subdomains\": true, \"max_age\": 600}', 'Nel': '{\"failure_fraction\": 0.001, \"include_subdomains\": true, \"max_age\": 600, \"report_to\": \"endpoint-1\"}', 'Strict-Transport-Security': 'max-age=63072000; includeSubDomains; preload'}\n\tresponse text = <html>\r\n<head><title>504 Gateway Time-out</title></head>\r\n<body>\r\n<center><h1>504 Gateway Time-out</h1></center>\r\n<hr><center>nginx</center>\r\n</body>\r\n</html>\r\n"
     ]
    }
   ],
   "source": [
    "#!  Clean up notification schemes\n",
    "\n",
    "from jira import JIRA\n",
    "from jira.resources import NotificationScheme\n",
    "\n",
    "jira = JIRA(server=baseUrl, basic_auth=auth, options={\"rest_api_version\":\"latest\", \"timeout\":3600})\n",
    "\n",
    "notificationSchemes = jira._fetch_pages(NotificationScheme, \"values\", \"notificationscheme\", maxResults = False)\n",
    "\n",
    "removedSchemes = 0\n",
    "\n",
    "for ns in notificationSchemes:\n",
    "    url = jira._get_url(f\"notificationscheme/{ns.id}\")\n",
    "    #print (url)\n",
    "    try:\n",
    "        jira._session.delete(url)\n",
    "        #print (f\"Deleted status: {ns.id}\")\n",
    "        removedSchemes = removedSchemes + 1\n",
    "    except Exception as ex:\n",
    "        pass\n",
    "\n",
    "if removedSchemes > 0:\n",
    "    print (f\"Removed {removedSchemes} out of {notificationSchemes.total}\")\n",
    "else:\n",
    "    print (\"Clean!\")"
   ]
  }
 ],
 "metadata": {
  "kernelspec": {
   "display_name": "Python 3",
   "language": "python",
   "name": "python3"
  },
  "language_info": {
   "codemirror_mode": {
    "name": "ipython",
    "version": 3
   },
   "file_extension": ".py",
   "mimetype": "text/x-python",
   "name": "python",
   "nbconvert_exporter": "python",
   "pygments_lexer": "ipython3",
   "version": "3.11.6"
  },
  "orig_nbformat": 4
 },
 "nbformat": 4,
 "nbformat_minor": 2
}
