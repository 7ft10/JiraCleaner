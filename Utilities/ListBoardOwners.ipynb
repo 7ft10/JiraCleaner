{
 "cells": [
  {
   "cell_type": "code",
   "execution_count": 2,
   "metadata": {},
   "outputs": [],
   "source": [
    "#! Install library\n",
    "import os\n",
    "import importlib.util\n",
    "\n",
    "if importlib.util.find_spec(\"requests\") is None:\n",
    "\tos.system(\"pip install requests\")\n",
    "\n",
    "if importlib.util.find_spec(\"beautifulsoup4\") is None:\n",
    "\tos.system(\"pip install beautifulsoup4\")\n",
    "\n",
    "if importlib.util.find_spec(\"Counter\") is None:\n",
    "\tos.system(\"pip install Counter\")\n",
    "\n",
    "if importlib.util.find_spec(\"openpyxl\") is None:\n",
    "\tos.system(\"pip install openpyxl\")\n"
   ]
  },
  {
   "cell_type": "code",
   "execution_count": 3,
   "metadata": {},
   "outputs": [
    {
     "data": {
      "text/plain": [
       "'Jira Host: https://jiradev.budgetdirect.com.au/'"
      ]
     },
     "metadata": {},
     "output_type": "display_data"
    },
    {
     "data": {
      "text/plain": [
       "'Confluence Host: https://confluence.budgetdirect.com.au/'"
      ]
     },
     "metadata": {},
     "output_type": "display_data"
    }
   ],
   "source": [
    "#! Authentication details\n",
    "import os\n",
    "import dotenv\n",
    "import importlib.util\n",
    "\n",
    "JiraHost = None\n",
    "ConfluenceHost = None\n",
    "Username = None\n",
    "Password = None\n",
    "\n",
    "if importlib.util.find_spec(\"google.colab\") is not None: ## if using google colab\n",
    "    if not os.path.exists('.env'):\n",
    "        from google.colab import files\n",
    "        uploaded = files.upload()\n",
    "        file_name = list(uploaded.keys())[0]\n",
    "        try:\n",
    "            os.rename(file_name, '.env')\n",
    "        except:\n",
    "            pass\n",
    "\n",
    "try:\n",
    "    dotenv.load_dotenv('../.env', override=True)\n",
    "\n",
    "    JiraHost = os.getenv('SECRETS_HOST')\n",
    "    ConfluenceHost = os.getenv('SECRETS_CONFLUENCE')\n",
    "    Username = os.getenv('SECRETS_USERNAME')\n",
    "    Password = os.getenv('SECRETS_PASSWORD')\n",
    "except:\n",
    "    display(\"trouble loading dot env\")\n",
    "    pass\n",
    "\n",
    "if JiraHost is None or JiraHost == \"\":\n",
    "    JiraHost = input(\"Enter Jira Host\")\n",
    "\n",
    "if ConfluenceHost is None or ConfluenceHost == \"\":\n",
    "    ConfluenceHost = input(\"Enter Confluence Host\")\n",
    "\n",
    "if Username is None or Username == \"\":\n",
    "    Username = input(\"Enter Username\")\n",
    "\n",
    "if Password is None or Password == \"\":\n",
    "    Password = input(\"Enter Password\")\n",
    "\n",
    "display(\"Jira Host: \" + JiraHost)\n",
    "display(\"Confluence Host: \" + ConfluenceHost)"
   ]
  },
  {
   "cell_type": "code",
   "execution_count": 4,
   "metadata": {},
   "outputs": [],
   "source": [
    "#! Functions\n",
    "import base64\n",
    "import re\n",
    "from bs4 import BeautifulSoup\n",
    "import requests\n",
    "from collections import Counter\n",
    "import pandas as pd\n",
    "import requests\n",
    "from functools import reduce\n",
    "import warnings\n",
    "import json\n",
    "\n",
    "requests.packages.urllib3.disable_warnings(requests.packages.urllib3.exceptions.InsecureRequestWarning)\n",
    "\n",
    "def _ExpandColumn(self:pd.DataFrame, colName:str, columnsToExpand = [], prefix:str = \"Prefix\", sentenceCase:bool = True) -> pd.DataFrame:\n",
    "    if (prefix == \"Prefix\"):\n",
    "        prefix = colName + \" \"\n",
    "        with warnings.catch_warnings():\n",
    "          warnings.simplefilter(action='ignore', category=FutureWarning)\n",
    "          expandedCols = self[colName].apply(lambda x: pd.Series(x).add_prefix(prefix))\n",
    "        columnsToExpand = [prefix + c for c in columnsToExpand]\n",
    "    else:\n",
    "        expandedCols = self[colName].apply(lambda x: pd.Series(x))\n",
    "\n",
    "    if len(columnsToExpand) > 0:\n",
    "        expandedCols = expandedCols[columnsToExpand]\n",
    "\n",
    "    if sentenceCase:\n",
    "        expandedCols.columns = [fnSentenceCase(c) for c in expandedCols.columns]\n",
    "\n",
    "    return pd.concat([self.drop(colName, axis=1), expandedCols], axis=1)\n",
    "\n",
    "pd.DataFrame.expand = _ExpandColumn\n",
    "\n",
    "def fnSentenceCase(s):\n",
    "    s = (' '.join(dict.fromkeys(s.split())))  # remove duplicate words\n",
    "    s = s.replace(\"0\", \"\") # remove \"0\"\n",
    "    s = s.strip()\n",
    "    return ' '.join([x.capitalize() for x in re.sub(r\"([A-Z])\", r\" \\1\", s).split()]) # sentence case\n",
    "\n",
    "def _SentenceCaseColumns(self:pd.DataFrame) -> pd.DataFrame:\n",
    "    self.columns = [fnSentenceCase(c) for c in self.columns]\n",
    "    return self\n",
    "\n",
    "pd.DataFrame.sentence_case_columns = _SentenceCaseColumns\n",
    "\n",
    "def flatten_reduce_lambda(frm):\n",
    "\ttry:\n",
    "\t\treturn list(reduce(lambda x, y: x + y, frm, []))\n",
    "\texcept:\n",
    "\t\treturn list(reduce(lambda x, y: x + y, [frm], []))\n",
    "\n",
    "def most_frequent(List):\n",
    "\ttry:\n",
    "\t\tc = Counter(List)\n",
    "\t\tmost_common = [key for key, _ in c.most_common(5)]\n",
    "\t\treturn most_common\n",
    "\texcept:\n",
    "\t\treturn \"\"\n",
    "\n",
    "def fnGetDefaultHeaders():\n",
    "    return {\n",
    "        \"content-type\": \"application/json\",\n",
    "        \"authorization\": \"Basic \" + base64.b64encode((Username + \":\" + Password).encode()).decode(),\n",
    "        \"retry-after\": \"120\"\n",
    "    }\n",
    "\n",
    "def fnUpdateBoardAdmins(boardId, boardAdmins, boardGroups):\n",
    "\tboardAdminsData = {}\n",
    "\tboardAdminsData['userKeys'] = boardAdmins\n",
    "\tboardAdminsData['groupKeys'] = boardGroups\n",
    "\tdata = {}\n",
    "\tdata['id'] = boardId\n",
    "\tdata['boardAdmins'] = boardAdminsData\n",
    "\turl = \"/rest/greenhopper/1.0/rapidviewconfig/boardadmins\"\n",
    "\theaders = fnGetDefaultHeaders()\n",
    "\tresponse = requests.put(JiraHost + url, headers = headers, data = json.dumps(data), verify=False)\n",
    "\treturn response.json()\n",
    "\n",
    "def fnUpdateFilterOwner(filterId, jql, name, description, filterOwner):\n",
    "\tdata = {}\n",
    "\tdata['jql'] = jql\n",
    "\tdata['name'] = name\n",
    "\tdata['description'] = description\n",
    "\tdata['owner'] = {}\n",
    "\tdata['owner']['key'] = filterOwner\n",
    "\turl = \"/rest/api/2/filter/\" + str(filterId)\n",
    "\theaders = fnGetDefaultHeaders()\n",
    "\tresponse = requests.put(JiraHost + url, headers = headers, data = json.dumps(data), verify=False)\n",
    "\treturn response.json()\n",
    "\n",
    "def fnGetFilterDetails(filterId):\n",
    "\turl = \"/rest/api/2/filter/\" + str(filterId)\n",
    "\theaders = fnGetDefaultHeaders()\n",
    "\tresponse = requests.get(JiraHost + url, headers = headers, verify=False)\n",
    "\treturn response.json()\n",
    "\n",
    "def fnBoards():\n",
    "    def ApiCall(startAt) :\n",
    "        url = \"/rest/greenhopper/1.0/rapidviews/viewsData\"\n",
    "        headers = fnGetDefaultHeaders()\n",
    "        defaultContents = {\n",
    "            \"startAt\": startAt\n",
    "        }\n",
    "        response = requests.get(JiraHost + url, headers = headers, json = defaultContents, verify=False)\n",
    "        return response.json()\n",
    "    values = fnAPI(ApiCall)\n",
    "    return values\n",
    "\n",
    "def fnUsers():\n",
    "     #/rest/api/2/user/search?username=.&includeInactive=true&maxResults=1000&startAt=7000\n",
    "\tdef ApiCall(startAt) :\n",
    "\t\turl = \"/rest/api/2/user/search?username=.&includeInactive=true&maxResults=1000&startAt=\" + str(startAt)\n",
    "\t\theaders = fnGetDefaultHeaders()\n",
    "\t\tresponse = requests.get(JiraHost + url, headers = headers, verify=False)\n",
    "\t\treturn response.json()\n",
    "\treturn pd.DataFrame(flatten_reduce_lambda([ApiCall(i * 1000) for i in range(8)]))\n",
    "\n",
    "def fnAPI(webRequestDelegate, startAt = 0) -> pd.DataFrame:\n",
    "    def innerGetResults(webRequestDelegate, startAt = 0):\n",
    "        results = webRequestDelegate(startAt)\n",
    "        if isinstance(results, dict) and \"total\" in results and \"maxResults\" in results:\n",
    "            if startAt + results[\"maxResults\"] < results[\"total\"]:\n",
    "                return [results] + innerGetResults(webRequestDelegate, startAt + results[\"maxResults\"])\n",
    "            else:\n",
    "                return [results]\n",
    "        else:\n",
    "            return [results]\n",
    "    Source = flatten_reduce_lambda(innerGetResults(webRequestDelegate, startAt))\n",
    "    df = pd.DataFrame(Source)\n",
    "    return df\n",
    "\n"
   ]
  },
  {
   "cell_type": "code",
   "execution_count": 5,
   "metadata": {},
   "outputs": [
    {
     "data": {
      "text/html": [
       "<div>\n",
       "<style scoped>\n",
       "    .dataframe tbody tr th:only-of-type {\n",
       "        vertical-align: middle;\n",
       "    }\n",
       "\n",
       "    .dataframe tbody tr th {\n",
       "        vertical-align: top;\n",
       "    }\n",
       "\n",
       "    .dataframe thead th {\n",
       "        text-align: right;\n",
       "    }\n",
       "</style>\n",
       "<table border=\"1\" class=\"dataframe\">\n",
       "  <thead>\n",
       "    <tr style=\"text-align: right;\">\n",
       "      <th></th>\n",
       "      <th>self</th>\n",
       "      <th>key</th>\n",
       "      <th>name</th>\n",
       "      <th>emailAddress</th>\n",
       "      <th>avatarUrls</th>\n",
       "      <th>displayName</th>\n",
       "      <th>active</th>\n",
       "      <th>deleted</th>\n",
       "      <th>timeZone</th>\n",
       "      <th>locale</th>\n",
       "    </tr>\n",
       "  </thead>\n",
       "  <tbody>\n",
       "    <tr>\n",
       "      <th>0</th>\n",
       "      <td>https://jiradev.budgetdirect.com.au/rest/api/2...</td>\n",
       "      <td>aadelakun</td>\n",
       "      <td>aadelakun</td>\n",
       "      <td>Ade.Adelakun@aihco.com.au</td>\n",
       "      <td>{'48x48': 'https://jiradev.budgetdirect.com.au...</td>\n",
       "      <td>Ade Adelakun</td>\n",
       "      <td>False</td>\n",
       "      <td>False</td>\n",
       "      <td>Australia/Brisbane</td>\n",
       "      <td>en_US</td>\n",
       "    </tr>\n",
       "    <tr>\n",
       "      <th>1</th>\n",
       "      <td>https://jiradev.budgetdirect.com.au/rest/api/2...</td>\n",
       "      <td>JIRAUSER32069</td>\n",
       "      <td>aalang</td>\n",
       "      <td>aaron.lang@autogeneral.com.au</td>\n",
       "      <td>{'48x48': 'https://jiradev.budgetdirect.com.au...</td>\n",
       "      <td>Aaron Lang</td>\n",
       "      <td>True</td>\n",
       "      <td>False</td>\n",
       "      <td>Australia/Brisbane</td>\n",
       "      <td>en_US</td>\n",
       "    </tr>\n",
       "    <tr>\n",
       "      <th>2</th>\n",
       "      <td>https://jiradev.budgetdirect.com.au/rest/api/2...</td>\n",
       "      <td>aalburydor</td>\n",
       "      <td>aalburydor</td>\n",
       "      <td>andrew.alburydor@autogeneral.com.au</td>\n",
       "      <td>{'48x48': 'https://jiradev.budgetdirect.com.au...</td>\n",
       "      <td>Andrew Albury-Dor [X]</td>\n",
       "      <td>False</td>\n",
       "      <td>False</td>\n",
       "      <td>Australia/Brisbane</td>\n",
       "      <td>en_US</td>\n",
       "    </tr>\n",
       "    <tr>\n",
       "      <th>3</th>\n",
       "      <td>https://jiradev.budgetdirect.com.au/rest/api/2...</td>\n",
       "      <td>JIRAUSER34432</td>\n",
       "      <td>aalkhanji</td>\n",
       "      <td>anas.alkhanji@autogeneral.com.au</td>\n",
       "      <td>{'48x48': 'https://jiradev.budgetdirect.com.au...</td>\n",
       "      <td>Anas Alkhanji</td>\n",
       "      <td>True</td>\n",
       "      <td>False</td>\n",
       "      <td>Australia/Brisbane</td>\n",
       "      <td>en_US</td>\n",
       "    </tr>\n",
       "    <tr>\n",
       "      <th>4</th>\n",
       "      <td>https://jiradev.budgetdirect.com.au/rest/api/2...</td>\n",
       "      <td>JIRAUSER33748</td>\n",
       "      <td>aalmaradni</td>\n",
       "      <td>ahmad.almaradni@autogeneral.com.au</td>\n",
       "      <td>{'48x48': 'https://jiradev.budgetdirect.com.au...</td>\n",
       "      <td>Ahmad Almaradni</td>\n",
       "      <td>True</td>\n",
       "      <td>False</td>\n",
       "      <td>Australia/Brisbane</td>\n",
       "      <td>en_US</td>\n",
       "    </tr>\n",
       "  </tbody>\n",
       "</table>\n",
       "</div>"
      ],
      "text/plain": [
       "                                                self            key  \\\n",
       "0  https://jiradev.budgetdirect.com.au/rest/api/2...      aadelakun   \n",
       "1  https://jiradev.budgetdirect.com.au/rest/api/2...  JIRAUSER32069   \n",
       "2  https://jiradev.budgetdirect.com.au/rest/api/2...     aalburydor   \n",
       "3  https://jiradev.budgetdirect.com.au/rest/api/2...  JIRAUSER34432   \n",
       "4  https://jiradev.budgetdirect.com.au/rest/api/2...  JIRAUSER33748   \n",
       "\n",
       "         name                         emailAddress  \\\n",
       "0   aadelakun            Ade.Adelakun@aihco.com.au   \n",
       "1      aalang        aaron.lang@autogeneral.com.au   \n",
       "2  aalburydor  andrew.alburydor@autogeneral.com.au   \n",
       "3   aalkhanji     anas.alkhanji@autogeneral.com.au   \n",
       "4  aalmaradni   ahmad.almaradni@autogeneral.com.au   \n",
       "\n",
       "                                          avatarUrls            displayName  \\\n",
       "0  {'48x48': 'https://jiradev.budgetdirect.com.au...           Ade Adelakun   \n",
       "1  {'48x48': 'https://jiradev.budgetdirect.com.au...             Aaron Lang   \n",
       "2  {'48x48': 'https://jiradev.budgetdirect.com.au...  Andrew Albury-Dor [X]   \n",
       "3  {'48x48': 'https://jiradev.budgetdirect.com.au...          Anas Alkhanji   \n",
       "4  {'48x48': 'https://jiradev.budgetdirect.com.au...        Ahmad Almaradni   \n",
       "\n",
       "   active  deleted            timeZone locale  \n",
       "0   False    False  Australia/Brisbane  en_US  \n",
       "1    True    False  Australia/Brisbane  en_US  \n",
       "2   False    False  Australia/Brisbane  en_US  \n",
       "3    True    False  Australia/Brisbane  en_US  \n",
       "4    True    False  Australia/Brisbane  en_US  "
      ]
     },
     "metadata": {},
     "output_type": "display_data"
    }
   ],
   "source": [
    "users = fnUsers()\n",
    "\n",
    "display(users.head())"
   ]
  },
  {
   "cell_type": "code",
   "execution_count": 6,
   "metadata": {},
   "outputs": [
    {
     "data": {
      "text/html": [
       "<div>\n",
       "<style scoped>\n",
       "    .dataframe tbody tr th:only-of-type {\n",
       "        vertical-align: middle;\n",
       "    }\n",
       "\n",
       "    .dataframe tbody tr th {\n",
       "        vertical-align: top;\n",
       "    }\n",
       "\n",
       "    .dataframe thead th {\n",
       "        text-align: right;\n",
       "    }\n",
       "</style>\n",
       "<table border=\"1\" class=\"dataframe\">\n",
       "  <thead>\n",
       "    <tr style=\"text-align: right;\">\n",
       "      <th></th>\n",
       "      <th>index</th>\n",
       "      <th>id</th>\n",
       "      <th>name</th>\n",
       "      <th>boardAdmins</th>\n",
       "      <th>filter id</th>\n",
       "      <th>filter name</th>\n",
       "      <th>filter query</th>\n",
       "      <th>filter owner userName</th>\n",
       "      <th>filter owner displayName</th>\n",
       "      <th>boardAdmin Groups</th>\n",
       "      <th>boardAdminUsernames</th>\n",
       "      <th>newAdmins</th>\n",
       "      <th>newFilterOwner</th>\n",
       "      <th>requiresUpdateToBoard</th>\n",
       "      <th>requiresUpdateToFilter</th>\n",
       "    </tr>\n",
       "  </thead>\n",
       "  <tbody>\n",
       "    <tr>\n",
       "      <th>0</th>\n",
       "      <td>0</td>\n",
       "      <td>1552</td>\n",
       "      <td>.</td>\n",
       "      <td>{'userKeys': [{'key': 'JIRAUSER33768', 'displa...</td>\n",
       "      <td>46996</td>\n",
       "      <td>Filter for Cheaper Elsewhere</td>\n",
       "      <td>project = DSD ORDER BY Rank ASC</td>\n",
       "      <td>vhampsonti</td>\n",
       "      <td>Vere Hampson - Tindale</td>\n",
       "      <td></td>\n",
       "      <td>vhampsonti</td>\n",
       "      <td>vhampsonti</td>\n",
       "      <td>vhampsonti</td>\n",
       "      <td>False</td>\n",
       "      <td>False</td>\n",
       "    </tr>\n",
       "    <tr>\n",
       "      <th>1</th>\n",
       "      <td>0</td>\n",
       "      <td>1331</td>\n",
       "      <td>A&amp;BD AGPs</td>\n",
       "      <td>{'userKeys': [{'key': 'gwebb', 'displayName': ...</td>\n",
       "      <td>43449</td>\n",
       "      <td>All Alliances AGPs</td>\n",
       "      <td>project = AGP AND issuetype = Opportunity AND ...</td>\n",
       "      <td>gwebb</td>\n",
       "      <td>Gary Webb</td>\n",
       "      <td></td>\n",
       "      <td>gwebb</td>\n",
       "      <td>gwebb</td>\n",
       "      <td>gwebb</td>\n",
       "      <td>False</td>\n",
       "      <td>False</td>\n",
       "    </tr>\n",
       "    <tr>\n",
       "      <th>2</th>\n",
       "      <td>0</td>\n",
       "      <td>1260</td>\n",
       "      <td>A&amp;DB Requirement Elaboration Board</td>\n",
       "      <td>{'userKeys': [{'key': 'JIRAUSER31636', 'displa...</td>\n",
       "      <td>43640</td>\n",
       "      <td>Filter for A&amp;DB Requirement Elaboration Board</td>\n",
       "      <td>project = DLITE ORDER BY Rank ASC</td>\n",
       "      <td>pogliani</td>\n",
       "      <td>Paulo Ogliani</td>\n",
       "      <td></td>\n",
       "      <td>pogliani</td>\n",
       "      <td>pogliani</td>\n",
       "      <td>pogliani</td>\n",
       "      <td>False</td>\n",
       "      <td>False</td>\n",
       "    </tr>\n",
       "    <tr>\n",
       "      <th>3</th>\n",
       "      <td>0</td>\n",
       "      <td>1551</td>\n",
       "      <td>ACAD2023 board</td>\n",
       "      <td>{'userKeys': [{'key': 'JIRAUSER33505', 'displa...</td>\n",
       "      <td>46763</td>\n",
       "      <td>Filter for ACAD2023 board</td>\n",
       "      <td>project = ACAD2023 ORDER BY Rank ASC</td>\n",
       "      <td>mwalton</td>\n",
       "      <td>Mike Walton</td>\n",
       "      <td></td>\n",
       "      <td>mwalton|jfrew</td>\n",
       "      <td>mwalton|jfrew</td>\n",
       "      <td>mwalton</td>\n",
       "      <td>False</td>\n",
       "      <td>False</td>\n",
       "    </tr>\n",
       "    <tr>\n",
       "      <th>4</th>\n",
       "      <td>0</td>\n",
       "      <td>552</td>\n",
       "      <td>Africa Promo Initiative</td>\n",
       "      <td>{'userKeys': [{'key': 'JIRAUSER31636', 'displa...</td>\n",
       "      <td>33183</td>\n",
       "      <td>Africa_promo_filter</td>\n",
       "      <td>labels = Africa_promo_initiative</td>\n",
       "      <td>ijohnson</td>\n",
       "      <td>Isaac Johnson [X]</td>\n",
       "      <td></td>\n",
       "      <td>pogliani</td>\n",
       "      <td>pogliani</td>\n",
       "      <td>pogliani</td>\n",
       "      <td>False</td>\n",
       "      <td>True</td>\n",
       "    </tr>\n",
       "    <tr>\n",
       "      <th>...</th>\n",
       "      <td>...</td>\n",
       "      <td>...</td>\n",
       "      <td>...</td>\n",
       "      <td>...</td>\n",
       "      <td>...</td>\n",
       "      <td>...</td>\n",
       "      <td>...</td>\n",
       "      <td>...</td>\n",
       "      <td>...</td>\n",
       "      <td>...</td>\n",
       "      <td>...</td>\n",
       "      <td>...</td>\n",
       "      <td>...</td>\n",
       "      <td>...</td>\n",
       "      <td>...</td>\n",
       "    </tr>\n",
       "    <tr>\n",
       "      <th>871</th>\n",
       "      <td>0</td>\n",
       "      <td>1200</td>\n",
       "      <td>WOPS Kanban</td>\n",
       "      <td>{'userKeys': [{'key': 'JIRAUSER31409', 'displa...</td>\n",
       "      <td>43158</td>\n",
       "      <td>Filter for WOPS Kanban</td>\n",
       "      <td>project = WOPS ORDER BY Rank ASC</td>\n",
       "      <td>apreethasi</td>\n",
       "      <td>Asvin Preetha Sivadasan</td>\n",
       "      <td></td>\n",
       "      <td>apreethasi|ismith</td>\n",
       "      <td>apreethasi|ismith</td>\n",
       "      <td>apreethasi</td>\n",
       "      <td>False</td>\n",
       "      <td>False</td>\n",
       "    </tr>\n",
       "    <tr>\n",
       "      <th>872</th>\n",
       "      <td>0</td>\n",
       "      <td>1148</td>\n",
       "      <td>WOPS: Sprint Board</td>\n",
       "      <td>{'userKeys': [{'key': 'JIRAUSER31409', 'displa...</td>\n",
       "      <td>42886</td>\n",
       "      <td>WOPS: Sprint Board Filter</td>\n",
       "      <td>project = WOPS OR project in (CSS, RAD, TID, U...</td>\n",
       "      <td>apreethasi</td>\n",
       "      <td>Asvin Preetha Sivadasan</td>\n",
       "      <td></td>\n",
       "      <td>apreethasi|cthear|ismith|jverma|mabryan|sbayat</td>\n",
       "      <td>apreethasi|cthear|ismith|jverma|mabryan|sbayat</td>\n",
       "      <td>apreethasi</td>\n",
       "      <td>False</td>\n",
       "      <td>False</td>\n",
       "    </tr>\n",
       "    <tr>\n",
       "      <th>873</th>\n",
       "      <td>0</td>\n",
       "      <td>1086</td>\n",
       "      <td>Workflow - Lily Neville</td>\n",
       "      <td>{'userKeys': [{'key': 'lneville', 'displayName...</td>\n",
       "      <td>42569</td>\n",
       "      <td>Filter for Workflow - Lily Neville</td>\n",
       "      <td>project in (MMAD, MDNC, MDEC, MDDA) AND issuet...</td>\n",
       "      <td>lneville</td>\n",
       "      <td>Lily Neville</td>\n",
       "      <td></td>\n",
       "      <td>lneville</td>\n",
       "      <td>lneville</td>\n",
       "      <td>lneville</td>\n",
       "      <td>False</td>\n",
       "      <td>False</td>\n",
       "    </tr>\n",
       "    <tr>\n",
       "      <th>874</th>\n",
       "      <td>0</td>\n",
       "      <td>589</td>\n",
       "      <td>Workflow Data &amp; Doco Summary</td>\n",
       "      <td>{'userKeys': [{'key': 'smackay', 'displayName'...</td>\n",
       "      <td>34387</td>\n",
       "      <td>Workflow Data &amp; Doco Epics</td>\n",
       "      <td>project = \"Workflow, Data, Doco\" AND issuetype...</td>\n",
       "      <td>smackay</td>\n",
       "      <td>Sandy Mackay</td>\n",
       "      <td></td>\n",
       "      <td>smackay</td>\n",
       "      <td>smackay</td>\n",
       "      <td>smackay</td>\n",
       "      <td>False</td>\n",
       "      <td>False</td>\n",
       "    </tr>\n",
       "    <tr>\n",
       "      <th>875</th>\n",
       "      <td>0</td>\n",
       "      <td>447</td>\n",
       "      <td>Workflow, Data &amp; Doco</td>\n",
       "      <td>{'userKeys': [{'key': 'smackay', 'displayName'...</td>\n",
       "      <td>30588</td>\n",
       "      <td>Workflow, Data &amp; Doco</td>\n",
       "      <td>assignee in (mdissanaya, lpadlan, bsmith, ksha...</td>\n",
       "      <td>smackay</td>\n",
       "      <td>Sandy Mackay</td>\n",
       "      <td></td>\n",
       "      <td>smackay</td>\n",
       "      <td>smackay</td>\n",
       "      <td>smackay</td>\n",
       "      <td>False</td>\n",
       "      <td>False</td>\n",
       "    </tr>\n",
       "  </tbody>\n",
       "</table>\n",
       "<p>876 rows × 15 columns</p>\n",
       "</div>"
      ],
      "text/plain": [
       "     index    id                                name  \\\n",
       "0        0  1552                                   .   \n",
       "1        0  1331                           A&BD AGPs   \n",
       "2        0  1260  A&DB Requirement Elaboration Board   \n",
       "3        0  1551                      ACAD2023 board   \n",
       "4        0   552             Africa Promo Initiative   \n",
       "..     ...   ...                                 ...   \n",
       "871      0  1200                         WOPS Kanban   \n",
       "872      0  1148                  WOPS: Sprint Board   \n",
       "873      0  1086             Workflow - Lily Neville   \n",
       "874      0   589        Workflow Data & Doco Summary   \n",
       "875      0   447               Workflow, Data & Doco   \n",
       "\n",
       "                                           boardAdmins  filter id  \\\n",
       "0    {'userKeys': [{'key': 'JIRAUSER33768', 'displa...      46996   \n",
       "1    {'userKeys': [{'key': 'gwebb', 'displayName': ...      43449   \n",
       "2    {'userKeys': [{'key': 'JIRAUSER31636', 'displa...      43640   \n",
       "3    {'userKeys': [{'key': 'JIRAUSER33505', 'displa...      46763   \n",
       "4    {'userKeys': [{'key': 'JIRAUSER31636', 'displa...      33183   \n",
       "..                                                 ...        ...   \n",
       "871  {'userKeys': [{'key': 'JIRAUSER31409', 'displa...      43158   \n",
       "872  {'userKeys': [{'key': 'JIRAUSER31409', 'displa...      42886   \n",
       "873  {'userKeys': [{'key': 'lneville', 'displayName...      42569   \n",
       "874  {'userKeys': [{'key': 'smackay', 'displayName'...      34387   \n",
       "875  {'userKeys': [{'key': 'smackay', 'displayName'...      30588   \n",
       "\n",
       "                                       filter name  \\\n",
       "0                    Filter for Cheaper Elsewhere    \n",
       "1                               All Alliances AGPs   \n",
       "2    Filter for A&DB Requirement Elaboration Board   \n",
       "3                        Filter for ACAD2023 board   \n",
       "4                              Africa_promo_filter   \n",
       "..                                             ...   \n",
       "871                         Filter for WOPS Kanban   \n",
       "872                      WOPS: Sprint Board Filter   \n",
       "873             Filter for Workflow - Lily Neville   \n",
       "874                     Workflow Data & Doco Epics   \n",
       "875                          Workflow, Data & Doco   \n",
       "\n",
       "                                          filter query filter owner userName  \\\n",
       "0                      project = DSD ORDER BY Rank ASC            vhampsonti   \n",
       "1    project = AGP AND issuetype = Opportunity AND ...                 gwebb   \n",
       "2                    project = DLITE ORDER BY Rank ASC              pogliani   \n",
       "3                 project = ACAD2023 ORDER BY Rank ASC               mwalton   \n",
       "4                     labels = Africa_promo_initiative              ijohnson   \n",
       "..                                                 ...                   ...   \n",
       "871                   project = WOPS ORDER BY Rank ASC            apreethasi   \n",
       "872  project = WOPS OR project in (CSS, RAD, TID, U...            apreethasi   \n",
       "873  project in (MMAD, MDNC, MDEC, MDDA) AND issuet...              lneville   \n",
       "874  project = \"Workflow, Data, Doco\" AND issuetype...               smackay   \n",
       "875  assignee in (mdissanaya, lpadlan, bsmith, ksha...               smackay   \n",
       "\n",
       "    filter owner displayName boardAdmin Groups  \\\n",
       "0     Vere Hampson - Tindale                     \n",
       "1                  Gary Webb                     \n",
       "2              Paulo Ogliani                     \n",
       "3                Mike Walton                     \n",
       "4          Isaac Johnson [X]                     \n",
       "..                       ...               ...   \n",
       "871  Asvin Preetha Sivadasan                     \n",
       "872  Asvin Preetha Sivadasan                     \n",
       "873             Lily Neville                     \n",
       "874             Sandy Mackay                     \n",
       "875             Sandy Mackay                     \n",
       "\n",
       "                                boardAdminUsernames  \\\n",
       "0                                        vhampsonti   \n",
       "1                                             gwebb   \n",
       "2                                          pogliani   \n",
       "3                                     mwalton|jfrew   \n",
       "4                                          pogliani   \n",
       "..                                              ...   \n",
       "871                               apreethasi|ismith   \n",
       "872  apreethasi|cthear|ismith|jverma|mabryan|sbayat   \n",
       "873                                        lneville   \n",
       "874                                         smackay   \n",
       "875                                         smackay   \n",
       "\n",
       "                                          newAdmins newFilterOwner  \\\n",
       "0                                        vhampsonti     vhampsonti   \n",
       "1                                             gwebb          gwebb   \n",
       "2                                          pogliani       pogliani   \n",
       "3                                     mwalton|jfrew        mwalton   \n",
       "4                                          pogliani       pogliani   \n",
       "..                                              ...            ...   \n",
       "871                               apreethasi|ismith     apreethasi   \n",
       "872  apreethasi|cthear|ismith|jverma|mabryan|sbayat     apreethasi   \n",
       "873                                        lneville       lneville   \n",
       "874                                         smackay        smackay   \n",
       "875                                         smackay        smackay   \n",
       "\n",
       "     requiresUpdateToBoard  requiresUpdateToFilter  \n",
       "0                    False                   False  \n",
       "1                    False                   False  \n",
       "2                    False                   False  \n",
       "3                    False                   False  \n",
       "4                    False                    True  \n",
       "..                     ...                     ...  \n",
       "871                  False                   False  \n",
       "872                  False                   False  \n",
       "873                  False                   False  \n",
       "874                  False                   False  \n",
       "875                  False                   False  \n",
       "\n",
       "[876 rows x 15 columns]"
      ]
     },
     "metadata": {},
     "output_type": "display_data"
    }
   ],
   "source": [
    "df = fnBoards()\n",
    "\n",
    "df = df.explode(\"views\")\n",
    "df = df.drop([\"total\", \"globalConfig\"], axis=1)\n",
    "df = df.expand(\"views\", [], None, False)\n",
    "df = df.drop([\"canEdit\", \"sprintSupportEnabled\"], axis=1)\n",
    "df = df.expand(\"filter\", [], \"Prefix\", False)\n",
    "df = df.drop([\"filter canEdit\", \"filter isOrderedByRank\", \"filter permissionEntries\", \"filter canBeFixed\"], axis=1)\n",
    "df = df.expand(\"filter owner\", [], \"Prefix\", False)\n",
    "df = df.drop([\"filter owner renderedLink\"], axis=1)\n",
    "\n",
    "df2 = df.expand(\"boardAdmins\", [], \"Prefix\", False)\n",
    "df2 = df2.expand(\"boardAdmins userKeys\", [], \"Prefix\", False)\n",
    "for i in range(6): df2 = df2.expand(\"boardAdmins userKeys \" + str(i), [], \"Prefix\", False)\n",
    "\n",
    "df2 = df2.expand(\"boardAdmins groupKeys\", [], \"Prefix\", False)\n",
    "for i in range(2): df2 = df2.expand(\"boardAdmins groupKeys \" + str(i), [], \"Prefix\", False)\n",
    "\n",
    "try:\n",
    "\tdf2['boardAdmins groups'] = df2[[\"boardAdmins groupKeys \" + str(i) + \" key\" for i in range(1)]].apply(lambda row: '|'.join(filter(lambda value: str(value).upper() != \"NAN\", row.values.astype(str))), axis=1)\n",
    "\tdf['boardAdmin Groups'] = df2[\"boardAdmins groups\"]\n",
    "except:\n",
    "\tpass\n",
    "\n",
    "def linkRel(row):\n",
    "\tsoup = BeautifulSoup(' '.join(row.values.astype(str)), 'html.parser').findAll('a')\n",
    "\treturn \"|\".join(a.get('rel')[0] if a != None else \"\" for a in soup) if soup != None else \"\"\n",
    "\n",
    "cols = [\"boardAdmins userKeys \" + str(i) + \" displayName\" for i in range(6)]\n",
    "df['boardAdminUsernames'] = df2[cols].apply(linkRel, axis=1)\n",
    "\n",
    "\n",
    "df['newAdmins'] = \"\"\n",
    "df['newFilterOwner'] = \"\"\n",
    "df = df.reset_index()  # make sure indexes pair with number of rows\n",
    "\n",
    "## This is not correct pandas but i couldn't make it work otherwise!\n",
    "for index, row in df.iterrows():\n",
    "\tnewAdmins = []\n",
    "\trequiresDefault = False\n",
    "\tfor username in row['boardAdminUsernames'].split(\"|\"):\n",
    "\t\tuserRecord = users.loc[users['name'] == username]\n",
    "\t\tif userRecord.empty:\n",
    "\t\t\tcontinue\n",
    "\t\tif userRecord['active'].bool():\n",
    "\t\t\tnewAdmins.append(username)\n",
    "\tif len(newAdmins) == 0: ## & requiresDefault:\n",
    "\t\tdf.at[index,'newAdmins'] = \"pogliani\"\n",
    "\telse:\n",
    "\t\tdf.at[index,'newAdmins'] = '|'.join(newAdmins)\n",
    "\n",
    "\tfilterOwner = row['filter owner userName']\n",
    "\tuserRecord = users.loc[users['name'] == filterOwner]\n",
    "\tif userRecord.empty:\n",
    "\t\tcontinue\n",
    "\tif userRecord['active'].bool():\n",
    "\t\tdf.at[index,'newFilterOwner'] = filterOwner\n",
    "\telse:\n",
    "\t\tdf.at[index,'newFilterOwner'] = \"pogliani\"\n",
    "\n",
    "df['requiresUpdateToBoard'] = df['newAdmins'] != df['boardAdminUsernames']\n",
    "df['requiresUpdateToFilter'] = df['newFilterOwner'] != df[\"filter owner userName\"]\n",
    "\n",
    "#df.to_excel('../ListBoardOwners.xlsx', index=False)\n",
    "\n",
    "display(df)"
   ]
  },
  {
   "cell_type": "code",
   "execution_count": 7,
   "metadata": {},
   "outputs": [
    {
     "data": {
      "text/html": [
       "<div>\n",
       "<style scoped>\n",
       "    .dataframe tbody tr th:only-of-type {\n",
       "        vertical-align: middle;\n",
       "    }\n",
       "\n",
       "    .dataframe tbody tr th {\n",
       "        vertical-align: top;\n",
       "    }\n",
       "\n",
       "    .dataframe thead th {\n",
       "        text-align: right;\n",
       "    }\n",
       "</style>\n",
       "<table border=\"1\" class=\"dataframe\">\n",
       "  <thead>\n",
       "    <tr style=\"text-align: right;\">\n",
       "      <th></th>\n",
       "      <th>index</th>\n",
       "      <th>id</th>\n",
       "      <th>boardAdmin Groups</th>\n",
       "      <th>boardAdminUsernames</th>\n",
       "      <th>newAdmins</th>\n",
       "    </tr>\n",
       "  </thead>\n",
       "  <tbody>\n",
       "  </tbody>\n",
       "</table>\n",
       "</div>"
      ],
      "text/plain": [
       "Empty DataFrame\n",
       "Columns: [index, id, boardAdmin Groups, boardAdminUsernames, newAdmins]\n",
       "Index: []"
      ]
     },
     "metadata": {},
     "output_type": "display_data"
    },
    {
     "name": "stdout",
     "output_type": "stream",
     "text": [
      "Clean!\n"
     ]
    }
   ],
   "source": [
    "#! Remove Inactive Board Users\n",
    "\n",
    "removeInactiveBoardUsersDf = df[df['requiresUpdateToBoard']]\n",
    "removeInactiveBoardUsersDf = removeInactiveBoardUsersDf[removeInactiveBoardUsersDf['requiresUpdateToBoard']]\n",
    "removeInactiveBoardUsersDf = removeInactiveBoardUsersDf.drop([\"boardAdmins\", \"name\", \"filter id\", \"filter owner userName\", \"filter name\", \"filter query\", \"filter owner displayName\", \"newFilterOwner\", \"requiresUpdateToBoard\", \"requiresUpdateToFilter\"], axis=1)\n",
    "\n",
    "display(removeInactiveBoardUsersDf)\n",
    "\n",
    "errors = 0\n",
    "updated = 0\n",
    "for index, row in removeInactiveBoardUsersDf.iterrows():\n",
    "\n",
    "\tadmins = []\n",
    "\tfor username in row['newAdmins'].split(\"|\"):\n",
    "\t\tuserRecord = users.loc[users['name'] == username]\n",
    "\t\tadmins.append(userRecord['key'].values[0])\n",
    "\n",
    "\tdisplay((row['id'], admins, row['boardAdmin Groups'].split(\"|\") if len(row['boardAdmin Groups']) > 0 else []))\n",
    "\n",
    "\tresult = fnUpdateBoardAdmins(row['id'], admins, row['boardAdmin Groups'].split(\"|\") if len(row['boardAdmin Groups']) > 0 else [])\n",
    "\tif ('errorMessages' in result):\n",
    "\t\tdisplay((result, row['id'], admins, row['boardAdmin Groups'].split(\"|\") if len(row['boardAdmin Groups']) > 0 else []))\n",
    "\t\terrors = errors + 1\n",
    "\telse:\n",
    "\t\tupdated = updated + 1\n",
    "\n",
    "if errors > 0 :\n",
    "    print (f\"Errors {errors} out of {len(removeInactiveBoardUsersDf.index)}\")\n",
    "else:\n",
    "\tif updated > 0:\n",
    "\t\tprint (f\"Updated {updated} out of {len(removeInactiveBoardUsersDf.index)}\")\n",
    "\telse:\n",
    "\t\tprint (\"Clean!\")\n"
   ]
  },
  {
   "cell_type": "code",
   "execution_count": 8,
   "metadata": {},
   "outputs": [
    {
     "data": {
      "text/html": [
       "<div>\n",
       "<style scoped>\n",
       "    .dataframe tbody tr th:only-of-type {\n",
       "        vertical-align: middle;\n",
       "    }\n",
       "\n",
       "    .dataframe tbody tr th {\n",
       "        vertical-align: top;\n",
       "    }\n",
       "\n",
       "    .dataframe thead th {\n",
       "        text-align: right;\n",
       "    }\n",
       "</style>\n",
       "<table border=\"1\" class=\"dataframe\">\n",
       "  <thead>\n",
       "    <tr style=\"text-align: right;\">\n",
       "      <th></th>\n",
       "      <th>index</th>\n",
       "      <th>filter id</th>\n",
       "      <th>filter name</th>\n",
       "      <th>filter query</th>\n",
       "      <th>filter owner userName</th>\n",
       "      <th>filter owner displayName</th>\n",
       "      <th>newFilterOwner</th>\n",
       "    </tr>\n",
       "  </thead>\n",
       "  <tbody>\n",
       "    <tr>\n",
       "      <th>4</th>\n",
       "      <td>0</td>\n",
       "      <td>33183</td>\n",
       "      <td>Africa_promo_filter</td>\n",
       "      <td>labels = Africa_promo_initiative</td>\n",
       "      <td>ijohnson</td>\n",
       "      <td>Isaac Johnson [X]</td>\n",
       "      <td>pogliani</td>\n",
       "    </tr>\n",
       "    <tr>\n",
       "      <th>5</th>\n",
       "      <td>0</td>\n",
       "      <td>37433</td>\n",
       "      <td>Filter for AGGI Spirit Board</td>\n",
       "      <td>project = AGQL ORDER BY Rank ASC</td>\n",
       "      <td>ghari</td>\n",
       "      <td>Govind Hari [X]</td>\n",
       "      <td>pogliani</td>\n",
       "    </tr>\n",
       "    <tr>\n",
       "      <th>7</th>\n",
       "      <td>0</td>\n",
       "      <td>39081</td>\n",
       "      <td>Filter for Change Delivery Board</td>\n",
       "      <td>project = CHDLV ORDER BY Rank ASC</td>\n",
       "      <td>ghari</td>\n",
       "      <td>Govind Hari [X]</td>\n",
       "      <td>pogliani</td>\n",
       "    </tr>\n",
       "    <tr>\n",
       "      <th>8</th>\n",
       "      <td>0</td>\n",
       "      <td>44493</td>\n",
       "      <td>Filter for System Support - AGP Initiatives</td>\n",
       "      <td>project = AGP AND resolution = Unresolved AND ...</td>\n",
       "      <td>rewalsh</td>\n",
       "      <td>Reece Walsh [X]</td>\n",
       "      <td>pogliani</td>\n",
       "    </tr>\n",
       "    <tr>\n",
       "      <th>9</th>\n",
       "      <td>0</td>\n",
       "      <td>38941</td>\n",
       "      <td>AGP: Large or Complex</td>\n",
       "      <td>project = AGP AND \"Portfolio Change Type\" = \"L...</td>\n",
       "      <td>mhastie</td>\n",
       "      <td>Melody Hastie [X]</td>\n",
       "      <td>pogliani</td>\n",
       "    </tr>\n",
       "    <tr>\n",
       "      <th>...</th>\n",
       "      <td>...</td>\n",
       "      <td>...</td>\n",
       "      <td>...</td>\n",
       "      <td>...</td>\n",
       "      <td>...</td>\n",
       "      <td>...</td>\n",
       "      <td>...</td>\n",
       "    </tr>\n",
       "    <tr>\n",
       "      <th>845</th>\n",
       "      <td>0</td>\n",
       "      <td>41385</td>\n",
       "      <td>Filter for TT board</td>\n",
       "      <td>project = TT ORDER BY Rank ASC</td>\n",
       "      <td>mhastie</td>\n",
       "      <td>Melody Hastie [X]</td>\n",
       "      <td>pogliani</td>\n",
       "    </tr>\n",
       "    <tr>\n",
       "      <th>846</th>\n",
       "      <td>0</td>\n",
       "      <td>41399</td>\n",
       "      <td>Filter for TT Sprint 1</td>\n",
       "      <td>project = TT ORDER BY Rank ASC</td>\n",
       "      <td>gboon</td>\n",
       "      <td>Gareth Boon [X]</td>\n",
       "      <td>pogliani</td>\n",
       "    </tr>\n",
       "    <tr>\n",
       "      <th>849</th>\n",
       "      <td>0</td>\n",
       "      <td>42553</td>\n",
       "      <td>Filter for UAT Defect Board</td>\n",
       "      <td>project = UATT</td>\n",
       "      <td>fhowell</td>\n",
       "      <td>Fiona Howell [X]</td>\n",
       "      <td>pogliani</td>\n",
       "    </tr>\n",
       "    <tr>\n",
       "      <th>850</th>\n",
       "      <td>0</td>\n",
       "      <td>42553</td>\n",
       "      <td>Filter for UAT Defect Board</td>\n",
       "      <td>project = UATT</td>\n",
       "      <td>fhowell</td>\n",
       "      <td>Fiona Howell [X]</td>\n",
       "      <td>pogliani</td>\n",
       "    </tr>\n",
       "    <tr>\n",
       "      <th>853</th>\n",
       "      <td>0</td>\n",
       "      <td>18255</td>\n",
       "      <td>All Design Tickets</td>\n",
       "      <td>issuetype = \"Creative Design\" AND status not i...</td>\n",
       "      <td>dhowell</td>\n",
       "      <td>David Howell [X]</td>\n",
       "      <td>pogliani</td>\n",
       "    </tr>\n",
       "  </tbody>\n",
       "</table>\n",
       "<p>446 rows × 7 columns</p>\n",
       "</div>"
      ],
      "text/plain": [
       "     index  filter id                                  filter name  \\\n",
       "4        0      33183                          Africa_promo_filter   \n",
       "5        0      37433                 Filter for AGGI Spirit Board   \n",
       "7        0      39081             Filter for Change Delivery Board   \n",
       "8        0      44493  Filter for System Support - AGP Initiatives   \n",
       "9        0      38941                        AGP: Large or Complex   \n",
       "..     ...        ...                                          ...   \n",
       "845      0      41385                          Filter for TT board   \n",
       "846      0      41399                       Filter for TT Sprint 1   \n",
       "849      0      42553                  Filter for UAT Defect Board   \n",
       "850      0      42553                  Filter for UAT Defect Board   \n",
       "853      0      18255                           All Design Tickets   \n",
       "\n",
       "                                          filter query filter owner userName  \\\n",
       "4                     labels = Africa_promo_initiative              ijohnson   \n",
       "5                     project = AGQL ORDER BY Rank ASC                 ghari   \n",
       "7                    project = CHDLV ORDER BY Rank ASC                 ghari   \n",
       "8    project = AGP AND resolution = Unresolved AND ...               rewalsh   \n",
       "9    project = AGP AND \"Portfolio Change Type\" = \"L...               mhastie   \n",
       "..                                                 ...                   ...   \n",
       "845                     project = TT ORDER BY Rank ASC               mhastie   \n",
       "846                     project = TT ORDER BY Rank ASC                 gboon   \n",
       "849                                     project = UATT               fhowell   \n",
       "850                                     project = UATT               fhowell   \n",
       "853  issuetype = \"Creative Design\" AND status not i...               dhowell   \n",
       "\n",
       "    filter owner displayName newFilterOwner  \n",
       "4          Isaac Johnson [X]       pogliani  \n",
       "5            Govind Hari [X]       pogliani  \n",
       "7            Govind Hari [X]       pogliani  \n",
       "8            Reece Walsh [X]       pogliani  \n",
       "9          Melody Hastie [X]       pogliani  \n",
       "..                       ...            ...  \n",
       "845        Melody Hastie [X]       pogliani  \n",
       "846          Gareth Boon [X]       pogliani  \n",
       "849         Fiona Howell [X]       pogliani  \n",
       "850         Fiona Howell [X]       pogliani  \n",
       "853         David Howell [X]       pogliani  \n",
       "\n",
       "[446 rows x 7 columns]"
      ]
     },
     "metadata": {},
     "output_type": "display_data"
    },
    {
     "data": {
      "text/plain": [
       "(33183,\n",
       " 'labels = Africa_promo_initiative',\n",
       " 'Africa_promo_filter',\n",
       " 'unknown',\n",
       " 'pogliani')"
      ]
     },
     "metadata": {},
     "output_type": "display_data"
    },
    {
     "data": {
      "text/plain": [
       "(37433,\n",
       " 'project = AGQL ORDER BY Rank ASC',\n",
       " 'Filter for AGGI Spirit Board',\n",
       " 'unknown',\n",
       " 'pogliani')"
      ]
     },
     "metadata": {},
     "output_type": "display_data"
    },
    {
     "data": {
      "text/plain": [
       "(44493,\n",
       " 'project = AGP AND resolution = Unresolved AND \"Delivery Teams\" in (\"Support Optimisation\", \"Support Triage\") ORDER BY Rank ASC',\n",
       " 'Filter for System Support - AGP Initiatives',\n",
       " 'unknown',\n",
       " 'pogliani')"
      ]
     },
     "metadata": {},
     "output_type": "display_data"
    },
    {
     "data": {
      "text/plain": [
       "(38941,\n",
       " 'project = AGP AND \"Portfolio Change Type\" = \"Large or Complex\" ORDER BY Rank ASC',\n",
       " 'AGP: Large or Complex',\n",
       " 'unknown',\n",
       " 'pogliani')"
      ]
     },
     "metadata": {},
     "output_type": "display_data"
    },
    {
     "data": {
      "text/plain": [
       "(38960,\n",
       " 'project = AGP AND fixVersion in (MIAP, \"COVID-19 Digital Acceleration\", \"COVID-19 Business Response\") ORDER BY Rank ASC',\n",
       " 'AGP Board:MIAP-Covid19',\n",
       " 'unknown',\n",
       " 'pogliani')"
      ]
     },
     "metadata": {},
     "output_type": "display_data"
    },
    {
     "data": {
      "text/plain": [
       "(38929,\n",
       " 'project = AGP AND \"Hub Alignment\" = \"Product: Car\" ORDER BY Rank ASC',\n",
       " 'AGP: Car Product',\n",
       " 'unknown',\n",
       " 'pogliani')"
      ]
     },
     "metadata": {},
     "output_type": "display_data"
    },
    {
     "data": {
      "text/plain": [
       "(38932,\n",
       " 'project = AGP AND \"Hub Alignment\" = Digital ORDER BY Rank ASC',\n",
       " 'AGP:Digital',\n",
       " 'unknown',\n",
       " 'pogliani')"
      ]
     },
     "metadata": {},
     "output_type": "display_data"
    },
    {
     "data": {
      "text/plain": [
       "(43721,\n",
       " 'project = AGP ORDER BY Rank ASC',\n",
       " 'Filter for AGP: Enterprise Delivery Hub',\n",
       " 'unknown',\n",
       " 'pogliani')"
      ]
     },
     "metadata": {},
     "output_type": "display_data"
    },
    {
     "data": {
      "text/plain": [
       "(38922,\n",
       " 'project = AGP AND \"Hub Alignment\" = \"Product: Home\" ORDER BY Rank ASC',\n",
       " 'Filter for AGP: Product Hub',\n",
       " 'unknown',\n",
       " 'pogliani')"
      ]
     },
     "metadata": {},
     "output_type": "display_data"
    },
    {
     "data": {
      "text/plain": [
       "(38930,\n",
       " 'project = AGP AND \"Hub Alignment\" = \"Product: Partnerships\" ORDER BY Rank ASC',\n",
       " 'AGP: Product Partnerships ',\n",
       " 'unknown',\n",
       " 'pogliani')"
      ]
     },
     "metadata": {},
     "output_type": "display_data"
    },
    {
     "data": {
      "text/plain": [
       "(38503,\n",
       " 'project in (SNGD, RAD, CSS, DLITE, DMC, SLS1, SLS2, SVE1, SVC2, SVC3) AND issuetype in (Bug, Defect) AND \"Delivery Stream\" in (\"Digital: Lifestyle\", \"Digital: Motorcycle\", \"Digital: Sales 1 (Motor)\", \"Digital: Sales 2 (Home)\", \"Digital: Service 1 (OPM)\", \"Digital: Service 2 (Claims)\", \"Digital: Service 3 (OPM)\", \"Solera Next Gen Delivery\")',\n",
       " 'All-Digital Bugs',\n",
       " 'unknown',\n",
       " 'pogliani')"
      ]
     },
     "metadata": {},
     "output_type": "display_data"
    },
    {
     "data": {
      "text/plain": [
       "(23506,\n",
       " 'project in (\"M&D-New Customers\", \"M&D-Existing Customers\") AND status not in (closed, done) AND createdDate > startOfYear(-1) ORDER BY created ASC, status DESC',\n",
       " 'Amanda - Kanban Query',\n",
       " 'unknown',\n",
       " 'pogliani')"
      ]
     },
     "metadata": {},
     "output_type": "display_data"
    },
    {
     "data": {
      "text/plain": [
       "(32981,\n",
       " 'project = AUTH AND type != Epic ORDER BY Rank ASC',\n",
       " 'Filter for AUTH board',\n",
       " 'unknown',\n",
       " 'pogliani')"
      ]
     },
     "metadata": {},
     "output_type": "display_data"
    },
    {
     "data": {
      "text/plain": [
       "(37935,\n",
       " 'project = AGP AND issuetype in (Bundle, Opportunity) ORDER BY status, fixVersion, priority,\"T-Shirt Size\" ASC',\n",
       " 'Filter for AGP board',\n",
       " 'unknown',\n",
       " 'pogliani')"
      ]
     },
     "metadata": {},
     "output_type": "display_data"
    },
    {
     "data": {
      "text/plain": [
       "(43073,\n",
       " 'project = CCC ORDER BY Rank ASC',\n",
       " 'Filter for General Board',\n",
       " 'unknown',\n",
       " 'pogliani')"
      ]
     },
     "metadata": {},
     "output_type": "display_data"
    },
    {
     "data": {
      "text/plain": [
       "(21984,\n",
       " 'project = BCP AND issuetype = \"BCP Test\" ORDER BY updated DESC',\n",
       " 'BCP Test Schedule',\n",
       " 'unknown',\n",
       " 'pogliani')"
      ]
     },
     "metadata": {},
     "output_type": "display_data"
    },
    {
     "data": {
      "text/plain": [
       "(36280,\n",
       " 'project = BPP ORDER BY Rank ASC',\n",
       " 'Filter for BPP board',\n",
       " 'unknown',\n",
       " 'pogliani')"
      ]
     },
     "metadata": {},
     "output_type": "display_data"
    },
    {
     "data": {
      "text/plain": [
       "(37029,\n",
       " '(reporter = alhall OR reporter = lacarter OR reporter = beppingsta OR reporter = shannifin) AND status not in (Closed, Done, Resolved) AND project not in  (\"TSD Digital Testing\") OR labels = canajob OR labels = BSOS OR project in (Support, \"Contact Centre\", \"Service 2\") AND issuetype = Bug AND status not in (Closed, Done) AND \"Delivery Stream\" in (\"Non Digital: Contact Centre\", \"Non Digital: Workflow/Data/Doco\", \"Digital: Service 2 (Claims)\") AND project not in (\"TSD Digital Testing\")',\n",
       " 'BSOS V3',\n",
       " 'unknown',\n",
       " 'pogliani')"
      ]
     },
     "metadata": {},
     "output_type": "display_data"
    },
    {
     "data": {
      "text/plain": [
       "(42740,\n",
       " 'project = CRE AND labels = Aldrin ORDER BY Rank ASC',\n",
       " 'Filter for C&A Aldrin',\n",
       " 'unknown',\n",
       " 'pogliani')"
      ]
     },
     "metadata": {},
     "output_type": "display_data"
    },
    {
     "data": {
      "text/plain": [
       "(43579,\n",
       " 'project = AGP AND issuetype = Opportunity AND \"Sponsoring Business Area\" = \"MP - Connected Claims\" ORDER BY Rank ASC',\n",
       " 'Filter for C&A Change Delivery Major Plays',\n",
       " 'unknown',\n",
       " 'pogliani')"
      ]
     },
     "metadata": {},
     "output_type": "display_data"
    },
    {
     "data": {
      "text/plain": [
       "(43087,\n",
       " 'project in (AGP, C3PO) AND \"Value Stream\" = \"Claims 3.0\"',\n",
       " 'Claims3.0-AGPs',\n",
       " 'unknown',\n",
       " 'pogliani')"
      ]
     },
     "metadata": {},
     "output_type": "display_data"
    },
    {
     "data": {
      "text/plain": [
       "(40268,\n",
       " 'project in (AGP) AND labels = CARE ORDER BY Rank ASC',\n",
       " 'C&A Risk & Enterprise Opportunities - Ranked',\n",
       " 'unknown',\n",
       " 'pogliani')"
      ]
     },
     "metadata": {},
     "output_type": "display_data"
    },
    {
     "data": {
      "text/plain": [
       "(43722,\n",
       " 'project = CARR AND issuetype in (Risks, Issue) AND Status != Closed OR (project = AGP AND issuetype in (Risk, Issue) AND \"Hub Alignment\" in (\"Claims & Assessing\") AND Status != Closed)',\n",
       " 'Filter for C&A Risk Register',\n",
       " 'unknown',\n",
       " 'pogliani')"
      ]
     },
     "metadata": {},
     "output_type": "display_data"
    },
    {
     "data": {
      "text/plain": [
       "(39494,\n",
       " 'project = CAKM ORDER BY Rank ASC',\n",
       " 'Filter for CAD-026 C&A Knowledge Strategy & Implementation Board',\n",
       " 'unknown',\n",
       " 'pogliani')"
      ]
     },
     "metadata": {},
     "output_type": "display_data"
    },
    {
     "data": {
      "text/plain": [
       "(37998,\n",
       " 'filter = \"Filter for Reuben - Test\" AND Grouping in (Testing ,\"Operations Support\")',\n",
       " 'Claims & Assessing Change Delivery: Test Only',\n",
       " 'unknown',\n",
       " 'pogliani')"
      ]
     },
     "metadata": {},
     "output_type": "display_data"
    },
    {
     "data": {
      "text/plain": [
       "(37994,\n",
       " 'project = CAEAI ORDER BY Rank ASC',\n",
       " 'Filter for CAEAI board',\n",
       " 'unknown',\n",
       " 'pogliani')"
      ]
     },
     "metadata": {},
     "output_type": "display_data"
    },
    {
     "data": {
      "text/plain": [
       "(38084,\n",
       " 'project = CAP ORDER BY Rank ASC',\n",
       " 'Filter for CAP board 3',\n",
       " 'unknown',\n",
       " 'pogliani')"
      ]
     },
     "metadata": {},
     "output_type": "display_data"
    },
    {
     "data": {
      "text/plain": [
       "(43686,\n",
       " 'project = CAPA ORDER BY Rank ASC',\n",
       " 'Filter for CAPA board',\n",
       " 'unknown',\n",
       " 'pogliani')"
      ]
     },
     "metadata": {},
     "output_type": "display_data"
    },
    {
     "data": {
      "text/plain": [
       "(38751,\n",
       " 'Filter = \"OPM Team Deployments-Service 1\" AND (Labels in (Service1Deploy) OR \"Implementation Instructions\" is not EMPTY AND Labels not in (Settings, MySQL, Frontend, FrontEnd, frontend, Microservice)) ORDER BY \"Deployment Date\", \"Delivery Stream\", \"Epic Name\", \"Epic Link\", Status, Type, Key',\n",
       " 'CAR Digital BE Deployment Board',\n",
       " 'unknown',\n",
       " 'pogliani')"
      ]
     },
     "metadata": {},
     "output_type": "display_data"
    },
    {
     "data": {
      "text/plain": [
       "(38940,\n",
       " 'project in (CSS, Sales1, RAD) AND issuetype in (Bug, Defect, Story, Task) AND status in (\"Waiting to Go Live\", Closed, \"Awaiting Release Review\", \"Post Implementation Review\", \"Go Live Scheduled\", Done, \"Production Testing\", \"Deploy To Pre Prod\", \"Pre Prod Testing\", \"Deploy To Production\") AND \"Delivery Stream\" = \"Digital: Sales 1 (Motor)\"  ORDER BY summary ASC',\n",
       " 'Car Sales Go Live Cycle',\n",
       " 'unknown',\n",
       " 'pogliani')"
      ]
     },
     "metadata": {},
     "output_type": "display_data"
    },
    {
     "data": {
      "text/plain": [
       "(42594,\n",
       " 'project = SVE1 AND type not in subTaskIssueTypes() ORDER BY Rank ASC',\n",
       " 'Filter for Epic SVE1',\n",
       " 'unknown',\n",
       " 'pogliani')"
      ]
     },
     "metadata": {},
     "output_type": "display_data"
    },
    {
     "data": {
      "text/plain": [
       "(41081,\n",
       " 'project = PHX ORDER BY Rank ASC',\n",
       " 'Filter for PHX',\n",
       " 'unknown',\n",
       " 'pogliani')"
      ]
     },
     "metadata": {},
     "output_type": "display_data"
    },
    {
     "data": {
      "text/plain": [
       "(42029,\n",
       " 'project = CCM ORDER BY Rank ASC',\n",
       " 'Filter for CCM Magic Board',\n",
       " 'unknown',\n",
       " 'pogliani')"
      ]
     },
     "metadata": {},
     "output_type": "display_data"
    },
    {
     "data": {
      "text/plain": [
       "(38477,\n",
       " 'project = \"CCM Quadient \" OR project = CSS AND \"Delivery Stream\" = \"Integration Alpha\" ORDER BY Rank ASC',\n",
       " 'Filter for CCM Quadient',\n",
       " 'unknown',\n",
       " 'pogliani')"
      ]
     },
     "metadata": {},
     "output_type": "display_data"
    },
    {
     "data": {
      "text/plain": [
       "(41985,\n",
       " 'project = CCM ORDER BY Rank ASC',\n",
       " 'Filter for CCM Team',\n",
       " 'unknown',\n",
       " 'pogliani')"
      ]
     },
     "metadata": {},
     "output_type": "display_data"
    },
    {
     "data": {
      "text/plain": [
       "(39180,\n",
       " 'project = CCMPRT ORDER BY Rank ASC',\n",
       " 'Filter for CCMPRT board',\n",
       " 'unknown',\n",
       " 'pogliani')"
      ]
     },
     "metadata": {},
     "output_type": "display_data"
    },
    {
     "data": {
      "text/plain": [
       "(37680,\n",
       " 'project = CDM ORDER BY Rank ASC',\n",
       " 'Filter for CDM board',\n",
       " 'unknown',\n",
       " 'pogliani')"
      ]
     },
     "metadata": {},
     "output_type": "display_data"
    },
    {
     "data": {
      "text/plain": [
       "(33984,\n",
       " 'project = CDO OR labels = Delivered_By_Cloud_Services OR assignee in (dtooth, crawilliam, llim, gsinclair, jsearle, kpettigrew, lburvill, naslanidis, oxu, pcameron, swu, sbutrous, jzhong, adolgovhaw) ORDER BY Rank ASC',\n",
       " 'Filter for CDO board',\n",
       " 'unknown',\n",
       " 'pogliani')"
      ]
     },
     "metadata": {},
     "output_type": "display_data"
    },
    {
     "data": {
      "text/plain": [
       "(32584,\n",
       " 'project = CDQ ORDER BY Rank ASC',\n",
       " 'Filter for CDQ board',\n",
       " 'unknown',\n",
       " 'pogliani')"
      ]
     },
     "metadata": {},
     "output_type": "display_data"
    },
    {
     "data": {
      "text/plain": [
       "(32692,\n",
       " 'project = CGI ORDER BY Rank ASC',\n",
       " 'Filter for CGI board',\n",
       " 'unknown',\n",
       " 'pogliani')"
      ]
     },
     "metadata": {},
     "output_type": "display_data"
    },
    {
     "data": {
      "text/plain": [
       "(40521,\n",
       " 'project = CHAFS ORDER BY Rank ASC',\n",
       " 'Filter for CHAFS Board',\n",
       " 'unknown',\n",
       " 'pogliani')"
      ]
     },
     "metadata": {},
     "output_type": "display_data"
    },
    {
     "data": {
      "text/plain": [
       "(37352,\n",
       " 'project in (CDT, ENGAGE, SSCI) ORDER BY Rank ASC',\n",
       " 'Filter for Change and CX State of the Nation',\n",
       " 'unknown',\n",
       " 'pogliani')"
      ]
     },
     "metadata": {},
     "output_type": "display_data"
    },
    {
     "data": {
      "text/plain": [
       "(31000,\n",
       " 'project = CHMP ORDER BY Rank ASC',\n",
       " 'Filter for CHMP board',\n",
       " 'unknown',\n",
       " 'pogliani')"
      ]
     },
     "metadata": {},
     "output_type": "display_data"
    },
    {
     "data": {
      "text/plain": [
       "(45843,\n",
       " 'project = CK ORDER BY Rank ASC',\n",
       " 'Filter for CK board',\n",
       " 'unknown',\n",
       " 'pogliani')"
      ]
     },
     "metadata": {},
     "output_type": "display_data"
    },
    {
     "data": {
      "text/plain": [
       "(32282,\n",
       " 'project = SDOS ORDER BY Rank ASC',\n",
       " 'Filter for SDOS board',\n",
       " 'unknown',\n",
       " 'pogliani')"
      ]
     },
     "metadata": {},
     "output_type": "display_data"
    },
    {
     "data": {
      "text/plain": [
       "(40518,\n",
       " 'project = C3PO OR project = \"Technology Initiatives and Development\" AND \"Delivery Stream\" = \"Claims 3.0\" ORDER BY Rank ASC',\n",
       " 'Filter for Claims 3.0 Board',\n",
       " 'unknown',\n",
       " 'pogliani')"
      ]
     },
     "metadata": {},
     "output_type": "display_data"
    },
    {
     "data": {
      "text/plain": [
       "(29928,\n",
       " 'project = CLAIMAR ORDER BY Rank ASC',\n",
       " 'Filter for Claims Analytics and Reporting',\n",
       " 'unknown',\n",
       " 'pogliani')"
      ]
     },
     "metadata": {},
     "output_type": "display_data"
    },
    {
     "data": {
      "text/plain": [
       "(37303,\n",
       " 'project = CLAIMAR AND (resolved is EMPTY or ((resolved >= -200d AND component not in (BAU, \"Report Run\")) OR (resolved >= -200d AND component is EMPTY) OR (resolved >= -60d AND component in (BAU, \"Report Run\")))) ORDER BY Rank',\n",
       " 'CLAIMAR_AllCards',\n",
       " 'unknown',\n",
       " 'pogliani')"
      ]
     },
     "metadata": {},
     "output_type": "display_data"
    },
    {
     "data": {
      "text/plain": [
       "(38177,\n",
       " 'project = \"Claims Analytics Project\" ORDER BY Rank ASC',\n",
       " 'CAP Query',\n",
       " 'unknown',\n",
       " 'pogliani')"
      ]
     },
     "metadata": {},
     "output_type": "display_data"
    },
    {
     "data": {
      "text/plain": [
       "(38773,\n",
       " 'project = CAD022 ORDER BY Rank ASC',\n",
       " 'Filter for GICOP Remediation Project',\n",
       " 'unknown',\n",
       " 'pogliani')"
      ]
     },
     "metadata": {},
     "output_type": "display_data"
    },
    {
     "data": {
      "text/plain": [
       "(38961,\n",
       " 'project = CMR ORDER BY Rank ASC',\n",
       " 'Filter for CMR Board',\n",
       " 'unknown',\n",
       " 'pogliani')"
      ]
     },
     "metadata": {},
     "output_type": "display_data"
    },
    {
     "data": {
      "text/plain": [
       "(40181,\n",
       " 'project = CMR AND fixVersion !~ \"CMR Phase 3\" ORDER BY Rank ASC',\n",
       " 'Filter for CMR Phase 2 Board',\n",
       " 'unknown',\n",
       " 'pogliani')"
      ]
     },
     "metadata": {},
     "output_type": "display_data"
    },
    {
     "data": {
      "text/plain": [
       "(44687,\n",
       " 'project = CMS ORDER BY Rank ASC',\n",
       " 'Filter for CMS board',\n",
       " 'unknown',\n",
       " 'pogliani')"
      ]
     },
     "metadata": {},
     "output_type": "display_data"
    },
    {
     "data": {
      "text/plain": [
       "(23717,\n",
       " 'project in (CTMMKT, HLT) ORDER BY Rank ASC',\n",
       " 'Filter for COMPLIANCE AND RISK',\n",
       " 'unknown',\n",
       " 'pogliani')"
      ]
     },
     "metadata": {},
     "output_type": "display_data"
    },
    {
     "data": {
      "text/plain": [
       "(29392,\n",
       " 'project = AI ORDER BY Rank ASC',\n",
       " 'Filter for Copy of AI board',\n",
       " 'unknown',\n",
       " 'pogliani')"
      ]
     },
     "metadata": {},
     "output_type": "display_data"
    },
    {
     "data": {
      "text/plain": [
       "(24287,\n",
       " 'project = BIABAU ORDER BY Rank ASC',\n",
       " 'Filter for BIA BAU',\n",
       " 'unknown',\n",
       " 'pogliani')"
      ]
     },
     "metadata": {},
     "output_type": "display_data"
    },
    {
     "data": {
      "text/plain": [
       "(32585,\n",
       " '((reporter = ERAYWARD OR reporter = nherbert OR reporter = beppingsta OR reporter = shannifin) AND status not in (Closed, Done, Resolved)) OR (labels = CLM_DEPLOY_READY OR labels = CLM_TO_DEPLOY OR labels = CLMUAT_EMMA OR labels = CLMUAT_NICK OR labels = CLMUAT_BARB OR labels = CLMUAT_SIMON OR labels = CLMUAT_LARA OR labels = BSOS_EMMA OR labels = BSOS_NICK OR labels = BSOS_SIMON OR labels = BSOS_BARB OR labels = BSOS_LARA OR labels = BSOS) OR project in (Support, \"Contact Centre\", \"Service 2\") AND issuetype = Bug and status not in (Closed, Done) and \"Delivery Stream\" in (\"Non Digital: Contact Centre\", \"Non Digital: Workflow/Data/Doco\", \"Digital: Service 2 (Claims)\")',\n",
       " 'BSOS v2',\n",
       " 'unknown',\n",
       " '')"
      ]
     },
     "metadata": {},
     "output_type": "display_data"
    },
    {
     "data": {
      "text/plain": [
       "(41820,\n",
       " 'project = DAI ORDER BY Rank ASC',\n",
       " 'Filter for DAI board',\n",
       " 'unknown',\n",
       " 'pogliani')"
      ]
     },
     "metadata": {},
     "output_type": "display_data"
    },
    {
     "data": {
      "text/plain": [
       "(33187,\n",
       " 'project = ENGAGE and issuetype != \"Small Change\" ORDER BY Rank ASC',\n",
       " 'Filter for Copy of ENGAGE through Development 2',\n",
       " 'unknown',\n",
       " 'pogliani')"
      ]
     },
     "metadata": {},
     "output_type": "display_data"
    },
    {
     "data": {
      "text/plain": [
       "(30689,\n",
       " 'project in (11633, 12220, 11923, 12725, \"CtM - Car Everest\") OR \"Dev Team\" = \"GI Squad\" ORDER BY Rank ASC',\n",
       " 'CtM - GI Squad Sprint',\n",
       " 'unknown',\n",
       " 'pogliani')"
      ]
     },
     "metadata": {},
     "output_type": "display_data"
    },
    {
     "data": {
      "text/plain": [
       "(39063,\n",
       " 'filter = 38986 OR issue in subtaskIssuesFromFilter(38986) or (\"Delivery Stream\" = \"Home: Alpha\" AND project = Support) ORDER BY Rank ASC',\n",
       " 'Home Alpha Test Query v2',\n",
       " 'unknown',\n",
       " 'pogliani')"
      ]
     },
     "metadata": {},
     "output_type": "display_data"
    },
    {
     "data": {
      "text/plain": [
       "(34080,\n",
       " 'project in (INF19) AND issuetype in (Engagement, Initiative) ORDER BY cf[14682] ASC',\n",
       " 'INF Kanban v2',\n",
       " 'unknown',\n",
       " 'pogliani')"
      ]
     },
     "metadata": {},
     "output_type": "display_data"
    },
    {
     "data": {
      "text/plain": [
       "(27900,\n",
       " 'status not in (Done, Closed) AND assignee in (swhitehead, rcowin, fsantilles, acatindoy, wharrison) AND project not in (\"Other Time\", \"Internal Systems General Work\")',\n",
       " 'Filter for Copy of Lights On (Pricing & UW) 2',\n",
       " 'unknown',\n",
       " 'pogliani')"
      ]
     },
     "metadata": {},
     "output_type": "display_data"
    },
    {
     "data": {
      "text/plain": [
       "(27901,\n",
       " 'status not in (Done, Closed) AND assignee in (swhitehead, rcowin, fsantilles, acatindoy, wharrison) AND project not in (\"Other Time\", \"Internal Systems General Work\")',\n",
       " 'Filter for Copy of Lights On (Pricing & UW) 3',\n",
       " 'unknown',\n",
       " 'pogliani')"
      ]
     },
     "metadata": {},
     "output_type": "display_data"
    },
    {
     "data": {
      "text/plain": [
       "(27899,\n",
       " 'status not in (Done, Closed) AND assignee in (swhitehead, rcowin, fsantilles, acatindoy, wharrison) AND project not in (\"Other Time\", \"Internal Systems General Work\")',\n",
       " 'Filter for Copy of Lights On (Pricing & UW)',\n",
       " 'unknown',\n",
       " 'pogliani')"
      ]
     },
     "metadata": {},
     "output_type": "display_data"
    },
    {
     "data": {
      "text/plain": [
       "(41972,\n",
       " 'project = MDEC ORDER BY Rank ASC',\n",
       " 'Filter for MMAEC Data Scrum',\n",
       " 'unknown',\n",
       " 'pogliani')"
      ]
     },
     "metadata": {},
     "output_type": "display_data"
    },
    {
     "data": {
      "text/plain": [
       "(19603,\n",
       " 'assignee = rcowin AND resolution = Unresolved AND NOT status in (Closed, Done) AND project != \"Other Time\"',\n",
       " \"Filter for Ray's KANBAN\",\n",
       " 'unknown',\n",
       " 'pogliani')"
      ]
     },
     "metadata": {},
     "output_type": "display_data"
    },
    {
     "data": {
      "text/plain": [
       "(38897,\n",
       " 'project = SA ORDER BY createdDate ASC',\n",
       " 'Filter for Copy of SA board',\n",
       " 'unknown',\n",
       " 'pogliani')"
      ]
     },
     "metadata": {},
     "output_type": "display_data"
    },
    {
     "data": {
      "text/plain": [
       "(35287,\n",
       " 'project = SSA ORDER BY Rank ASC',\n",
       " 'Filter for Copy of SSA board',\n",
       " 'unknown',\n",
       " 'pogliani')"
      ]
     },
     "metadata": {},
     "output_type": "display_data"
    },
    {
     "data": {
      "text/plain": [
       "(30584,\n",
       " 'project = SVC2 ORDER BY Rank ASC',\n",
       " 'Filter for SVC2 board',\n",
       " 'unknown',\n",
       " 'pogliani')"
      ]
     },
     "metadata": {},
     "output_type": "display_data"
    },
    {
     "data": {
      "text/plain": [
       "(42553, 'project = UATT', 'Filter for UAT Defect Board', 'unknown', 'pogliani')"
      ]
     },
     "metadata": {},
     "output_type": "display_data"
    },
    {
     "data": {
      "text/plain": [
       "(40358,\n",
       " 'project = CS21 AND type in (Story, Epic, BAU) ORDER BY Rank ASC',\n",
       " 'Filter for CS21 board',\n",
       " 'unknown',\n",
       " 'pogliani')"
      ]
     },
     "metadata": {},
     "output_type": "display_data"
    },
    {
     "data": {
      "text/plain": [
       "(39320,\n",
       " 'project = COS ORDER BY Rank ASC',\n",
       " 'Filter for COS board',\n",
       " 'unknown',\n",
       " 'pogliani')"
      ]
     },
     "metadata": {},
     "output_type": "display_data"
    },
    {
     "data": {
      "text/plain": [
       "(37514,\n",
       " 'project = RIPO ORDER BY Rank ASC',\n",
       " 'Filter for CPS220',\n",
       " 'unknown',\n",
       " 'pogliani')"
      ]
     },
     "metadata": {},
     "output_type": "display_data"
    },
    {
     "data": {
      "text/plain": [
       "(40358,\n",
       " 'project = CS21 AND type in (Story, Epic, BAU) ORDER BY Rank ASC',\n",
       " 'Filter for CS21 board',\n",
       " 'unknown',\n",
       " 'pogliani')"
      ]
     },
     "metadata": {},
     "output_type": "display_data"
    },
    {
     "data": {
      "text/plain": [
       "(44228,\n",
       " 'project in (CSS, TT) AND \"Epic Link\" in (CSS-48251, CSS-40507, CSS-41844)',\n",
       " 'CSS: Sprint Board Reporting Filter',\n",
       " 'unknown',\n",
       " 'pogliani')"
      ]
     },
     "metadata": {},
     "output_type": "display_data"
    },
    {
     "data": {
      "text/plain": [
       "(21102,\n",
       " 'labels in (Data-Analytics, Data-Optimisation, Data-EDM, Data-ETL, Data-Extracts)  OR project = DATA ORDER BY Rank ASC',\n",
       " 'Filter for CtM - Data',\n",
       " 'unknown',\n",
       " 'pogliani')"
      ]
     },
     "metadata": {},
     "output_type": "display_data"
    },
    {
     "data": {
      "text/plain": [
       "(37581,\n",
       " 'project = DATA ORDER BY Rank ASC',\n",
       " 'Filter for CtM - Data Maintenance Kanban',\n",
       " 'unknown',\n",
       " 'pogliani')"
      ]
     },
     "metadata": {},
     "output_type": "display_data"
    },
    {
     "data": {
      "text/plain": [
       "(21299,\n",
       " 'project = DEVOPS ORDER BY Rank ASC',\n",
       " 'Filter for DEVOPS board',\n",
       " 'unknown',\n",
       " 'pogliani')"
      ]
     },
     "metadata": {},
     "output_type": "display_data"
    },
    {
     "data": {
      "text/plain": [
       "(27605,\n",
       " '\"Dev Team\" = \"Health Squad\" ORDER BY Rank ASC',\n",
       " 'CtM - Health Squad Sprint',\n",
       " 'unknown',\n",
       " 'pogliani')"
      ]
     },
     "metadata": {},
     "output_type": "display_data"
    },
    {
     "data": {
      "text/plain": [
       "(27605,\n",
       " '\"Dev Team\" = \"Health Squad\" ORDER BY Rank ASC',\n",
       " 'CtM - Health Squad Sprint',\n",
       " 'unknown',\n",
       " 'pogliani')"
      ]
     },
     "metadata": {},
     "output_type": "display_data"
    },
    {
     "data": {
      "text/plain": [
       "(32881,\n",
       " 'project in (\"CtM Energy - Business As Usual\") ORDER BY Rank ASC',\n",
       " 'CTM - Energy Sprint',\n",
       " 'unknown',\n",
       " 'pogliani')"
      ]
     },
     "metadata": {},
     "output_type": "display_data"
    },
    {
     "data": {
      "text/plain": [
       "(23897,\n",
       " 'project in (CAR, HNC, HLT, UTL, CTMIT, AGG, LIF, FUE, CRM, CCA, HML, RDE, TRV, CTMWP, EVT) AND assignee != zagglead AND issuetype not in (\"Creative Design\") AND status not in (Closed, Open) ORDER BY status, createdDate',\n",
       " 'CtM - IT active jobs',\n",
       " 'unknown',\n",
       " 'pogliani')"
      ]
     },
     "metadata": {},
     "output_type": "display_data"
    },
    {
     "data": {
      "text/plain": [
       "(23100,\n",
       " 'project = CTMQA AND (labels is EMPTY OR labels not in(BERpod)) ORDER BY Rank ASC',\n",
       " 'Filter for CtM - QA',\n",
       " 'unknown',\n",
       " 'pogliani')"
      ]
     },
     "metadata": {},
     "output_type": "display_data"
    },
    {
     "data": {
      "text/plain": [
       "(25493,\n",
       " 'project = CTMQA and status not in (Closed)',\n",
       " 'CTMQA reports open sprint',\n",
       " 'unknown',\n",
       " '')"
      ]
     },
     "metadata": {},
     "output_type": "display_data"
    },
    {
     "data": {
      "text/plain": [
       "(24753,\n",
       " 'project in (CAR, HNC, HLT, HML, CCA, TRV, UTL, RDE, FUE, LIF,AGG) AND status not in (Closed) AND issuetype not in (\"Creative Design\") ORDER BY priority',\n",
       " 'CtM - Vertical Overview',\n",
       " 'unknown',\n",
       " 'pogliani')"
      ]
     },
     "metadata": {},
     "output_type": "display_data"
    },
    {
     "data": {
      "text/plain": [
       "(36595,\n",
       " 'project = CTMCP ORDER BY Rank ASC',\n",
       " 'Filter for CTM CP Prioritisation',\n",
       " 'unknown',\n",
       " 'pogliani')"
      ]
     },
     "metadata": {},
     "output_type": "display_data"
    },
    {
     "data": {
      "text/plain": [
       "(18881,\n",
       " '(project in (\"CtM - Database Administrator \", \"CtM Data - Analytics, ETL, BI and Insights\") OR labels in (podDBA) or (creator = pmclarty and project in (\" Infrastructure Projects and Improvements\", \"IT Service Desk\"))) AND assignee in (zagglead, pmclarty) ORDER BY \"Scheduled Date\" DESC',\n",
       " 'Filter for CTM Database - Pod DBA Rank',\n",
       " 'unknown',\n",
       " 'pogliani')"
      ]
     },
     "metadata": {},
     "output_type": "display_data"
    },
    {
     "data": {
      "text/plain": [
       "(23085,\n",
       " 'project = DBA OR assignee = pmclarty ORDER BY Rank ASC',\n",
       " 'Filter for CTM DBA Scrum',\n",
       " 'unknown',\n",
       " 'pogliani')"
      ]
     },
     "metadata": {},
     "output_type": "display_data"
    },
    {
     "data": {
      "text/plain": [
       "(18423,\n",
       " 'issuetype = \"Creative Design\" AND Status not in (Closed)',\n",
       " 'Filter for CTM Design',\n",
       " 'unknown',\n",
       " 'pogliani')"
      ]
     },
     "metadata": {},
     "output_type": "display_data"
    },
    {
     "data": {
      "text/plain": [
       "(19269,\n",
       " 'issuetype = \"Email Design\"',\n",
       " 'CTM Email Jobs (All)',\n",
       " 'unknown',\n",
       " 'pogliani')"
      ]
     },
     "metadata": {},
     "output_type": "display_data"
    },
    {
     "data": {
      "text/plain": [
       "(21300,\n",
       " 'project = BER OR labels in (BERpod) OR \"Dev Team\" = Backend ORDER BY Rank ASC',\n",
       " 'Filter for BER board',\n",
       " 'unknown',\n",
       " 'pogliani')"
      ]
     },
     "metadata": {},
     "output_type": "display_data"
    },
    {
     "data": {
      "text/plain": [
       "(24605,\n",
       " 'project in (\"Project Everest\") OR (labels in (frontend, FrontEnd) AND category = CtM) ORDER BY Rank ASC',\n",
       " 'CTM IT - Frontend Team',\n",
       " 'unknown',\n",
       " 'pogliani')"
      ]
     },
     "metadata": {},
     "output_type": "display_data"
    },
    {
     "data": {
      "text/plain": [
       "(23396,\n",
       " 'project = CTMWP AND (labels is EMPTY OR labels not in (Sprint, podBAU)) ORDER BY Rank ASC',\n",
       " 'Filter for CTMWP board',\n",
       " 'unknown',\n",
       " 'pogliani')"
      ]
     },
     "metadata": {},
     "output_type": "display_data"
    },
    {
     "data": {
      "text/plain": [
       "(33580,\n",
       " 'project = CTMWP ORDER BY Rank ASC',\n",
       " 'Filter for CtM IT - Wordpress Kanban',\n",
       " 'unknown',\n",
       " 'pogliani')"
      ]
     },
     "metadata": {},
     "output_type": "display_data"
    },
    {
     "data": {
      "text/plain": [
       "(32583,\n",
       " 'project = 18720 AND status != Closed ORDER BY priority DESC, cf[17581] ASC, cf[17572] ASC, created ASC',\n",
       " 'Filter for CTM Maintenance',\n",
       " 'unknown',\n",
       " 'pogliani')"
      ]
     },
     "metadata": {},
     "output_type": "display_data"
    },
    {
     "data": {
      "text/plain": [
       "(32785,\n",
       " 'project = CTMCC ORDER BY Rank ASC',\n",
       " 'Filter for CTMCC board',\n",
       " 'unknown',\n",
       " 'pogliani')"
      ]
     },
     "metadata": {},
     "output_type": "display_data"
    },
    {
     "data": {
      "text/plain": [
       "(30797,\n",
       " 'project = CTMCE ORDER BY Rank ASC',\n",
       " 'Filter for CTMCE board',\n",
       " 'unknown',\n",
       " 'pogliani')"
      ]
     },
     "metadata": {},
     "output_type": "display_data"
    },
    {
     "data": {
      "text/plain": [
       "(36694,\n",
       " 'project = CTMCOMMS ORDER BY Rank ASC',\n",
       " 'Filter for CTMCOMMS board',\n",
       " 'unknown',\n",
       " 'pogliani')"
      ]
     },
     "metadata": {},
     "output_type": "display_data"
    },
    {
     "data": {
      "text/plain": [
       "(36402,\n",
       " 'project = CTMDES ORDER BY Rank ASC',\n",
       " 'Filter for CTMDES board',\n",
       " 'unknown',\n",
       " 'pogliani')"
      ]
     },
     "metadata": {},
     "output_type": "display_data"
    },
    {
     "data": {
      "text/plain": [
       "(31202,\n",
       " 'project = CTMEO2 ORDER BY Rank ASC',\n",
       " 'Filter for CTMEO2 board',\n",
       " 'unknown',\n",
       " 'pogliani')"
      ]
     },
     "metadata": {},
     "output_type": "display_data"
    },
    {
     "data": {
      "text/plain": [
       "(29892,\n",
       " 'project = CTMPMO ORDER BY Rank ASC',\n",
       " 'Filter for CTMPMO board',\n",
       " 'unknown',\n",
       " 'pogliani')"
      ]
     },
     "metadata": {},
     "output_type": "display_data"
    },
    {
     "data": {
      "text/plain": [
       "(30796,\n",
       " 'project = CTMSE ORDER BY Rank ASC',\n",
       " 'Filter for CTMSE board',\n",
       " 'unknown',\n",
       " 'pogliani')"
      ]
     },
     "metadata": {},
     "output_type": "display_data"
    },
    {
     "data": {
      "text/plain": [
       "(31480,\n",
       " 'project = CTMTP ORDER BY Rank ASC',\n",
       " 'Filter for CTMTP board',\n",
       " 'unknown',\n",
       " 'pogliani')"
      ]
     },
     "metadata": {},
     "output_type": "display_data"
    },
    {
     "data": {
      "text/plain": [
       "(41388,\n",
       " 'project = CTP ORDER BY Rank ASC',\n",
       " 'Filter for CTP Insurance',\n",
       " 'unknown',\n",
       " 'pogliani')"
      ]
     },
     "metadata": {},
     "output_type": "display_data"
    },
    {
     "data": {
      "text/plain": [
       "(40279,\n",
       " 'project = \"A&G Group Portfolio\" AND (issuetype = Opportunity OR issuetype = Sub-task ) AND (fixVersion = \"CTP Next\" OR fixVersion = \"CTP Insurance NSW MLP\" or fixVersion = \"CTP Insurance VIC MLP\" or fixVersion = \"CTP Insurance QLD MLP\" )',\n",
       " 'CTP Insurance Program',\n",
       " 'unknown',\n",
       " 'pogliani')"
      ]
     },
     "metadata": {},
     "output_type": "display_data"
    },
    {
     "data": {
      "text/plain": [
       "(42405,\n",
       " 'project = CTT ORDER BY Rank ASC',\n",
       " 'Filter for CTT board',\n",
       " 'unknown',\n",
       " 'pogliani')"
      ]
     },
     "metadata": {},
     "output_type": "display_data"
    },
    {
     "data": {
      "text/plain": [
       "(29487,\n",
       " 'project = CU ORDER BY Rank ASC',\n",
       " 'Filter for CU board',\n",
       " 'unknown',\n",
       " 'pogliani')"
      ]
     },
     "metadata": {},
     "output_type": "display_data"
    },
    {
     "data": {
      "text/plain": [
       "(36428,\n",
       " 'project = CUD ORDER BY Rank ASC',\n",
       " 'Filter for CUD board',\n",
       " 'unknown',\n",
       " 'pogliani')"
      ]
     },
     "metadata": {},
     "output_type": "display_data"
    },
    {
     "data": {
      "text/plain": [
       "(22412,\n",
       " 'project in (CQS, MCS, MQQ, QPA, HQS, HQQ, PMQSA, OPM, MUQCPI, APP) AND assignee in (esturm, craaen, sdrake, anesvadba, rmcconnell, daclark, hchen, janthony, ashteiniko, xplooy) OR assignee = zqpalead AND type != Epic',\n",
       " 'Customer Journey',\n",
       " 'unknown',\n",
       " 'pogliani')"
      ]
     },
     "metadata": {},
     "output_type": "display_data"
    },
    {
     "data": {
      "text/plain": [
       "(22480,\n",
       " 'project in (CQS, MCS, MQQ, QPA, HQS, HQQ, PMQSA, OPM, MUQCPI)',\n",
       " 'Customer Journey with Epics ',\n",
       " 'unknown',\n",
       " 'pogliani')"
      ]
     },
     "metadata": {},
     "output_type": "display_data"
    },
    {
     "data": {
      "text/plain": [
       "(29480,\n",
       " 'project = CJV OR \"Epic Link\" = STRAT-8 ORDER BY Rank ASC',\n",
       " 'Customer Journey Visualisation filter',\n",
       " 'unknown',\n",
       " 'pogliani')"
      ]
     },
     "metadata": {},
     "output_type": "display_data"
    },
    {
     "data": {
      "text/plain": [
       "(20220,\n",
       " 'project = \"CtM Customer Relationship Management\" ORDER BY Rank ASC',\n",
       " 'Filter for CV360',\n",
       " 'unknown',\n",
       " 'pogliani')"
      ]
     },
     "metadata": {},
     "output_type": "display_data"
    },
    {
     "data": {
      "text/plain": [
       "(21999,\n",
       " 'project = CVOPBK ORDER BY Rank ASC',\n",
       " 'Filter for CVOPBK board',\n",
       " 'unknown',\n",
       " 'pogliani')"
      ]
     },
     "metadata": {},
     "output_type": "display_data"
    },
    {
     "data": {
      "text/plain": [
       "(22783,\n",
       " 'project = CVOPIRS ORDER BY Rank ASC',\n",
       " 'Filter for CVOPIRS board',\n",
       " 'unknown',\n",
       " 'pogliani')"
      ]
     },
     "metadata": {},
     "output_type": "display_data"
    },
    {
     "data": {
      "text/plain": [
       "(22784,\n",
       " 'project = CVOPSC ORDER BY Rank ASC',\n",
       " 'Filter for CVOPSC board',\n",
       " 'unknown',\n",
       " 'pogliani')"
      ]
     },
     "metadata": {},
     "output_type": "display_data"
    },
    {
     "data": {
      "text/plain": [
       "(41820,\n",
       " 'project = DAI ORDER BY Rank ASC',\n",
       " 'Filter for DAI board',\n",
       " 'unknown',\n",
       " 'pogliani')"
      ]
     },
     "metadata": {},
     "output_type": "display_data"
    },
    {
     "data": {
      "text/plain": [
       "(42756,\n",
       " 'project = DAI AND (component=\"MMA - Existing Customers\"  or component =\"MMA - New Customers\" )',\n",
       " 'DAI - MMA (All)',\n",
       " 'unknown',\n",
       " 'pogliani')"
      ]
     },
     "metadata": {},
     "output_type": "display_data"
    },
    {
     "data": {
      "text/plain": [
       "(24752,\n",
       " 'project = DATA ORDER BY Rank ASC',\n",
       " 'Filter for Data Board',\n",
       " 'unknown',\n",
       " 'pogliani')"
      ]
     },
     "metadata": {},
     "output_type": "display_data"
    },
    {
     "data": {
      "text/plain": [
       "(42943,\n",
       " 'project = SLS1 ORDER BY Rank ASC',\n",
       " 'Filter for Digital Dexterity Sales 1 Wokflow Kanban',\n",
       " 'unknown',\n",
       " 'pogliani')"
      ]
     },
     "metadata": {},
     "output_type": "display_data"
    },
    {
     "data": {
      "text/plain": [
       "(42942,\n",
       " 'project = SLS2 ORDER BY Rank ASC',\n",
       " 'Filter for Digital Dexterity Wokflow Kanban',\n",
       " 'unknown',\n",
       " 'pogliani')"
      ]
     },
     "metadata": {},
     "output_type": "display_data"
    },
    {
     "data": {
      "text/plain": [
       "(44445,\n",
       " '\"Epic Link\" = DDSVC1-3740 ORDER BY Rank ASC',\n",
       " 'DDSVC1-MIP2-Filter-1',\n",
       " 'unknown',\n",
       " 'pogliani')"
      ]
     },
     "metadata": {},
     "output_type": "display_data"
    },
    {
     "data": {
      "text/plain": [
       "(43086,\n",
       " 'project = SVC3 ORDER BY Rank ASC',\n",
       " 'Filter for DDSVC2 Workflow',\n",
       " 'unknown',\n",
       " 'pogliani')"
      ]
     },
     "metadata": {},
     "output_type": "display_data"
    },
    {
     "data": {
      "text/plain": [
       "(34987,\n",
       " 'Filter = \"2018 Digital Service2 Team Backend Deployments\" AND (Labels in (Service2Deploy) OR \"Implementation Instructions\" is not EMPTY)  AND labels = Service2Deploy  ORDER BY \"Deployment Date\", \"Epic Name\", \"Epic Link\", Status, Type, Key',\n",
       " 'DDT Service2 - Backend Deployments',\n",
       " 'unknown',\n",
       " 'pogliani')"
      ]
     },
     "metadata": {},
     "output_type": "display_data"
    },
    {
     "data": {
      "text/plain": [
       "(18973,\n",
       " 'project = \" Health - Business As Usual\" ORDER BY Rank ASC',\n",
       " 'Filter for Dean test',\n",
       " 'unknown',\n",
       " 'pogliani')"
      ]
     },
     "metadata": {},
     "output_type": "display_data"
    },
    {
     "data": {
      "text/plain": [
       "(36403,\n",
       " 'project = CTMDES ORDER BY Rank ASC',\n",
       " 'Filter for Design Kanban',\n",
       " 'unknown',\n",
       " 'pogliani')"
      ]
     },
     "metadata": {},
     "output_type": "display_data"
    },
    {
     "data": {
      "text/plain": [
       "(43313,\n",
       " 'project = \"DO\" ORDER BY Rank ASC',\n",
       " 'Filter for DevOps Operating Model',\n",
       " 'unknown',\n",
       " 'pogliani')"
      ]
     },
     "metadata": {},
     "output_type": "display_data"
    },
    {
     "data": {
      "text/plain": [
       "(32096,\n",
       " 'project = DIGIMON ORDER BY Rank ASC',\n",
       " 'Filter for DIGIMON board',\n",
       " 'unknown',\n",
       " 'pogliani')"
      ]
     },
     "metadata": {},
     "output_type": "display_data"
    },
    {
     "data": {
      "text/plain": [
       "(38282,\n",
       " 'project = TDT ORDER BY Rank ASC',\n",
       " 'Filter for Digital Delivery Testing',\n",
       " 'unknown',\n",
       " 'pogliani')"
      ]
     },
     "metadata": {},
     "output_type": "display_data"
    },
    {
     "data": {
      "text/plain": [
       "(38475,\n",
       " 'project = TDT ORDER BY Rank ASC',\n",
       " 'Filter for Digital Delivery Testing',\n",
       " 'unknown',\n",
       " 'pogliani')"
      ]
     },
     "metadata": {},
     "output_type": "display_data"
    },
    {
     "data": {
      "text/plain": [
       "(20409,\n",
       " 'project = \"DISC API OPM\" ORDER BY Rank ASC',\n",
       " 'Filter for DISC API OPM',\n",
       " 'unknown',\n",
       " 'pogliani')"
      ]
     },
     "metadata": {},
     "output_type": "display_data"
    },
    {
     "data": {
      "text/plain": [
       "(20302,\n",
       " 'project = \"CSAPI OPM Enablement\" ORDER BY Rank ASC',\n",
       " 'Filter for DISCAPI OPM Enablement',\n",
       " 'unknown',\n",
       " 'pogliani')"
      ]
     },
     "metadata": {},
     "output_type": "display_data"
    },
    {
     "data": {
      "text/plain": [
       "(43314,\n",
       " 'project = \"DO\" ORDER BY Rank ASC',\n",
       " 'Filter for DO board',\n",
       " 'unknown',\n",
       " 'pogliani')"
      ]
     },
     "metadata": {},
     "output_type": "display_data"
    },
    {
     "data": {
      "text/plain": [
       "(29684,\n",
       " 'project = CJOPM ORDER BY Rank ASC',\n",
       " 'Filter for DO NOT USE - OPM II',\n",
       " 'unknown',\n",
       " 'pogliani')"
      ]
     },
     "metadata": {},
     "output_type": "display_data"
    },
    {
     "data": {
      "text/plain": [
       "(38878,\n",
       " 'project = DOQ ORDER BY Rank ASC',\n",
       " 'Filter for DOQ Kanban Board',\n",
       " 'unknown',\n",
       " 'pogliani')"
      ]
     },
     "metadata": {},
     "output_type": "display_data"
    },
    {
     "data": {
      "text/plain": [
       "(32001,\n",
       " 'project = DOQ OR assignee in (jporter, nverma) ORDER BY Rank ASC',\n",
       " 'Filter for DOQ Task Schedule 1',\n",
       " 'unknown',\n",
       " 'pogliani')"
      ]
     },
     "metadata": {},
     "output_type": "display_data"
    },
    {
     "data": {
      "text/plain": [
       "(21806,\n",
       " 'resolution in (Unresolved, Fixed) AND assignee = domorris ORDER BY cf[12276] ASC, updatedDate DESC',\n",
       " 'DoMorris Jira Issues',\n",
       " 'unknown',\n",
       " 'pogliani')"
      ]
     },
     "metadata": {},
     "output_type": "display_data"
    },
    {
     "data": {
      "text/plain": [
       "(26082,\n",
       " 'project = BIABAU AND (\"Epic Link\" = \"EDWBI Project: CCO\" OR \"Epic Link\" = BIABAU-603) ORDER BY Rank ASC',\n",
       " 'Filter for CCO Project',\n",
       " 'unknown',\n",
       " 'pogliani')"
      ]
     },
     "metadata": {},
     "output_type": "display_data"
    },
    {
     "data": {
      "text/plain": [
       "(22100,\n",
       " 'project = \"CtM Energy - Business As Usual\" OR labels in (podUTL) ORDER BY Rank ASC',\n",
       " 'Energy',\n",
       " 'unknown',\n",
       " 'pogliani')"
      ]
     },
     "metadata": {},
     "output_type": "display_data"
    },
    {
     "data": {
      "text/plain": [
       "(34685,\n",
       " 'project = ENGAGE AND issuetype != \"Small Change\" AND (\"Delivery Stream\" not in (\"Central DevOps\", \"Infrastructure: Cloud Services\", \"Infrastructure: Information Security\", \"Infrastructure: Network Services\", \"Infrastructure: Service Delivery\", \"Infrastructure: Tech Services\") OR \"Delivery Stream\" is EMPTY) ORDER BY cf[17091] DESC',\n",
       " 'nonts',\n",
       " 'unknown',\n",
       " 'pogliani')"
      ]
     },
     "metadata": {},
     "output_type": "display_data"
    },
    {
     "data": {
      "text/plain": [
       "(31011,\n",
       " 'project = ENGAGE and issuetype = \"Small Change\" ORDER BY Rank ASC',\n",
       " 'Filter for ENGAGE Small Change board',\n",
       " 'unknown',\n",
       " 'pogliani')"
      ]
     },
     "metadata": {},
     "output_type": "display_data"
    },
    {
     "data": {
      "text/plain": [
       "(30989,\n",
       " 'project = ENGAGE and issuetype != \"Small Change\" ORDER BY Rank ASC',\n",
       " 'Filter for ENGAGE board',\n",
       " 'unknown',\n",
       " 'pogliani')"
      ]
     },
     "metadata": {},
     "output_type": "display_data"
    },
    {
     "data": {
      "text/plain": [
       "(39266,\n",
       " 'project = \"A&G Group Portfolio\" AND fixVersion in unreleasedVersions() OR fixVersion is EMPTY AND Status not in (Done, Closed, Resolved) AND \"Technology Teams\" in (\"Infrastructure Cloud Services\", \"Infrastructure Core Services\", \"Infrastructure Network Services\", \"Infrastructure Service Delivery\", \"Infrastructure Technical Services\") ORDER BY Rank ASC',\n",
       " 'Technology Portfolio - Infrastructure',\n",
       " 'unknown',\n",
       " 'pogliani')"
      ]
     },
     "metadata": {},
     "output_type": "display_data"
    },
    {
     "data": {
      "text/plain": [
       "(38298,\n",
       " 'project in (EPGL, EUAT) ORDER BY Rank ASC',\n",
       " 'Filter for EPGL board',\n",
       " 'unknown',\n",
       " 'pogliani')"
      ]
     },
     "metadata": {},
     "output_type": "display_data"
    },
    {
     "data": {
      "text/plain": [
       "(24595,\n",
       " 'project = DATA ORDER BY Rank ASC',\n",
       " 'Filter for Erajio',\n",
       " 'unknown',\n",
       " 'pogliani')"
      ]
     },
     "metadata": {},
     "output_type": "display_data"
    },
    {
     "data": {
      "text/plain": [
       "(38124,\n",
       " 'project = ERT AND (resolution = Unresolved OR resolutiondate > startOfDay(-2w)) ORDER BY Rank ASC',\n",
       " 'Filter for ERT board',\n",
       " 'unknown',\n",
       " 'pogliani')"
      ]
     },
     "metadata": {},
     "output_type": "display_data"
    },
    {
     "data": {
      "text/plain": [
       "(29382,\n",
       " 'project = FIN ORDER BY Rank ASC',\n",
       " 'Filter for FIN board',\n",
       " 'unknown',\n",
       " 'pogliani')"
      ]
     },
     "metadata": {},
     "output_type": "display_data"
    },
    {
     "data": {
      "text/plain": [
       "(43375,\n",
       " 'project = FP ORDER BY Rank ASC',\n",
       " 'Filter for Finance - Portfolio',\n",
       " 'unknown',\n",
       " 'pogliani')"
      ]
     },
     "metadata": {},
     "output_type": "display_data"
    },
    {
     "data": {
      "text/plain": [
       "(40991,\n",
       " 'project = FLI ORDER BY Rank ASC',\n",
       " 'Filter for FLI board',\n",
       " 'unknown',\n",
       " 'pogliani')"
      ]
     },
     "metadata": {},
     "output_type": "display_data"
    },
    {
     "data": {
      "text/plain": [
       "(40276,\n",
       " 'project = FF ORDER BY Rank ASC',\n",
       " 'Filter for FF board',\n",
       " 'unknown',\n",
       " 'pogliani')"
      ]
     },
     "metadata": {},
     "output_type": "display_data"
    },
    {
     "data": {
      "text/plain": [
       "(37584,\n",
       " 'project = FPR ORDER BY Rank ASC',\n",
       " 'Filter for FPR board',\n",
       " 'unknown',\n",
       " 'pogliani')"
      ]
     },
     "metadata": {},
     "output_type": "display_data"
    },
    {
     "data": {
      "text/plain": [
       "(44889,\n",
       " 'key in (PPI-799, PPI-928, PPI-939, FLOW-72, FLOW-85)',\n",
       " 'FY-23-Q1-Scrum-Masters-Deliverables',\n",
       " 'unknown',\n",
       " 'pogliani')"
      ]
     },
     "metadata": {},
     "output_type": "display_data"
    },
    {
     "data": {
      "text/plain": [
       "(40822,\n",
       " 'project = GCI ORDER BY Rank ASC',\n",
       " 'Filter for GCI board',\n",
       " 'unknown',\n",
       " 'pogliani')"
      ]
     },
     "metadata": {},
     "output_type": "display_data"
    },
    {
     "data": {
      "text/plain": [
       "(43648,\n",
       " 'project = TIM ORDER BY Rank ASC',\n",
       " 'Filter for General Time and Company Meetings - Godsgift',\n",
       " 'unknown',\n",
       " 'pogliani')"
      ]
     },
     "metadata": {},
     "output_type": "display_data"
    },
    {
     "data": {
      "text/plain": [
       "(30689,\n",
       " 'project in (11633, 12220, 11923, 12725, \"CtM - Car Everest\") OR \"Dev Team\" = \"GI Squad\" ORDER BY Rank ASC',\n",
       " 'CtM - GI Squad Sprint',\n",
       " 'unknown',\n",
       " 'pogliani')"
      ]
     },
     "metadata": {},
     "output_type": "display_data"
    },
    {
     "data": {
      "text/plain": [
       "(38773,\n",
       " 'project = CAD022 ORDER BY Rank ASC',\n",
       " 'Filter for GICOP Remediation Project',\n",
       " 'unknown',\n",
       " 'pogliani')"
      ]
     },
     "metadata": {},
     "output_type": "display_data"
    },
    {
     "data": {
      "text/plain": [
       "(38163,\n",
       " 'project = GPDI ORDER BY Rank ASC',\n",
       " 'Filter for GPDI Kanban',\n",
       " 'unknown',\n",
       " 'pogliani')"
      ]
     },
     "metadata": {},
     "output_type": "display_data"
    },
    {
     "data": {
      "text/plain": [
       "(38130,\n",
       " 'project = GPDI ORDER BY Rank ASC',\n",
       " 'Filter for GPDI SPRINT',\n",
       " 'unknown',\n",
       " 'pogliani')"
      ]
     },
     "metadata": {},
     "output_type": "display_data"
    },
    {
     "data": {
      "text/plain": [
       "(37315,\n",
       " '(project = \"Service 1\" OR project = CSS AND \"Delivery Stream\" = \"Digital: Service 1 (OPM)\" OR project = \"Research & Development\" AND \"Delivery Stream\" = \"Digital: Service 1 (OPM)\" )AND issuetype in  (Bug, Story,Task,Defect, Spike) ORDER BY Rank ASC',\n",
       " 'Filter for GSP board',\n",
       " 'unknown',\n",
       " 'pogliani')"
      ]
     },
     "metadata": {},
     "output_type": "display_data"
    },
    {
     "data": {
      "text/plain": [
       "(33483,\n",
       " 'project = HAB ORDER BY Rank ASC',\n",
       " 'Filter for HAB Kanban',\n",
       " 'unknown',\n",
       " 'pogliani')"
      ]
     },
     "metadata": {},
     "output_type": "display_data"
    },
    {
     "data": {
      "text/plain": [
       "(38970,\n",
       " 'project = HAPB ORDER BY Rank ASC',\n",
       " 'Filter for Home Assessing & Procurement Business',\n",
       " 'unknown',\n",
       " 'pogliani')"
      ]
     },
     "metadata": {},
     "output_type": "display_data"
    },
    {
     "data": {
      "text/plain": [
       "(35680,\n",
       " 'project = HDT ORDER BY Rank ASC',\n",
       " 'Filter for HDT board',\n",
       " 'unknown',\n",
       " 'pogliani')"
      ]
     },
     "metadata": {},
     "output_type": "display_data"
    },
    {
     "data": {
      "text/plain": [
       "(37415,\n",
       " 'project = HIFLI ORDER BY Rank ASC',\n",
       " 'Filter for HIFLI board',\n",
       " 'unknown',\n",
       " 'pogliani')"
      ]
     },
     "metadata": {},
     "output_type": "display_data"
    },
    {
     "data": {
      "text/plain": [
       "(39393,\n",
       " 'project = HIP ORDER BY Rank ASC',\n",
       " 'Filter for HIP Projects',\n",
       " 'unknown',\n",
       " 'pogliani')"
      ]
     },
     "metadata": {},
     "output_type": "display_data"
    },
    {
     "data": {
      "text/plain": [
       "(36991,\n",
       " 'project = UT ORDER BY Rank ASC',\n",
       " 'Filter for UT board',\n",
       " 'unknown',\n",
       " 'pogliani')"
      ]
     },
     "metadata": {},
     "output_type": "display_data"
    },
    {
     "data": {
      "text/plain": [
       "(38750,\n",
       " 'Filter = \"OPM Team Deployments-Service 3\" AND (Labels in (Service3Deploy) OR \"Implementation Instructions\" is not EMPTY AND Labels not in (Settings, MySQL, Frontend, FrontEnd, frontend, Microservice)) ORDER BY \"Deployment Date\", \"Delivery Stream\", \"Epic Name\", \"Epic Link\", Status, Type, Key',\n",
       " 'Home Service Team Backend Deployment Board',\n",
       " 'unknown',\n",
       " 'pogliani')"
      ]
     },
     "metadata": {},
     "output_type": "display_data"
    },
    {
     "data": {
      "text/plain": [
       "(38441,\n",
       " 'project = HP ORDER BY Rank ASC',\n",
       " 'Filter for Home Product Board',\n",
       " 'unknown',\n",
       " 'pogliani')"
      ]
     },
     "metadata": {},
     "output_type": "display_data"
    },
    {
     "data": {
      "text/plain": [
       "(39208,\n",
       " 'project = \"Service 3\" or project = CSS AND \"Delivery Stream\" = \"Digital: Service 3 (OPM)\"  OR project = \"Research & Development\" AND \"Delivery Stream\" = \"Digital: Service 3 (OPM)\"  ORDER BY Rank ASC',\n",
       " 'Filter for SVC3: Product Board',\n",
       " 'unknown',\n",
       " 'pogliani')"
      ]
     },
     "metadata": {},
     "output_type": "display_data"
    },
    {
     "data": {
      "text/plain": [
       "(30987,\n",
       " 'project = HP ORDER BY Rank ASC',\n",
       " 'Filter for HP board',\n",
       " 'unknown',\n",
       " 'pogliani')"
      ]
     },
     "metadata": {},
     "output_type": "display_data"
    },
    {
     "data": {
      "text/plain": [
       "(42116,\n",
       " 'project = IAG ORDER BY Rank ASC',\n",
       " 'Filter for IAG',\n",
       " 'unknown',\n",
       " 'pogliani')"
      ]
     },
     "metadata": {},
     "output_type": "display_data"
    },
    {
     "data": {
      "text/plain": [
       "(34182,\n",
       " 'project = IB ORDER BY Rank ASC',\n",
       " 'Filter for IB board',\n",
       " 'unknown',\n",
       " 'pogliani')"
      ]
     },
     "metadata": {},
     "output_type": "display_data"
    },
    {
     "data": {
      "text/plain": [
       "(41923,\n",
       " 'project = IC ORDER BY Rank ASC',\n",
       " 'Filter for IC board',\n",
       " 'unknown',\n",
       " 'pogliani')"
      ]
     },
     "metadata": {},
     "output_type": "display_data"
    },
    {
     "data": {
      "text/plain": [
       "(39587,\n",
       " 'project = ICD AND type != Epic & summary ~ \"BAU | \"',\n",
       " 'Filter for ICD21',\n",
       " 'unknown',\n",
       " 'pogliani')"
      ]
     },
     "metadata": {},
     "output_type": "display_data"
    },
    {
     "data": {
      "text/plain": [
       "(39585,\n",
       " 'project = ICD ORDER BY Rank ASC',\n",
       " 'Filter for ICD board',\n",
       " 'unknown',\n",
       " 'pogliani')"
      ]
     },
     "metadata": {},
     "output_type": "display_data"
    },
    {
     "data": {
      "text/plain": [
       "(23186,\n",
       " 'project = IR AND issuetype = Incident AND created >= -4w ORDER BY Rank ASC',\n",
       " 'Filter for Incident',\n",
       " 'unknown',\n",
       " 'pogliani')"
      ]
     },
     "metadata": {},
     "output_type": "display_data"
    },
    {
     "data": {
      "text/plain": [
       "(26694,\n",
       " 'status not in (Resolved, Closed, Done, Complete) AND labels in (Project, Projects) AND assignee in (skalyat, aharding, Rsendall, wcarston, jgill, kwyatt, bmabalatan, swong, regan, nramalinga, Mdrain, ialam, lbrabander, agrimshaw, naslanidis, dcramp, DCagney, rlyness)',\n",
       " 'Filter for INF CDM View',\n",
       " 'unknown',\n",
       " 'pogliani')"
      ]
     },
     "metadata": {},
     "output_type": "display_data"
    },
    {
     "data": {
      "text/plain": [
       "(35083,\n",
       " 'project = ENGAGE AND \"Delivery Stream\" in (\"Central DevOps\", \"Infrastructure: Information Security\", \"Infrastructure: Service Delivery\", \"Infrastructure: Tech Operations\", \"Infrastructure: Tech Services\", \"Multiple Delivery Streams\") ORDER BY Rank ASC',\n",
       " 'INF Roadmap',\n",
       " 'unknown',\n",
       " 'pogliani')"
      ]
     },
     "metadata": {},
     "output_type": "display_data"
    },
    {
     "data": {
      "text/plain": [
       "(33982,\n",
       " 'project = INF19 ORDER BY Rank ASC',\n",
       " 'Filter for INF19 board',\n",
       " 'unknown',\n",
       " 'pogliani')"
      ]
     },
     "metadata": {},
     "output_type": "display_data"
    },
    {
     "data": {
      "text/plain": [
       "(39060,\n",
       " 'project = INFPS ORDER BY Rank ASC',\n",
       " 'Filter for INFPS Board',\n",
       " 'unknown',\n",
       " 'pogliani')"
      ]
     },
     "metadata": {},
     "output_type": "display_data"
    },
    {
     "data": {
      "text/plain": [
       "(36427,\n",
       " 'project = ENGAGE AND issuetype = Engagement AND status not in (superseded,done,cancelled) AND \"Delivery Stream\" in (\"Central DevOps\", \"Infrastructure: Information Security\", \"Infrastructure: Service Delivery\", \"Infrastructure: Tech Operations\", \"Infrastructure: Tech Services\", \"Multiple Delivery Streams\") ORDER BY Rank',\n",
       " 'Infrastructure Engage Pipeline',\n",
       " 'unknown',\n",
       " 'pogliani')"
      ]
     },
     "metadata": {},
     "output_type": "display_data"
    },
    {
     "data": {
      "text/plain": [
       "(31019,\n",
       " 'project in (OSA17, TSA17, SDA17, OSA19, TSA19,SDA19) AND issuetype in (Engagement, Initiative) ORDER BY cf[14682] ASC',\n",
       " 'INF Kanban',\n",
       " 'unknown',\n",
       " 'pogliani')"
      ]
     },
     "metadata": {},
     "output_type": "display_data"
    },
    {
     "data": {
      "text/plain": [
       "(33681,\n",
       " 'project in (TSA17, OSA17, SDA17) AND issuetype = Initiative ORDER BY Rank ASC',\n",
       " 'Infrastructure Projects and Improvements',\n",
       " 'unknown',\n",
       " 'pogliani')"
      ]
     },
     "metadata": {},
     "output_type": "display_data"
    },
    {
     "data": {
      "text/plain": [
       "(34185,\n",
       " 'project = TPFPR ORDER BY Rank ASC',\n",
       " 'Filter for Initiatives Board',\n",
       " 'unknown',\n",
       " 'pogliani')"
      ]
     },
     "metadata": {},
     "output_type": "display_data"
    },
    {
     "data": {
      "text/plain": [
       "(34186,\n",
       " 'project = IB ORDER BY Rank ASC',\n",
       " 'Filter for Initiatives board 2 ',\n",
       " 'unknown',\n",
       " 'pogliani')"
      ]
     },
     "metadata": {},
     "output_type": "display_data"
    },
    {
     "data": {
      "text/plain": [
       "(42114,\n",
       " 'project = INSPDOC ORDER BY Rank ASC',\n",
       " 'Filter for Kanban',\n",
       " 'unknown',\n",
       " 'pogliani')"
      ]
     },
     "metadata": {},
     "output_type": "display_data"
    },
    {
     "data": {
      "text/plain": [
       "(38598,\n",
       " 'project = \"Integration Bravo\"  OR project = CSS AND \"Delivery Stream\" = \"Integration Bravo\"  OR project = \"Research & Development\" AND \"Delivery Stream\" = \"Integration Bravo\"   ORDER BY Rank ASC',\n",
       " 'Filter for Integration Bravo',\n",
       " 'unknown',\n",
       " 'pogliani')"
      ]
     },
     "metadata": {},
     "output_type": "display_data"
    },
    {
     "data": {
      "text/plain": [
       "(23882,\n",
       " 'project = JOS ORDER BY Rank ASC',\n",
       " 'Filter for JOS board',\n",
       " 'unknown',\n",
       " 'pogliani')"
      ]
     },
     "metadata": {},
     "output_type": "display_data"
    },
    {
     "data": {
      "text/plain": [
       "(24631,\n",
       " 'project = LAUNCHERT ORDER BY Rank ASC',\n",
       " 'Filter for LAUNCHERT board',\n",
       " 'unknown',\n",
       " 'pogliani')"
      ]
     },
     "metadata": {},
     "output_type": "display_data"
    },
    {
     "data": {
      "text/plain": [
       "(42043, 'project in (MDEC)', 'MMAEC Liam Filter', 'unknown', 'pogliani')"
      ]
     },
     "metadata": {},
     "output_type": "display_data"
    },
    {
     "data": {
      "text/plain": [
       "(38436,\n",
       " 'project in (CSS, DLITE, RAD) AND issuetype in (Bug, Defect, Story, Task) AND status in (\"Waiting to Go Live\", Closed, \"Awaiting Release Review\", \"Post Implementation Review\", \"Go Live Scheduled\", Done, \"Production Testing\", \"Deploy To Pre Prod\", \"Pre Prod Testing\", \"Deploy To Production\") AND \"Delivery Stream\" = \"Digital: Lifestyle\" ORDER BY summary ASC',\n",
       " 'Lifestyle Go Live Cycle',\n",
       " 'unknown',\n",
       " 'pogliani')"
      ]
     },
     "metadata": {},
     "output_type": "display_data"
    },
    {
     "data": {
      "text/plain": [
       "(39209,\n",
       " 'project = \"DC Lifestyle\"  OR project = CSS AND \"Delivery Stream\" = \"Digital: Lifestyle\"  OR project = \"Research & Development\" AND \"Delivery Stream\" = \"Digital: Lifestyle\"  ORDER BY Rank ASC',\n",
       " 'Lifestyle: Product Board',\n",
       " 'unknown',\n",
       " 'pogliani')"
      ]
     },
     "metadata": {},
     "output_type": "display_data"
    },
    {
     "data": {
      "text/plain": [
       "(30988,\n",
       " '((cf[11370] = \"Lights On\" OR cf[15970] = \"Lights On\") AND (assignee in membersOf(\"Lights On\") OR assignee = zlontriage OR assignee is EMPTY) OR (cf[11370] = Support OR cf[15970] = Support) AND (assignee in membersOf(\"Lights On\") OR assignee = zlontriage)) AND issuetype not in (\"Management Task\") AND project != \"TSDI029 - PANW Firewall Implementation\" AND project != \"Research & Development\" ORDER BY Rank ASC',\n",
       " 'Lights on planning filter - without R&D',\n",
       " 'unknown',\n",
       " 'pogliani')"
      ]
     },
     "metadata": {},
     "output_type": "display_data"
    },
    {
     "data": {
      "text/plain": [
       "(37910,\n",
       " 'project = MDDA AND issuetype = Epic ORDER BY Rank ASC',\n",
       " 'Filter for M&D Digital Analytics (Epics) ',\n",
       " 'unknown',\n",
       " 'pogliani')"
      ]
     },
     "metadata": {},
     "output_type": "display_data"
    },
    {
     "data": {
      "text/plain": [
       "(19351,\n",
       " 'project = \"M&D EC Digital Customer Channel\" ORDER BY Rank ASC',\n",
       " 'Filter for M&D Digital Customer Channel Team',\n",
       " 'unknown',\n",
       " 'pogliani')"
      ]
     },
     "metadata": {},
     "output_type": "display_data"
    },
    {
     "data": {
      "text/plain": [
       "(28985,\n",
       " 'project = MAI ORDER BY Rank ASC',\n",
       " 'Filter for AI board',\n",
       " 'unknown',\n",
       " 'pogliani')"
      ]
     },
     "metadata": {},
     "output_type": "display_data"
    },
    {
     "data": {
      "text/plain": [
       "(37454,\n",
       " 'project = RIPO AND \"Epic Link\" = RIPO-108  AND resolution = Unresolved ORDER BY key',\n",
       " 'Management Actions',\n",
       " 'unknown',\n",
       " 'pogliani')"
      ]
     },
     "metadata": {},
     "output_type": "display_data"
    },
    {
     "data": {
      "text/plain": [
       "(22811,\n",
       " 'project = DEVOPS ORDER BY Rank ASC',\n",
       " \"Matt's DevOps Filter\",\n",
       " 'unknown',\n",
       " 'pogliani')"
      ]
     },
     "metadata": {},
     "output_type": "display_data"
    },
    {
     "data": {
      "text/plain": [
       "(37586,\n",
       " 'project = MDDA AND issuetype in (Bug, \"Data & Analytics Report\", Story, Task) ORDER BY Rank ASC',\n",
       " 'Filter for DA board',\n",
       " 'unknown',\n",
       " 'pogliani')"
      ]
     },
     "metadata": {},
     "output_type": "display_data"
    },
    {
     "data": {
      "text/plain": [
       "(22000,\n",
       " 'project = MDNC AND assignee in (jcocks, nnowaczyk, pkhera) ORDER BY Rank ASC',\n",
       " 'Filter for MDNC Search Projects & Tasks',\n",
       " 'unknown',\n",
       " 'pogliani')"
      ]
     },
     "metadata": {},
     "output_type": "display_data"
    },
    {
     "data": {
      "text/plain": [
       "(22002,\n",
       " \"(reporter = 'Nemek Nowaczyk' or reporter = 'joshua cocks' or reporter = 'Piyush Khera') And status != 'closed' ORDER BY Rank ASC\",\n",
       " 'Filter for MDNC - Search Team Assigned Tasks',\n",
       " 'unknown',\n",
       " 'pogliani')"
      ]
     },
     "metadata": {},
     "output_type": "display_data"
    },
    {
     "data": {
      "text/plain": [
       "(22005,\n",
       " '(assignee in (jcocks, nnowaczyk, pkhera) OR reporter in (jcocks, nnowaczyk, pkhera)) ORDER BY Rank ASC',\n",
       " 'Filter for MDNC Search Teamwork',\n",
       " 'unknown',\n",
       " 'pogliani')"
      ]
     },
     "metadata": {},
     "output_type": "display_data"
    },
    {
     "data": {
      "text/plain": [
       "(38522,\n",
       " 'project = MGR ORDER BY Rank ASC',\n",
       " 'Filter for MGR board',\n",
       " 'unknown',\n",
       " 'pogliani')"
      ]
     },
     "metadata": {},
     "output_type": "display_data"
    },
    {
     "data": {
      "text/plain": [
       "(26818,\n",
       " 'project = MICRO ORDER BY Rank ASC',\n",
       " 'Filter for Micro Services Framework',\n",
       " 'unknown',\n",
       " 'pogliani')"
      ]
     },
     "metadata": {},
     "output_type": "display_data"
    },
    {
     "data": {
      "text/plain": [
       "(42724,\n",
       " 'project = MMACC ORDER BY Rank ASC',\n",
       " 'Filter for MMACC | Chasing Cars',\n",
       " 'unknown',\n",
       " 'pogliani')"
      ]
     },
     "metadata": {},
     "output_type": "display_data"
    },
    {
     "data": {
      "text/plain": [
       "(42723,\n",
       " 'project = MMACC ORDER BY Rank ASC',\n",
       " 'Filter for MMACC board',\n",
       " 'unknown',\n",
       " 'pogliani')"
      ]
     },
     "metadata": {},
     "output_type": "display_data"
    },
    {
     "data": {
      "text/plain": [
       "(38740,\n",
       " 'project = MMAD AND issuetype in (\"Blog Article\", Build, Compliance, Content, Design, Epic, Promotion, SEO) ORDER BY Rank ASC',\n",
       " 'Primary MMAD board ',\n",
       " 'unknown',\n",
       " 'pogliani')"
      ]
     },
     "metadata": {},
     "output_type": "display_data"
    },
    {
     "data": {
      "text/plain": [
       "(38767,\n",
       " 'project = MMAD AND issuetype = Epic ORDER BY Rank ASC',\n",
       " 'Primary MMAD Epic Board',\n",
       " 'unknown',\n",
       " 'pogliani')"
      ]
     },
     "metadata": {},
     "output_type": "display_data"
    },
    {
     "data": {
      "text/plain": [
       "(41972,\n",
       " 'project = MDEC ORDER BY Rank ASC',\n",
       " 'Filter for MMAEC Data Scrum',\n",
       " 'unknown',\n",
       " 'pogliani')"
      ]
     },
     "metadata": {},
     "output_type": "display_data"
    },
    {
     "data": {
      "text/plain": [
       "(41972,\n",
       " 'project = MDEC ORDER BY Rank ASC',\n",
       " 'Filter for MMAEC Data Scrum',\n",
       " 'unknown',\n",
       " 'pogliani')"
      ]
     },
     "metadata": {},
     "output_type": "display_data"
    },
    {
     "data": {
      "text/plain": [
       "(38440,\n",
       " 'project = MP ORDER BY Rank ASC',\n",
       " 'Filter for Motor Product Board',\n",
       " 'unknown',\n",
       " 'pogliani')"
      ]
     },
     "metadata": {},
     "output_type": "display_data"
    },
    {
     "data": {
      "text/plain": [
       "(39210,\n",
       " 'project = \"DC Motorcycle\"  or project = CSS AND \"Delivery Stream\" = \"Digital: Motorcycle\"  OR project = \"Research & Development\" AND \"Delivery Stream\" = \"Digital: Motorcycle\" ORDER BY Rank ASC',\n",
       " 'Motorcycle: Product Backlog',\n",
       " 'unknown',\n",
       " 'pogliani')"
      ]
     },
     "metadata": {},
     "output_type": "display_data"
    },
    {
     "data": {
      "text/plain": [
       "(25248,\n",
       " 'project = \"Infrastructure Prioritization\"',\n",
       " 'INFP - Epic link',\n",
       " 'unknown',\n",
       " 'pogliani')"
      ]
     },
     "metadata": {},
     "output_type": "display_data"
    },
    {
     "data": {
      "text/plain": [
       "(23286,\n",
       " 'assignee in (zkapper,acotton,ayorke) AND status not in (Closed) ORDER BY duedate ASC',\n",
       " 'Zita Team Tasks',\n",
       " 'unknown',\n",
       " 'pogliani')"
      ]
     },
     "metadata": {},
     "output_type": "display_data"
    },
    {
     "data": {
      "text/plain": [
       "(42859,\n",
       " 'project = NSA21 AND type not in (Story, Epic) AND (resolution = Unresolved OR resolutiondate > startOfDay(-3w)) ORDER BY rank',\n",
       " 'Filter for Network Kanban',\n",
       " 'unknown',\n",
       " 'pogliani')"
      ]
     },
     "metadata": {},
     "output_type": "display_data"
    },
    {
     "data": {
      "text/plain": [
       "(19055,\n",
       " 'category = \"Online Applications\" ORDER BY Rank ASC',\n",
       " 'Filter for Life 2',\n",
       " 'unknown',\n",
       " 'pogliani')"
      ]
     },
     "metadata": {},
     "output_type": "display_data"
    },
    {
     "data": {
      "text/plain": [
       "(38438,\n",
       " 'project = TPFPR ORDER BY Rank ASC',\n",
       " 'Filter for New Workflow Test',\n",
       " 'unknown',\n",
       " 'pogliani')"
      ]
     },
     "metadata": {},
     "output_type": "display_data"
    },
    {
     "data": {
      "text/plain": [
       "(42907,\n",
       " 'project = NO ORDER BY Rank ASC',\n",
       " 'Filter for NO Fortnightly Sprints',\n",
       " 'unknown',\n",
       " 'pogliani')"
      ]
     },
     "metadata": {},
     "output_type": "display_data"
    },
    {
     "data": {
      "text/plain": [
       "(39024,\n",
       " 'project = NSA20 ORDER BY Rank ASC',\n",
       " 'Filter for NS Sprint',\n",
       " 'unknown',\n",
       " 'pogliani')"
      ]
     },
     "metadata": {},
     "output_type": "display_data"
    },
    {
     "data": {
      "text/plain": [
       "(38483,\n",
       " 'project = NSA20 ORDER BY Rank ASC',\n",
       " 'Filter for NSA20 Project',\n",
       " 'unknown',\n",
       " 'pogliani')"
      ]
     },
     "metadata": {},
     "output_type": "display_data"
    },
    {
     "data": {
      "text/plain": [
       "(40344,\n",
       " '(project = NSA21 AND type in (\"Support Escalation\", BAU, task, \"small change\") OR project = \"Business Continuity Planning\" and assignee = dcramp) AND (resolution = Unresolved OR resolutiondate > startOfDay(-2w)) ORDER BY created ASC',\n",
       " 'Filter for NSA21 Kanban Board',\n",
       " 'unknown',\n",
       " 'pogliani')"
      ]
     },
     "metadata": {},
     "output_type": "display_data"
    },
    {
     "data": {
      "text/plain": [
       "(43037,\n",
       " 'project = NXGEN AND issuetype in (Bug, Defect, Spike, Story, Task, \"UAT Defect\") AND labels != timesheet ORDER BY Rank ASC',\n",
       " 'Filter for NXGEN Refinement',\n",
       " 'unknown',\n",
       " 'pogliani')"
      ]
     },
     "metadata": {},
     "output_type": "display_data"
    },
    {
     "data": {
      "text/plain": [
       "(20401,\n",
       " 'project = \"PIR16 On / Off Channel Transition\" ORDER BY Rank ASC',\n",
       " 'Filter for On/Off Channel Transition',\n",
       " 'unknown',\n",
       " 'pogliani')"
      ]
     },
     "metadata": {},
     "output_type": "display_data"
    },
    {
     "data": {
      "text/plain": [
       "(18108,\n",
       " 'stream = Online AND cf[11370] = \"Customer Journey / New Functionality\" ORDER BY Rank ASC',\n",
       " 'Online - Customer Journey',\n",
       " 'unknown',\n",
       " 'pogliani')"
      ]
     },
     "metadata": {},
     "output_type": "display_data"
    },
    {
     "data": {
      "text/plain": [
       "(19408,\n",
       " '\"Epic Link\" in (LIFE-1) AND project in (Life, \"NFS - Core\", \"NFS - Components\", \"NFS - BRANDS\", \"NFS - Themes\") ORDER BY Rank ASC',\n",
       " 'Online - Life Express + Disc Web Integration',\n",
       " 'unknown',\n",
       " 'pogliani')"
      ]
     },
     "metadata": {},
     "output_type": "display_data"
    },
    {
     "data": {
      "text/plain": [
       "(24797,\n",
       " 'project = PMQSA ORDER BY Rank ASC',\n",
       " 'Filter for Online - Policy Manager Roadmap',\n",
       " 'unknown',\n",
       " 'pogliani')"
      ]
     },
     "metadata": {},
     "output_type": "display_data"
    },
    {
     "data": {
      "text/plain": [
       "(18525,\n",
       " 'Stream = Online and status not in (Closed, Done)',\n",
       " 'Online - Incomplete',\n",
       " 'unknown',\n",
       " 'pogliani')"
      ]
     },
     "metadata": {},
     "output_type": "display_data"
    },
    {
     "data": {
      "text/plain": [
       "(19397,\n",
       " 'project in (\"Level 1\", \"Level 2\", \"Level 3\", \" Infrastructure Projects and Improvements\", \"IT Service Desk\") OR assignee in (zzlevel1, zinflead, zlvl3lead) OR Stream = Infrastructure ORDER BY Rank ASC',\n",
       " 'Level 3 - Kanban',\n",
       " 'unknown',\n",
       " 'pogliani')"
      ]
     },
     "metadata": {},
     "output_type": "display_data"
    },
    {
     "data": {
      "text/plain": [
       "(37580,\n",
       " 'project = ENGAGE AND issuetype = Engagement AND status not in (superseded, done, cancelled) AND \"Delivery Stream\" in (\"Central DevOps\", \"Infrastructure: Information Security\", \"Infrastructure: Service Delivery\", \"Infrastructure: Tech Operations\", \"Infrastructure: Tech Services\", \"Multiple Delivery Streams\") ORDER BY Rank',\n",
       " 'Operational Engage Pipeline',\n",
       " 'unknown',\n",
       " 'pogliani')"
      ]
     },
     "metadata": {},
     "output_type": "display_data"
    },
    {
     "data": {
      "text/plain": [
       "(25183,\n",
       " 'project = MDEC ORDER BY Rank ASC',\n",
       " 'Filter for OPM KANBAN',\n",
       " 'unknown',\n",
       " 'pogliani')"
      ]
     },
     "metadata": {},
     "output_type": "display_data"
    },
    {
     "data": {
      "text/plain": [
       "(34683,\n",
       " 'project = \"OPM Master Backlog\"  OR project = CSS AND \"Delivery Stream\" = \"Digital: Service 1 (OPM)\" OR project = \"Research & Development\" AND \"Delivery Stream\" = \"Digital: Service 1 (OPM)\" ORDER BY Rank ASC',\n",
       " 'OPM Master Backlog',\n",
       " 'unknown',\n",
       " 'pogliani')"
      ]
     },
     "metadata": {},
     "output_type": "display_data"
    },
    {
     "data": {
      "text/plain": [
       "(38432,\n",
       " 'project in (CSS, RAD, SVE1, SVC3) AND issuetype in (Bug, Defect, Story, Task) AND status in (\"Waiting to Go Live\", Closed, \"Awaiting Release Review\", \"Post Implementation Review\", \"Go Live Scheduled\", Done, \"Production Testing\", \"Deploy To Pre Prod\", \"Pre Prod Testing\", \"Deploy To Production\") AND \"Delivery Stream\" in (\"Digital: Service 3 (OPM)\", \"Digital: Service 1 (OPM)\") ORDER BY summary ASC',\n",
       " 'OPM Go Live Cycle',\n",
       " 'unknown',\n",
       " 'pogliani')"
      ]
     },
     "metadata": {},
     "output_type": "display_data"
    },
    {
     "data": {
      "text/plain": [
       "(23720,\n",
       " 'project in (PMQSA) AND assignee in (esturm, craaen, sdrake, anesvadba, rmcconnell, daclark, hchen, janthony, ashteiniko, xplooy, amkhan, rcarpio, achen, fsantilles)',\n",
       " 'RL - OPMQSA',\n",
       " 'unknown',\n",
       " 'pogliani')"
      ]
     },
     "metadata": {},
     "output_type": "display_data"
    },
    {
     "data": {
      "text/plain": [
       "(34004,\n",
       " 'project = OSA19 AND issuetype != initiative ORDER BY Rank ASC',\n",
       " 'OSA19',\n",
       " 'unknown',\n",
       " 'pogliani')"
      ]
     },
     "metadata": {},
     "output_type": "display_data"
    },
    {
     "data": {
      "text/plain": [
       "(24748,\n",
       " 'project = PARKING ORDER BY Rank ASC',\n",
       " 'Filter for PARKING board',\n",
       " 'unknown',\n",
       " 'pogliani')"
      ]
     },
     "metadata": {},
     "output_type": "display_data"
    },
    {
     "data": {
      "text/plain": [
       "(43008,\n",
       " 'project = PART ORDER BY Rank ASC',\n",
       " 'Filter for Part PreProd/Production',\n",
       " 'unknown',\n",
       " 'pogliani')"
      ]
     },
     "metadata": {},
     "output_type": "display_data"
    },
    {
     "data": {
      "text/plain": [
       "(28980,\n",
       " 'cf[11370] = Partnerships and status not in (Closed,Done,Parked)',\n",
       " 'Category - Partnerships (Open)',\n",
       " 'unknown',\n",
       " 'pogliani')"
      ]
     },
     "metadata": {},
     "output_type": "display_data"
    },
    {
     "data": {
      "text/plain": [
       "(29390,\n",
       " 'project = PAYM ORDER BY Rank ASC',\n",
       " 'Filter for PCI DSS Compliance',\n",
       " 'unknown',\n",
       " 'pogliani')"
      ]
     },
     "metadata": {},
     "output_type": "display_data"
    },
    {
     "data": {
      "text/plain": [
       "(32105,\n",
       " 'fixVersion=\"PCI-DSS Compliance 2018\"',\n",
       " 'PCI DSS Compliance 2018',\n",
       " 'unknown',\n",
       " 'pogliani')"
      ]
     },
     "metadata": {},
     "output_type": "display_data"
    },
    {
     "data": {
      "text/plain": [
       "(38714,\n",
       " 'project = PHI AND (\"Epic Link\" not in (PHI-9) OR \"Epic Link\" is EMPTY) ORDER BY Rank ASC',\n",
       " 'PET Business Kanban',\n",
       " 'unknown',\n",
       " 'pogliani')"
      ]
     },
     "metadata": {},
     "output_type": "display_data"
    },
    {
     "data": {
      "text/plain": [
       "(38702,\n",
       " '(project = PHI OR project = CSS AND \"Delivery Stream\" = \"Digital: Pet\" OR project = \"Research & Development\" AND \"Delivery Stream\" = \"Digital: Pet\" ) and issuetype not in (Task) ORDER BY Rank ASC',\n",
       " 'Filter for PHI Development',\n",
       " 'unknown',\n",
       " 'pogliani')"
      ]
     },
     "metadata": {},
     "output_type": "display_data"
    },
    {
     "data": {
      "text/plain": [
       "(43730,\n",
       " 'project = HAL AND issuetype = Epic ORDER BY Rank ASC',\n",
       " 'Filter for HAL AGP Tracker',\n",
       " 'unknown',\n",
       " 'pogliani')"
      ]
     },
     "metadata": {},
     "output_type": "display_data"
    },
    {
     "data": {
      "text/plain": [
       "(41081,\n",
       " 'project = PHX ORDER BY Rank ASC',\n",
       " 'Filter for PHX',\n",
       " 'unknown',\n",
       " 'pogliani')"
      ]
     },
     "metadata": {},
     "output_type": "display_data"
    },
    {
     "data": {
      "text/plain": [
       "(39755,\n",
       " 'project = SVP ORDER BY Rank ASC',\n",
       " 'Filter for Portfolio Group',\n",
       " 'unknown',\n",
       " 'pogliani')"
      ]
     },
     "metadata": {},
     "output_type": "display_data"
    },
    {
     "data": {
      "text/plain": [
       "(40698,\n",
       " 'project = POW ORDER BY Rank ASC',\n",
       " 'Filter for POW board',\n",
       " 'unknown',\n",
       " 'pogliani')"
      ]
     },
     "metadata": {},
     "output_type": "display_data"
    },
    {
     "data": {
      "text/plain": [
       "(43030,\n",
       " 'project = AGP AND \"Sponsoring Business Area\" = \"BAU - Product\" and \"Delivery Capability Demand\" = \"Business Analyst\"  ORDER BY Rank ASC',\n",
       " 'Filter for Product Delivery',\n",
       " 'unknown',\n",
       " 'pogliani')"
      ]
     },
     "metadata": {},
     "output_type": "display_data"
    },
    {
     "data": {
      "text/plain": [
       "(32782,\n",
       " 'project in (SDA17, TSA17, OSA17) AND issuetype = Epic ORDER BY cf[14682] ASC',\n",
       " 'Program (Epic Management)',\n",
       " 'unknown',\n",
       " 'pogliani')"
      ]
     },
     "metadata": {},
     "output_type": "display_data"
    },
    {
     "data": {
      "text/plain": [
       "(42539,\n",
       " 'project = AGP and issuetype in (bundle, Opportunity) AND (statusCategory != done OR statusCategory = done AND resolutiondate > -90d) ORDER BY Rank ASC',\n",
       " 'Filter for Copy of Auto&General Portfolio (FLOW)',\n",
       " 'unknown',\n",
       " 'pogliani')"
      ]
     },
     "metadata": {},
     "output_type": "display_data"
    },
    {
     "data": {
      "text/plain": [
       "(38727, 'labels = ProHub_UAT', 'ProHubDelivery', 'unknown', 'pogliani')"
      ]
     },
     "metadata": {},
     "output_type": "display_data"
    },
    {
     "data": {
      "text/plain": [
       "(26685,\n",
       " 'project in(UTL,EVT) ORDER BY Rank ASC',\n",
       " 'Filter for Project Everest - Deployment board',\n",
       " 'unknown',\n",
       " 'pogliani')"
      ]
     },
     "metadata": {},
     "output_type": "display_data"
    },
    {
     "data": {
      "text/plain": [
       "(35922,\n",
       " 'project = CTMCP AND reporter in (melghazoua) AND text ~ awards',\n",
       " 'Providers & Partners',\n",
       " 'unknown',\n",
       " 'pogliani')"
      ]
     },
     "metadata": {},
     "output_type": "display_data"
    },
    {
     "data": {
      "text/plain": [
       "(35922,\n",
       " 'project = CTMCP AND reporter in (melghazoua) AND text ~ awards',\n",
       " 'Providers & Partners',\n",
       " 'unknown',\n",
       " 'pogliani')"
      ]
     },
     "metadata": {},
     "output_type": "display_data"
    },
    {
     "data": {
      "text/plain": [
       "(32090,\n",
       " '(status in (UAT, \"Go Live Scheduled\", \"Post Implementation Review\") AND (project in (Support, \"Pricing, Underwriting & Finance\", Sales1, Sales2, \"Service 1\", \"Service 2\") AND labels in (HOME, MOTOR))) OR (assignee = nmalik and status not in (Done, Closed, \"On Hold\", \"Awaiting Feedback\"))',\n",
       " 'UAT_Neha ',\n",
       " 'unknown',\n",
       " 'pogliani')"
      ]
     },
     "metadata": {},
     "output_type": "display_data"
    },
    {
     "data": {
      "text/plain": [
       "(37936,\n",
       " 'project = EUAT ORDER BY Rank ASC',\n",
       " 'Filter for Eagle UAT',\n",
       " 'unknown',\n",
       " 'pogliani')"
      ]
     },
     "metadata": {},
     "output_type": "display_data"
    },
    {
     "data": {
      "text/plain": [
       "(33186,\n",
       " 'project = ENGAGE AND issuetype != \"Small Change\" AND status = Done ORDER BY Rank ASC',\n",
       " 'Filter for Copy of ENGAGE through Development',\n",
       " 'unknown',\n",
       " 'pogliani')"
      ]
     },
     "metadata": {},
     "output_type": "display_data"
    },
    {
     "data": {
      "text/plain": [
       "(19603,\n",
       " 'assignee = rcowin AND resolution = Unresolved AND NOT status in (Closed, Done) AND project != \"Other Time\"',\n",
       " \"Filter for Ray's KANBAN\",\n",
       " 'unknown',\n",
       " 'pogliani')"
      ]
     },
     "metadata": {},
     "output_type": "display_data"
    },
    {
     "data": {
      "text/plain": [
       "(44684,\n",
       " 'project = RCR ORDER BY Rank ASC',\n",
       " 'Filter for RCR board',\n",
       " 'unknown',\n",
       " 'pogliani')"
      ]
     },
     "metadata": {},
     "output_type": "display_data"
    },
    {
     "data": {
      "text/plain": [
       "(44685,\n",
       " 'project = RCR ORDER BY Rank ASC',\n",
       " 'Filter for RCR Sprints',\n",
       " 'unknown',\n",
       " 'pogliani')"
      ]
     },
     "metadata": {},
     "output_type": "display_data"
    },
    {
     "data": {
      "text/plain": [
       "(44097,\n",
       " 'project = CSS ORDER BY Rank ASC',\n",
       " 'Filter for Reece-Test-Board',\n",
       " 'unknown',\n",
       " 'pogliani')"
      ]
     },
     "metadata": {},
     "output_type": "display_data"
    },
    {
     "data": {
      "text/plain": [
       "(40029,\n",
       " 'project = RND or project = Support and \"Delivery Stream\" = \"Non Digital: R&D\"  ORDER BY Rank ASC',\n",
       " 'Filter for Research and Development',\n",
       " 'unknown',\n",
       " 'pogliani')"
      ]
     },
     "metadata": {},
     "output_type": "display_data"
    },
    {
     "data": {
      "text/plain": [
       "(38953,\n",
       " 'project = RET ORDER BY Rank ASC',\n",
       " 'Filter for RET board',\n",
       " 'unknown',\n",
       " 'pogliani')"
      ]
     },
     "metadata": {},
     "output_type": "display_data"
    },
    {
     "data": {
      "text/plain": [
       "(31897,\n",
       " 'project = CSPD ORDER BY Rank ASC',\n",
       " 'Filter for Reuben Kanban Test',\n",
       " 'unknown',\n",
       " 'pogliani')"
      ]
     },
     "metadata": {},
     "output_type": "display_data"
    },
    {
     "data": {
      "text/plain": [
       "(26382,\n",
       " 'labels = MOTORCOSTVERTICAL ORDER BY Rank ASC',\n",
       " 'Reuben - Test',\n",
       " 'unknown',\n",
       " 'pogliani')"
      ]
     },
     "metadata": {},
     "output_type": "display_data"
    },
    {
     "data": {
      "text/plain": [
       "(37331,\n",
       " 'project = RIPO ORDER BY Rank ASC',\n",
       " 'Filter for RIPO board',\n",
       " 'unknown',\n",
       " 'pogliani')"
      ]
     },
     "metadata": {},
     "output_type": "display_data"
    },
    {
     "data": {
      "text/plain": [
       "(40336,\n",
       " 'project = \"Risk & Compliance\" OR project = CSS AND \"Delivery Stream\" = RNC OR project = \"Research & Development\" AND \"Delivery Stream\" = RNC ORDER BY Rank ASC',\n",
       " 'Filter for Risk & Compliance - splitting',\n",
       " 'unknown',\n",
       " 'pogliani')"
      ]
     },
     "metadata": {},
     "output_type": "display_data"
    },
    {
     "data": {
      "text/plain": [
       "(37371,\n",
       " 'project = RIPO AND \"Epic Link\" = RIPO-68',\n",
       " 'Filter for Risk Tech',\n",
       " 'unknown',\n",
       " 'pogliani')"
      ]
     },
     "metadata": {},
     "output_type": "display_data"
    },
    {
     "data": {
      "text/plain": [
       "(33683,\n",
       " 'project in (OSA17, SDA17, TSA17) AND issuetype = Epic',\n",
       " 'EPICs - Open',\n",
       " 'unknown',\n",
       " 'pogliani')"
      ]
     },
     "metadata": {},
     "output_type": "display_data"
    },
    {
     "data": {
      "text/plain": [
       "(38504,\n",
       " 'project = SA ORDER BY createdDate DESC, updatedDate DESC',\n",
       " 'Filter for SA board',\n",
       " 'unknown',\n",
       " 'pogliani')"
      ]
     },
     "metadata": {},
     "output_type": "display_data"
    },
    {
     "data": {
      "text/plain": [
       "(31284,\n",
       " '(\"Epic Link\" = SLS1-12 OR assignee = zslslead) AND status not in (Done, Closed, Resolved)',\n",
       " 'Sales Team - Support Filter',\n",
       " 'unknown',\n",
       " 'pogliani')"
      ]
     },
     "metadata": {},
     "output_type": "display_data"
    },
    {
     "data": {
      "text/plain": [
       "(42007,\n",
       " 'project = AGP AND issuetype in (Bundle, Opportunity) AND status in (\"To Do\", Concept, Verifying, Initiate, Opportunity, \"Ready To Start\", Doing, Embedding, \"Opportunity Triage\") AND resolution = Unresolved AND \"Technology Teams\" in (\"Infrastructure Cloud Services\", \"Infrastructure Network Services\", \"Infrastructure Service Delivery\", \"Infrastructure Technical Services\",\"Infrastructure Core Services\") ORDER BY priority DESC, updated DESC',\n",
       " 'INF AGP-s',\n",
       " 'unknown',\n",
       " 'pogliani')"
      ]
     },
     "metadata": {},
     "output_type": "display_data"
    },
    {
     "data": {
      "text/plain": [
       "(30981,\n",
       " 'project = SDA17 and issuetype != Initiative ORDER BY Rank ASC',\n",
       " 'SDA17 Filter',\n",
       " 'unknown',\n",
       " 'pogliani')"
      ]
     },
     "metadata": {},
     "output_type": "display_data"
    },
    {
     "data": {
      "text/plain": [
       "(30981,\n",
       " 'project = SDA17 and issuetype != Initiative ORDER BY Rank ASC',\n",
       " 'SDA17 Filter',\n",
       " 'unknown',\n",
       " 'pogliani')"
      ]
     },
     "metadata": {},
     "output_type": "display_data"
    },
    {
     "data": {
      "text/plain": [
       "(33994,\n",
       " 'project = SDA19 ORDER BY Rank ASC',\n",
       " 'Filter for SDA19 board',\n",
       " 'unknown',\n",
       " 'pogliani')"
      ]
     },
     "metadata": {},
     "output_type": "display_data"
    },
    {
     "data": {
      "text/plain": [
       "(30908,\n",
       " 'project in (\"OPM Dashboard\", \"Customer Journey OPM\") AND NOT issuetype in subTaskIssueTypes() AND status not in (Done, Closed) AND assignee in (bgorman, jpresland, xplooy, rmcconnell, janthony, jshepard, ztan, kweston) ORDER BY Rank ASC',\n",
       " 'Service 1 - CSS work allocated',\n",
       " 'unknown',\n",
       " 'pogliani')"
      ]
     },
     "metadata": {},
     "output_type": "display_data"
    },
    {
     "data": {
      "text/plain": [
       "(30907,\n",
       " 'project in (\"OPM Dashboard\", \"Customer Journey OPM\") AND NOT issuetype in subTaskIssueTypes() AND status not in (Done, Closed) AND assignee in (bgorman, jpresland, xplooy, rmcconnell, janthony, jshepard, ztan, kweston) ORDER BY Rank ASC',\n",
       " 'Service 1 - URF + Projects work allocated',\n",
       " 'unknown',\n",
       " 'pogliani')"
      ]
     },
     "metadata": {},
     "output_type": "display_data"
    },
    {
     "data": {
      "text/plain": [
       "(29897,\n",
       " 'project = SICBRO OR \"Delivery Stream\"=\"Non Digital: Partnerships\" ORDER BY Rank ASC',\n",
       " 'Filter for SICBRO board',\n",
       " 'unknown',\n",
       " 'pogliani')"
      ]
     },
     "metadata": {},
     "output_type": "display_data"
    },
    {
     "data": {
      "text/plain": [
       "(31222,\n",
       " 'issue in linkedIssues(EVT-1715) OR labels in (TechnicalEpic) ORDER BY Rank ASC',\n",
       " 'Ctm - Simples - User Stories EPICs',\n",
       " 'unknown',\n",
       " 'pogliani')"
      ]
     },
     "metadata": {},
     "output_type": "display_data"
    },
    {
     "data": {
      "text/plain": [
       "(31221,\n",
       " '(project = SMP OR \"Dev Team\" = \"Simples Squad\") ORDER BY Rank ASC',\n",
       " 'Filter for Simples Everest',\n",
       " 'unknown',\n",
       " 'pogliani')"
      ]
     },
     "metadata": {},
     "output_type": "display_data"
    },
    {
     "data": {
      "text/plain": [
       "(30683,\n",
       " '(project = SMP OR \"Dev Team\" = \"Simples Squad\") AND type not in (Epic, Initiative) ORDER BY Rank ASC',\n",
       " 'Filter for SMP board',\n",
       " 'unknown',\n",
       " 'pogliani')"
      ]
     },
     "metadata": {},
     "output_type": "display_data"
    },
    {
     "data": {
      "text/plain": [
       "(27114,\n",
       " 'project = SP ORDER BY Rank ASC',\n",
       " 'Filter for SP board',\n",
       " 'unknown',\n",
       " 'pogliani')"
      ]
     },
     "metadata": {},
     "output_type": "display_data"
    },
    {
     "data": {
      "text/plain": [
       "(19564,\n",
       " 'project = \"Claims & Assessing Projects\" ORDER BY Rank ASC',\n",
       " 'Filter for SPD',\n",
       " 'unknown',\n",
       " 'pogliani')"
      ]
     },
     "metadata": {},
     "output_type": "display_data"
    },
    {
     "data": {
      "text/plain": [
       "(38453,\n",
       " 'project = SPV ORDER BY Rank ASC',\n",
       " 'Filter for SPV board',\n",
       " 'unknown',\n",
       " 'pogliani')"
      ]
     },
     "metadata": {},
     "output_type": "display_data"
    },
    {
     "data": {
      "text/plain": [
       "(38975,\n",
       " 'project = SRC ORDER BY Rank ASC',\n",
       " 'Filter for SRC Scrum Board',\n",
       " 'unknown',\n",
       " 'pogliani')"
      ]
     },
     "metadata": {},
     "output_type": "display_data"
    },
    {
     "data": {
      "text/plain": [
       "(34986,\n",
       " 'project = SSABIATL ORDER BY Rank ASC',\n",
       " 'Filter for SSABIATL Kanban Board',\n",
       " 'unknown',\n",
       " 'pogliani')"
      ]
     },
     "metadata": {},
     "output_type": "display_data"
    },
    {
     "data": {
      "text/plain": [
       "(36891,\n",
       " 'project = SSCI ORDER BY Rank ASC',\n",
       " 'Filter for SSCI board',\n",
       " 'unknown',\n",
       " 'pogliani')"
      ]
     },
     "metadata": {},
     "output_type": "display_data"
    },
    {
     "data": {
      "text/plain": [
       "(45595,\n",
       " 'project = NP ORDER BY Rank ASC',\n",
       " 'Filter for Super App Discovery Work',\n",
       " 'unknown',\n",
       " 'pogliani')"
      ]
     },
     "metadata": {},
     "output_type": "display_data"
    },
    {
     "data": {
      "text/plain": [
       "(32488,\n",
       " 'project = \"Technical Services FY17/18\" AND issuetype = \"Support Escalation\" AND status != Done ORDER BY assignee DESC, updatedDate DESC',\n",
       " 'Support Escalations',\n",
       " 'unknown',\n",
       " 'pogliani')"
      ]
     },
     "metadata": {},
     "output_type": "display_data"
    },
    {
     "data": {
      "text/plain": [
       "(19005,\n",
       " 'stream = online AND cf[11370] = Support AND status in (\"In Progress\", Open, \"To Do\", Rework, Reopened) AND Key not in (EBO-1929) ORDER BY priority, key',\n",
       " 'Online Support - Open/In Progress',\n",
       " 'unknown',\n",
       " 'pogliani')"
      ]
     },
     "metadata": {},
     "output_type": "display_data"
    },
    {
     "data": {
      "text/plain": [
       "(40562,\n",
       " 'project = \"Service 2\" OR project = CSS AND \"Delivery Stream\" = \"Digital: Service 2 (Claims)\" OR project = \"Research & Development\" AND \"Delivery Stream\" = \"Digital: Service 2 (Claims)\" OR project = \"Technology Initiatives and Development\" AND \"Delivery Stream\" = \"Digital: Service 2 (Claims)\"  ORDER BY Rank ASC',\n",
       " 'SVC2 filter',\n",
       " 'unknown',\n",
       " 'pogliani')"
      ]
     },
     "metadata": {},
     "output_type": "display_data"
    },
    {
     "data": {
      "text/plain": [
       "(39753,\n",
       " 'project = SVP ORDER BY Rank ASC',\n",
       " 'Filter for SVP board',\n",
       " 'unknown',\n",
       " 'pogliani')"
      ]
     },
     "metadata": {},
     "output_type": "display_data"
    },
    {
     "data": {
      "text/plain": [
       "(40264,\n",
       " 'project = \"A&G Group Portfolio\" AND type = Opportunity AND status not in (opportunity, \"Opportunity Triage\", closed, Cancelled, Done) AND fixVersion !~ \"Delete this\" AND \"Portfolio Change Type\" != \"High Value Low Effort\" AND ( \"Delivery ETA\"  <= 2020-09-30 or \"Desired Live Date\" <= 2020-09-30)',\n",
       " 'Filter for SVP Quarterly View - 2020 - 21',\n",
       " 'unknown',\n",
       " 'pogliani')"
      ]
     },
     "metadata": {},
     "output_type": "display_data"
    },
    {
     "data": {
      "text/plain": [
       "(39408,\n",
       " 'project = TAGP ORDER BY Rank ASC',\n",
       " 'Filter for TAGP-Digital',\n",
       " 'unknown',\n",
       " 'pogliani')"
      ]
     },
     "metadata": {},
     "output_type": "display_data"
    },
    {
     "data": {
      "text/plain": [
       "(32783,\n",
       " 'project = Sales1 OR project = Sales2 OR project = \"Service 1\" OR project = \"Service 2\" OR project = \"DC Lifestyle\" OR project = \"Workflow, Data, Doco\" OR project = \"ND Contact Centre\" OR project = \"Pricing, Underwriting & Finance\" OR project = \"Partnerships Scrum Inclusive Bucket\" AND status = \"Deploy To Pre Prod\" ORDER BY \"Deployment Date\"',\n",
       " 'Technology Deployment Cycle',\n",
       " 'unknown',\n",
       " 'pogliani')"
      ]
     },
     "metadata": {},
     "output_type": "display_data"
    },
    {
     "data": {
      "text/plain": [
       "(38966,\n",
       " 'project = TLT ORDER BY Rank ASC',\n",
       " 'Filter for Technology Leadership Taskboard',\n",
       " 'unknown',\n",
       " 'pogliani')"
      ]
     },
     "metadata": {},
     "output_type": "display_data"
    },
    {
     "data": {
      "text/plain": [
       "(34584,\n",
       " 'project = BIABAU ORDER BY Rank ASC',\n",
       " 'Filter for TEST',\n",
       " 'unknown',\n",
       " 'pogliani')"
      ]
     },
     "metadata": {},
     "output_type": "display_data"
    },
    {
     "data": {
      "text/plain": [
       "(20203,\n",
       " 'project = \"M&D-Existing Customers\" ORDER BY Rank ASC',\n",
       " 'Filter for Test',\n",
       " 'unknown',\n",
       " 'pogliani')"
      ]
     },
     "metadata": {},
     "output_type": "display_data"
    },
    {
     "data": {
      "text/plain": [
       "(39408,\n",
       " 'project = TAGP ORDER BY Rank ASC',\n",
       " 'Filter for TAGP-Digital',\n",
       " 'unknown',\n",
       " 'pogliani')"
      ]
     },
     "metadata": {},
     "output_type": "display_data"
    },
    {
     "data": {
      "text/plain": [
       "(38451,\n",
       " 'project = \"Claims & Assessing Change Delivery\" AND \"Software/Application\" = Audanet ORDER BY Rank ASC',\n",
       " 'Test Board Filter',\n",
       " 'unknown',\n",
       " 'pogliani')"
      ]
     },
     "metadata": {},
     "output_type": "display_data"
    },
    {
     "data": {
      "text/plain": [
       "(29683,\n",
       " 'project = MDECD ORDER BY Rank ASC',\n",
       " 'Filter for TEST DIGITAL SCRUM',\n",
       " 'unknown',\n",
       " 'pogliani')"
      ]
     },
     "metadata": {},
     "output_type": "display_data"
    },
    {
     "data": {
      "text/plain": [
       "(39752,\n",
       " 'project = TDT ORDER BY Rank ASC',\n",
       " 'Filter for Test Dis Test',\n",
       " 'unknown',\n",
       " 'pogliani')"
      ]
     },
     "metadata": {},
     "output_type": "display_data"
    },
    {
     "data": {
      "text/plain": [
       "(21481,\n",
       " 'project = ISD AND Team = \"Technical Services\" ORDER BY Rank ASC',\n",
       " 'Filter for Test ISD',\n",
       " 'unknown',\n",
       " 'pogliani')"
      ]
     },
     "metadata": {},
     "output_type": "display_data"
    },
    {
     "data": {
      "text/plain": [
       "(38977,\n",
       " 'project = TPFJB AND issuetype in (Story, Task) AND status in (\"To Do\", \"Sprint Ready\", \"Refinement Ready\") ORDER BY updated',\n",
       " 'Backlog Mng Filter',\n",
       " 'unknown',\n",
       " 'pogliani')"
      ]
     },
     "metadata": {},
     "output_type": "display_data"
    },
    {
     "data": {
      "text/plain": [
       "(40338,\n",
       " 'project = \"Distribution Delivery Testing\" AND labels = Reporting ORDER BY Rank ASC',\n",
       " 'Test Reporting',\n",
       " 'unknown',\n",
       " 'pogliani')"
      ]
     },
     "metadata": {},
     "output_type": "display_data"
    },
    {
     "data": {
      "text/plain": [
       "(37490,\n",
       " 'project = CAD ORDER BY Rank ASC',\n",
       " 'Filter for Test1',\n",
       " 'unknown',\n",
       " 'pogliani')"
      ]
     },
     "metadata": {},
     "output_type": "display_data"
    },
    {
     "data": {
      "text/plain": [
       "(33486,\n",
       " 'project = TI ORDER BY Rank ASC',\n",
       " 'Filter for TI board',\n",
       " 'unknown',\n",
       " 'pogliani')"
      ]
     },
     "metadata": {},
     "output_type": "display_data"
    },
    {
     "data": {
      "text/plain": [
       "(35286,\n",
       " 'project in (\"Technical Infrastructure Changes\") ORDER BY Rank ASC',\n",
       " '*********',\n",
       " 'unknown',\n",
       " 'pogliani')"
      ]
     },
     "metadata": {},
     "output_type": "display_data"
    },
    {
     "data": {
      "text/plain": [
       "(41384,\n",
       " 'project = TID ORDER BY Rank ASC',\n",
       " 'Filter for Technical Errors',\n",
       " 'unknown',\n",
       " 'pogliani')"
      ]
     },
     "metadata": {},
     "output_type": "display_data"
    },
    {
     "data": {
      "text/plain": [
       "(40385,\n",
       " 'project = TID ORDER BY Rank ASC',\n",
       " 'Filter for TID Kanban',\n",
       " 'unknown',\n",
       " 'pogliani')"
      ]
     },
     "metadata": {},
     "output_type": "display_data"
    },
    {
     "data": {
      "text/plain": [
       "(40384,\n",
       " 'project = TID ORDER BY Rank ASC',\n",
       " 'Filter for TID Board ',\n",
       " 'unknown',\n",
       " 'pogliani')"
      ]
     },
     "metadata": {},
     "output_type": "display_data"
    },
    {
     "data": {
      "text/plain": [
       "(36881,\n",
       " 'project = TPFJB ORDER BY Rank ASC',\n",
       " 'Filter for TPFJB board',\n",
       " 'unknown',\n",
       " 'pogliani')"
      ]
     },
     "metadata": {},
     "output_type": "display_data"
    },
    {
     "data": {
      "text/plain": [
       "(38455,\n",
       " 'project = TPREP ORDER BY Rank ASC',\n",
       " 'Filter for TPREP board',\n",
       " 'unknown',\n",
       " 'pogliani')"
      ]
     },
     "metadata": {},
     "output_type": "display_data"
    },
    {
     "data": {
      "text/plain": [
       "(42412,\n",
       " 'project = TR ORDER BY Rank ASC',\n",
       " 'Filter for TR board',\n",
       " 'unknown',\n",
       " 'pogliani')"
      ]
     },
     "metadata": {},
     "output_type": "display_data"
    },
    {
     "data": {
      "text/plain": [
       "(40313,\n",
       " 'labels = ContentFY21 OR \"Epic Link\" in (MMAD-1918, MMAD-1930, MMAD-1928, MMAD-1927, MMAD-1937, MMAD-1926, MMAD-1936, MMAD-1925, MMAD-1935, MMAD-1934, MMAD-1933, MMAD-1932, MMAD-1931, MMAD-3549, MMAD-3556, MMAD-3385) ORDER BY duedate DESC',\n",
       " 'Content FY21',\n",
       " 'unknown',\n",
       " 'pogliani')"
      ]
     },
     "metadata": {},
     "output_type": "display_data"
    },
    {
     "data": {
      "text/plain": [
       "(29780,\n",
       " '(reporter = charty AND project in (MDNC, MDEC)) AND status not in (Closed, Done) ORDER BY Rank ASC',\n",
       " 'Cathy Reporter',\n",
       " 'unknown',\n",
       " 'pogliani')"
      ]
     },
     "metadata": {},
     "output_type": "display_data"
    },
    {
     "data": {
      "text/plain": [
       "(30912,\n",
       " 'project in (17623) AND issuetype in standardIssueTypes() AND issuetype != initiative ORDER BY Rank ASC',\n",
       " 'Filter for TSA17 board v2',\n",
       " 'unknown',\n",
       " 'pogliani')"
      ]
     },
     "metadata": {},
     "output_type": "display_data"
    },
    {
     "data": {
      "text/plain": [
       "(43793,\n",
       " 'project = \"Technical Services Team\" AND (type in (Task, BAU, Compliance, \"Audit Action\", Story) AND (resolution = Unresolved OR resolutiondate > startOfDay(-10d)) OR type = EPIC AND resolution = Unresolved) ORDER BY Rank ASC',\n",
       " 'Filter for TSA Kanban',\n",
       " 'unknown',\n",
       " 'pogliani')"
      ]
     },
     "metadata": {},
     "output_type": "display_data"
    },
    {
     "data": {
      "text/plain": [
       "(30912,\n",
       " 'project in (17623) AND issuetype in standardIssueTypes() AND issuetype != initiative ORDER BY Rank ASC',\n",
       " 'Filter for TSA17 board v2',\n",
       " 'unknown',\n",
       " 'pogliani')"
      ]
     },
     "metadata": {},
     "output_type": "display_data"
    },
    {
     "data": {
      "text/plain": [
       "(34685,\n",
       " 'project = ENGAGE AND issuetype != \"Small Change\" AND (\"Delivery Stream\" not in (\"Central DevOps\", \"Infrastructure: Cloud Services\", \"Infrastructure: Information Security\", \"Infrastructure: Network Services\", \"Infrastructure: Service Delivery\", \"Infrastructure: Tech Services\") OR \"Delivery Stream\" is EMPTY) ORDER BY cf[17091] DESC',\n",
       " 'nonts',\n",
       " 'unknown',\n",
       " 'pogliani')"
      ]
     },
     "metadata": {},
     "output_type": "display_data"
    },
    {
     "data": {
      "text/plain": [
       "(32283,\n",
       " 'project = ENGAGE AND status = \"In Development\" or project = TVO',\n",
       " 'Filter for TVO Board v2',\n",
       " 'unknown',\n",
       " 'pogliani')"
      ]
     },
     "metadata": {},
     "output_type": "display_data"
    },
    {
     "data": {
      "text/plain": [
       "(35284,\n",
       " 'project = TSRM ORDER BY Rank ASC',\n",
       " 'Filter for TSRM board',\n",
       " 'unknown',\n",
       " 'pogliani')"
      ]
     },
     "metadata": {},
     "output_type": "display_data"
    },
    {
     "data": {
      "text/plain": [
       "(41399,\n",
       " 'project = TT ORDER BY Rank ASC',\n",
       " 'Filter for TT Sprint 1',\n",
       " 'unknown',\n",
       " 'pogliani')"
      ]
     },
     "metadata": {},
     "output_type": "display_data"
    },
    {
     "data": {
      "text/plain": [
       "(42553, 'project = UATT', 'Filter for UAT Defect Board', 'unknown', 'pogliani')"
      ]
     },
     "metadata": {},
     "output_type": "display_data"
    },
    {
     "data": {
      "text/plain": [
       "(42553, 'project = UATT', 'Filter for UAT Defect Board', 'unknown', 'pogliani')"
      ]
     },
     "metadata": {},
     "output_type": "display_data"
    },
    {
     "data": {
      "text/plain": [
       "(18255,\n",
       " 'issuetype = \"Creative Design\" AND status not in (Closed, Resolved) AND project not in (\"CtM Marketing\")',\n",
       " 'All Design Tickets',\n",
       " 'unknown',\n",
       " 'pogliani')"
      ]
     },
     "metadata": {},
     "output_type": "display_data"
    },
    {
     "name": "stdout",
     "output_type": "stream",
     "text": [
      "Errors 323 out of 446\n",
      "Updated 123 out of 446\n"
     ]
    }
   ],
   "source": [
    "#! Update Filter Users\n",
    "import json\n",
    "\n",
    "changeFilterOwner = df[df['requiresUpdateToFilter']]\n",
    "#changeFilterOwner = changeFilterOwner[changeFilterOwner['filter id'].isin([38941])]\n",
    "changeFilterOwner = changeFilterOwner.drop([\"boardAdmins\", \"name\", \"id\", \"boardAdminUsernames\", \"requiresUpdateToBoard\", \"newAdmins\", \"requiresUpdateToFilter\"], axis=1)\n",
    "try:\n",
    "\tchangeFilterOwner = changeFilterOwner.drop([\"boardAdmin Groups\"], axis=1)\n",
    "except:\n",
    "\tpass\n",
    "\n",
    "display(changeFilterOwner)\n",
    "\n",
    "errors = 0\n",
    "updated = 0\n",
    "for index, row in changeFilterOwner.iterrows():\n",
    "\ttry:\n",
    "\t\tfilter = fnGetFilterDetails(row['filter id'])\n",
    "\t\tresult = fnUpdateFilterOwner(row['filter id'], row['filter query'], row['filter name'], filter['description'], row['newFilterOwner'])\n",
    "\t\tif ('errorMessages' in result):\n",
    "\t\t\tdisplay(result.errorMessage)\n",
    "\t\t\terrors = errors + 1\n",
    "\t\telse:\n",
    "\t\t\tupdated = updated + 1\n",
    "\texcept:\n",
    "\t\tdisplay(\"Error updating\", (row['filter id'], row['filter query'], row['filter name'], row['newFilterOwner']))\n",
    "\t\terrors = errors + 1\n",
    "\n",
    "if errors > 0 :\n",
    "    print (f\"Errors {errors} out of {len(changeFilterOwner.index)}\")\n",
    "\n",
    "if updated > 0:\n",
    "\tprint (f\"Updated {updated} out of {len(changeFilterOwner.index)}\")\n",
    "else:\n",
    "\tprint (\"Clean!\")\n"
   ]
  }
 ],
 "metadata": {
  "kernelspec": {
   "display_name": "Python 3",
   "language": "python",
   "name": "python3"
  },
  "language_info": {
   "codemirror_mode": {
    "name": "ipython",
    "version": 3
   },
   "file_extension": ".py",
   "mimetype": "text/x-python",
   "name": "python",
   "nbconvert_exporter": "python",
   "pygments_lexer": "ipython3",
   "version": "3.11.6"
  }
 },
 "nbformat": 4,
 "nbformat_minor": 2
}
